{
  "name": "L1-Model_prompt_parser.ipynb",
  "path": "L1-Model_prompt_parser.ipynb",
  "last_modified": "2023-06-01T11:54:27.755000Z",
  "created": "2023-06-08T23:40:34.839000Z",
  "content": {
    "cells": [
      {
        "cell_type": "markdown",
        "id": "073bf8f9",
        "metadata": {},
        "source": "# LangChain: Models, Prompts and Output Parsers\n\n\n## Outline\n\n * Direct API calls to OpenAI\n * API calls through LangChain:\n   * Prompts\n   * Models\n   * Output parsers"
      },
      {
        "cell_type": "markdown",
        "id": "a01ff606",
        "metadata": {},
        "source": "## Get your [OpenAI API Key](https://platform.openai.com/account/api-keys)"
      },
      {
        "cell_type": "code",
        "execution_count": null,
        "id": "70aa2619",
        "metadata": {
          "trusted": false
        },
        "outputs": [],
        "source": "#!pip install python-dotenv\n#!pip install openai"
      },
      {
        "cell_type": "code",
        "execution_count": null,
        "id": "b7ed03ed-1322-49e3-b2a2-33e94fb592ef",
        "metadata": {
          "tags": [],
          "trusted": false
        },
        "outputs": [],
        "source": "import os\nimport openai\n\nfrom dotenv import load_dotenv, find_dotenv\n_ = load_dotenv(find_dotenv()) # read local .env file\nopenai.api_key = os.environ['OPENAI_API_KEY']"
      },
      {
        "cell_type": "markdown",
        "id": "bbad9cdb",
        "metadata": {},
        "source": "## Chat API : OpenAI\n\nLet's start with a direct API calls to OpenAI."
      },
      {
        "cell_type": "code",
        "execution_count": null,
        "id": "484bfa6a",
        "metadata": {
          "tags": [],
          "trusted": false
        },
        "outputs": [],
        "source": "def get_completion(prompt, model=\"gpt-3.5-turbo\"):\n    messages = [{\"role\": \"user\", \"content\": prompt}]\n    response = openai.ChatCompletion.create(\n        model=model,\n        messages=messages,\n        temperature=0, \n    )\n    return response.choices[0].message[\"content\"]\n"
      },
      {
        "cell_type": "code",
        "execution_count": null,
        "id": "a1d076ce",
        "metadata": {
          "tags": [],
          "trusted": false
        },
        "outputs": [],
        "source": "get_completion(\"What is 1+1?\")"
      },
      {
        "cell_type": "code",
        "execution_count": null,
        "id": "1b32b57a",
        "metadata": {
          "tags": [],
          "trusted": false
        },
        "outputs": [],
        "source": "customer_email = \"\"\"\nArrr, I be fuming that me blender lid \\\nflew off and splattered me kitchen walls \\\nwith smoothie! And to make matters worse,\\\nthe warranty don't cover the cost of \\\ncleaning up me kitchen. I need yer help \\\nright now, matey!\n\"\"\""
      },
      {
        "cell_type": "code",
        "execution_count": null,
        "id": "18c34459",
        "metadata": {
          "tags": [],
          "trusted": false
        },
        "outputs": [],
        "source": "style = \"\"\"American English \\\nin a calm and respectful tone\n\"\"\""
      },
      {
        "cell_type": "code",
        "execution_count": null,
        "id": "80b558e2",
        "metadata": {
          "tags": [],
          "trusted": false
        },
        "outputs": [],
        "source": "prompt = f\"\"\"Translate the text \\\nthat is delimited by triple backticks \ninto a style that is {style}.\ntext: ```{customer_email}```\n\"\"\"\n\nprint(prompt)"
      },
      {
        "cell_type": "code",
        "execution_count": null,
        "id": "c883dcbd",
        "metadata": {
          "tags": [],
          "trusted": false
        },
        "outputs": [],
        "source": "response = get_completion(prompt)"
      },
      {
        "cell_type": "code",
        "execution_count": null,
        "id": "99b33f61",
        "metadata": {
          "tags": [],
          "trusted": false
        },
        "outputs": [],
        "source": "response"
      },
      {
        "cell_type": "markdown",
        "id": "f80482d1",
        "metadata": {},
        "source": "## Chat API : LangChain\n\nLet's try how we can do the same using LangChain."
      },
      {
        "cell_type": "code",
        "execution_count": null,
        "id": "3a525b58",
        "metadata": {
          "tags": [],
          "trusted": false
        },
        "outputs": [],
        "source": "#!pip install --upgrade langchain"
      },
      {
        "cell_type": "markdown",
        "id": "a25c5b27",
        "metadata": {},
        "source": "### Model"
      },
      {
        "cell_type": "code",
        "execution_count": null,
        "id": "f0d4a269",
        "metadata": {
          "tags": [],
          "trusted": false
        },
        "outputs": [],
        "source": "from langchain.chat_models import ChatOpenAI"
      },
      {
        "cell_type": "code",
        "execution_count": null,
        "id": "1cc0c8b8",
        "metadata": {
          "tags": [],
          "trusted": false
        },
        "outputs": [],
        "source": "# To control the randomness and creativity of the generated\n# text by an LLM, use temperature = 0.0\nchat = ChatOpenAI(temperature=0.0)\nchat"
      },
      {
        "cell_type": "markdown",
        "id": "b4d07256",
        "metadata": {},
        "source": "### Prompt template"
      },
      {
        "cell_type": "code",
        "execution_count": null,
        "id": "57bda7d8",
        "metadata": {
          "tags": [],
          "trusted": false
        },
        "outputs": [],
        "source": "template_string = \"\"\"Translate the text \\\nthat is delimited by triple backticks \\\ninto a style that is {style}. \\\ntext: ```{text}```\n\"\"\""
      },
      {
        "cell_type": "code",
        "execution_count": null,
        "id": "3a31f246",
        "metadata": {
          "tags": [],
          "trusted": false
        },
        "outputs": [],
        "source": "from langchain.prompts import ChatPromptTemplate\n\nprompt_template = ChatPromptTemplate.from_template(template_string)\n"
      },
      {
        "cell_type": "code",
        "execution_count": null,
        "id": "cac2cb16",
        "metadata": {
          "tags": [],
          "trusted": false
        },
        "outputs": [],
        "source": "prompt_template.messages[0].prompt"
      },
      {
        "cell_type": "code",
        "execution_count": null,
        "id": "cdc5566c",
        "metadata": {
          "tags": [],
          "trusted": false
        },
        "outputs": [],
        "source": "prompt_template.messages[0].prompt.input_variables"
      },
      {
        "cell_type": "code",
        "execution_count": null,
        "id": "bbd51a93",
        "metadata": {
          "tags": [],
          "trusted": false
        },
        "outputs": [],
        "source": "customer_style = \"\"\"American English \\\nin a calm and respectful tone\n\"\"\""
      },
      {
        "cell_type": "code",
        "execution_count": null,
        "id": "48989d11",
        "metadata": {
          "tags": [],
          "trusted": false
        },
        "outputs": [],
        "source": "customer_email = \"\"\"\nArrr, I be fuming that me blender lid \\\nflew off and splattered me kitchen walls \\\nwith smoothie! And to make matters worse, \\\nthe warranty don't cover the cost of \\\ncleaning up me kitchen. I need yer help \\\nright now, matey!\n\"\"\""
      },
      {
        "cell_type": "code",
        "execution_count": null,
        "id": "dff3954f",
        "metadata": {
          "tags": [],
          "trusted": false
        },
        "outputs": [],
        "source": "customer_messages = prompt_template.format_messages(\n                    style=customer_style,\n                    text=customer_email)"
      },
      {
        "cell_type": "code",
        "execution_count": null,
        "id": "8c09d8b4",
        "metadata": {
          "tags": [],
          "trusted": false
        },
        "outputs": [],
        "source": "print(type(customer_messages))\nprint(type(customer_messages[0]))"
      },
      {
        "cell_type": "code",
        "execution_count": null,
        "id": "e02dafa2",
        "metadata": {
          "tags": [],
          "trusted": false
        },
        "outputs": [],
        "source": "print(customer_messages[0])"
      },
      {
        "cell_type": "code",
        "execution_count": null,
        "id": "bd789f9f",
        "metadata": {
          "tags": [],
          "trusted": false
        },
        "outputs": [],
        "source": "# Call the LLM to translate to the style of the customer message\ncustomer_response = chat(customer_messages)"
      },
      {
        "cell_type": "code",
        "execution_count": null,
        "id": "ad294407",
        "metadata": {
          "tags": [],
          "trusted": false
        },
        "outputs": [],
        "source": "print(customer_response.content)"
      },
      {
        "cell_type": "code",
        "execution_count": null,
        "id": "7c267e5f",
        "metadata": {
          "tags": [],
          "trusted": false
        },
        "outputs": [],
        "source": "service_reply = \"\"\"Hey there customer, \\\nthe warranty does not cover \\\ncleaning expenses for your kitchen \\\nbecause it's your fault that \\\nyou misused your blender \\\nby forgetting to put the lid on before \\\nstarting the blender. \\\nTough luck! See ya!\n\"\"\""
      },
      {
        "cell_type": "code",
        "execution_count": null,
        "id": "2ff72bd1",
        "metadata": {
          "tags": [],
          "trusted": false
        },
        "outputs": [],
        "source": "service_style_pirate = \"\"\"\\\na polite tone \\\nthat speaks in English Pirate\\\n\"\"\""
      },
      {
        "cell_type": "code",
        "execution_count": null,
        "id": "7d9e8f3f",
        "metadata": {
          "tags": [],
          "trusted": false
        },
        "outputs": [],
        "source": "service_messages = prompt_template.format_messages(\n    style=service_style_pirate,\n    text=service_reply)\n\nprint(service_messages[0].content)"
      },
      {
        "cell_type": "code",
        "execution_count": null,
        "id": "a0ae5552",
        "metadata": {
          "tags": [],
          "trusted": false
        },
        "outputs": [],
        "source": "service_response = chat(service_messages)\nprint(service_response.content)"
      },
      {
        "cell_type": "markdown",
        "id": "36536e79",
        "metadata": {},
        "source": "## Output Parsers\n\nLet's start with defining how we would like the LLM output to look like:"
      },
      {
        "cell_type": "code",
        "execution_count": null,
        "id": "f1ccdff5",
        "metadata": {
          "tags": [],
          "trusted": false
        },
        "outputs": [],
        "source": "{\n  \"gift\": False,\n  \"delivery_days\": 5,\n  \"price_value\": \"pretty affordable!\"\n}"
      },
      {
        "cell_type": "code",
        "execution_count": null,
        "id": "df0f4680",
        "metadata": {
          "tags": [],
          "trusted": false
        },
        "outputs": [],
        "source": "customer_review = \"\"\"\\\nThis leaf blower is pretty amazing.  It has four settings:\\\ncandle blower, gentle breeze, windy city, and tornado. \\\nIt arrived in two days, just in time for my wife's \\\nanniversary present. \\\nI think my wife liked it so much she was speechless. \\\nSo far I've been the only one using it, and I've been \\\nusing it every other morning to clear the leaves on our lawn. \\\nIt's slightly more expensive than the other leaf blowers \\\nout there, but I think it's worth it for the extra features.\n\"\"\"\n\nreview_template = \"\"\"\\\nFor the following text, extract the following information:\n\ngift: Was the item purchased as a gift for someone else? \\\nAnswer True if yes, False if not or unknown.\n\ndelivery_days: How many days did it take for the product \\\nto arrive? If this information is not found, output -1.\n\nprice_value: Extract any sentences about the value or price,\\\nand output them as a comma separated Python list.\n\nFormat the output as JSON with the following keys:\ngift\ndelivery_days\nprice_value\n\ntext: {text}\n\"\"\""
      },
      {
        "cell_type": "code",
        "execution_count": null,
        "id": "f2386e9c",
        "metadata": {
          "tags": [],
          "trusted": false
        },
        "outputs": [],
        "source": "from langchain.prompts import ChatPromptTemplate\n\nprompt_template = ChatPromptTemplate.from_template(review_template)\nprint(prompt_template)"
      },
      {
        "cell_type": "code",
        "execution_count": null,
        "id": "121bb0d4",
        "metadata": {
          "tags": [],
          "trusted": false
        },
        "outputs": [],
        "source": "messages = prompt_template.format_messages(text=customer_review)\nchat = ChatOpenAI(temperature=0.0)\nresponse = chat(messages)\nprint(response.content)\n"
      },
      {
        "cell_type": "code",
        "execution_count": null,
        "id": "10de1d28",
        "metadata": {
          "tags": [],
          "trusted": false
        },
        "outputs": [],
        "source": "type(response.content)"
      },
      {
        "cell_type": "code",
        "execution_count": null,
        "id": "3a3c0609",
        "metadata": {
          "tags": [],
          "trusted": false
        },
        "outputs": [],
        "source": "# You will get an error by running this line of code \n# because'gift' is not a dictionary\n# 'gift' is a string\nresponse.content.get('gift')"
      },
      {
        "cell_type": "markdown",
        "id": "5f7de2b8",
        "metadata": {},
        "source": "### Parse the LLM output string into a Python dictionary"
      },
      {
        "cell_type": "code",
        "execution_count": null,
        "id": "c2e0ec49",
        "metadata": {
          "tags": [],
          "trusted": false
        },
        "outputs": [],
        "source": "from langchain.output_parsers import ResponseSchema\nfrom langchain.output_parsers import StructuredOutputParser"
      },
      {
        "cell_type": "code",
        "execution_count": null,
        "id": "9dea24b4",
        "metadata": {
          "tags": [],
          "trusted": false
        },
        "outputs": [],
        "source": "gift_schema = ResponseSchema(name=\"gift\",\n                             description=\"Was the item purchased\\\n                             as a gift for someone else? \\\n                             Answer True if yes,\\\n                             False if not or unknown.\")\ndelivery_days_schema = ResponseSchema(name=\"delivery_days\",\n                                      description=\"How many days\\\n                                      did it take for the product\\\n                                      to arrive? If this \\\n                                      information is not found,\\\n                                      output -1.\")\nprice_value_schema = ResponseSchema(name=\"price_value\",\n                                    description=\"Extract any\\\n                                    sentences about the value or \\\n                                    price, and output them as a \\\n                                    comma separated Python list.\")\n\nresponse_schemas = [gift_schema, \n                    delivery_days_schema,\n                    price_value_schema]"
      },
      {
        "cell_type": "code",
        "execution_count": null,
        "id": "b57e1ba8",
        "metadata": {
          "tags": [],
          "trusted": false
        },
        "outputs": [],
        "source": "output_parser = StructuredOutputParser.from_response_schemas(response_schemas)"
      },
      {
        "cell_type": "code",
        "execution_count": null,
        "id": "fdeaf4fc",
        "metadata": {
          "tags": [],
          "trusted": false
        },
        "outputs": [],
        "source": "format_instructions = output_parser.get_format_instructions()\n"
      },
      {
        "cell_type": "code",
        "execution_count": null,
        "id": "1eb176c5",
        "metadata": {
          "tags": [],
          "trusted": false
        },
        "outputs": [],
        "source": "print(format_instructions)"
      },
      {
        "cell_type": "code",
        "execution_count": null,
        "id": "082947fc",
        "metadata": {
          "tags": [],
          "trusted": false
        },
        "outputs": [],
        "source": "review_template_2 = \"\"\"\\\nFor the following text, extract the following information:\n\ngift: Was the item purchased as a gift for someone else? \\\nAnswer True if yes, False if not or unknown.\n\ndelivery_days: How many days did it take for the product\\\nto arrive? If this information is not found, output -1.\n\nprice_value: Extract any sentences about the value or price,\\\nand output them as a comma separated Python list.\n\ntext: {text}\n\n{format_instructions}\n\"\"\"\n\nprompt = ChatPromptTemplate.from_template(template=review_template_2)\n\nmessages = prompt.format_messages(text=customer_review, \n                                format_instructions=format_instructions)"
      },
      {
        "cell_type": "code",
        "execution_count": null,
        "id": "1f1537a7",
        "metadata": {
          "tags": [],
          "trusted": false
        },
        "outputs": [],
        "source": "print(messages[0].content)"
      },
      {
        "cell_type": "code",
        "execution_count": null,
        "id": "7b663657",
        "metadata": {
          "tags": [],
          "trusted": false
        },
        "outputs": [],
        "source": "response = chat(messages)"
      },
      {
        "cell_type": "code",
        "execution_count": null,
        "id": "b8c3a9fe",
        "metadata": {
          "tags": [],
          "trusted": false
        },
        "outputs": [],
        "source": "print(response.content)"
      },
      {
        "cell_type": "code",
        "execution_count": null,
        "id": "904f1c25",
        "metadata": {
          "tags": [],
          "trusted": false
        },
        "outputs": [],
        "source": "output_dict = output_parser.parse(response.content)"
      },
      {
        "cell_type": "code",
        "execution_count": null,
        "id": "d48b647a",
        "metadata": {
          "tags": [],
          "trusted": false
        },
        "outputs": [],
        "source": "output_dict"
      },
      {
        "cell_type": "code",
        "execution_count": null,
        "id": "4346150f",
        "metadata": {
          "tags": [],
          "trusted": false
        },
        "outputs": [],
        "source": "type(output_dict)"
      },
      {
        "cell_type": "code",
        "execution_count": null,
        "id": "a833fcea",
        "metadata": {
          "tags": [],
          "trusted": false
        },
        "outputs": [],
        "source": "output_dict.get('delivery_days')"
      },
      {
        "cell_type": "code",
        "execution_count": null,
        "id": "e91db0ac",
        "metadata": {
          "trusted": false
        },
        "outputs": [],
        "source": ""
      },
      {
        "cell_type": "code",
        "execution_count": null,
        "id": "48af7b8a",
        "metadata": {
          "trusted": false
        },
        "outputs": [],
        "source": ""
      },
      {
        "cell_type": "code",
        "execution_count": null,
        "id": "7ff0c64f",
        "metadata": {
          "trusted": false
        },
        "outputs": [],
        "source": ""
      },
      {
        "cell_type": "code",
        "execution_count": null,
        "id": "9b54ebdc",
        "metadata": {
          "trusted": false
        },
        "outputs": [],
        "source": ""
      },
      {
        "cell_type": "code",
        "execution_count": null,
        "id": "6bde670c",
        "metadata": {
          "trusted": false
        },
        "outputs": [],
        "source": ""
      },
      {
        "cell_type": "code",
        "execution_count": null,
        "id": "ebeb6959",
        "metadata": {
          "trusted": false
        },
        "outputs": [],
        "source": ""
      },
      {
        "cell_type": "code",
        "execution_count": null,
        "id": "ba128b9d",
        "metadata": {
          "trusted": false
        },
        "outputs": [],
        "source": ""
      },
      {
        "cell_type": "code",
        "execution_count": null,
        "id": "2284b4be",
        "metadata": {
          "trusted": false
        },
        "outputs": [],
        "source": ""
      },
      {
        "cell_type": "code",
        "execution_count": null,
        "id": "38d6a0f7",
        "metadata": {
          "trusted": false
        },
        "outputs": [],
        "source": ""
      }
    ],
    "metadata": {
      "kernelspec": {
        "display_name": "Python 3 (ipykernel)",
        "language": "python",
        "name": "python3"
      },
      "language_info": {
        "codemirror_mode": {
          "name": "ipython",
          "version": 3
        },
        "file_extension": ".py",
        "mimetype": "text/x-python",
        "name": "python",
        "nbconvert_exporter": "python",
        "pygments_lexer": "ipython3",
        "version": "3.10.9"
      }
    },
    "nbformat": 4,
    "nbformat_minor": 5
  },
  "format": "json",
  "mimetype": null,
  "size": 18865,
  "writable": true,
  "type": "notebook"
}
