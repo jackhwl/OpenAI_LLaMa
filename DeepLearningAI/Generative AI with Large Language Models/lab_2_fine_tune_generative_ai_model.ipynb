// 20230708184635
// https://gist.githubusercontent.com/prasadwrites/cae481cd46c2f9a7a8a824682b120931/raw/0f87e25030daefd474af6dcc3d40b691b326e302/lab_2_fine_tune_generative_ai_model.ipynb

{
    "cells": [
      {
        "cell_type": "markdown",
        "metadata": {
          "id": "view-in-github",
          "colab_type": "text"
        },
        "source": [
          "<a href=\"https://colab.research.google.com/gist/prasadwrites/cae481cd46c2f9a7a8a824682b120931/lab_2_fine_tune_generative_ai_model.ipynb\" target=\"_parent\"><img src=\"https://colab.research.google.com/assets/colab-badge.svg\" alt=\"Open In Colab\"/></a>"
        ]
      },
      {
        "cell_type": "markdown",
        "metadata": {
          "id": "gkhDQ9ReEAw2"
        },
        "source": [
          "In this notebook, you will fine-tune an existing LLM from Hugging Face for enhanced dialogue summarization. You will use the [FLAN-T5](https://huggingface.co/docs/transformers/model_doc/flan-t5) model, which provides a high quality instruction tuned model and can summarize text out of the box. To improve the inferences, you will explore a full fine-tuning approach and evaluate the results with ROUGE metrics. Then you will perform Parameter Efficient Fine-Tuning (PEFT), evaluate the resulting model and see that the benefits of PEFT outweigh the slightly-lower performance metrics."
        ]
      },
      {
        "cell_type": "markdown",
        "metadata": {
          "id": "crTN094GEAw3"
        },
        "source": [
          "# Table of Contents"
        ]
      },
      {
        "cell_type": "markdown",
        "metadata": {
          "tags": [
            
          ],
          "id": "iMIRZTcoEAw3"
        },
        "source": [
          "- [ 1 - Set up Kernel, Load Required Dependencies, Dataset and LLM](#1)\n",
          "  - [ 1.1 - Set up Kernel and Required Dependencies](#1.1)\n",
          "  - [ 1.2 - Load Dataset and LLM](#1.2)\n",
          "  - [ 1.3 - Test the Model with Zero Shot Inferencing](#1.3)\n",
          "- [ 2 - Perform Full Fine-Tuning](#2)\n",
          "  - [ 2.1 - Preprocess the Dialog-Summary Dataset](#2.1)\n",
          "  - [ 2.2 - Fine-Tune the Model with the Preprocessed Dataset](#2.2)\n",
          "  - [ 2.3 - Evaluate the Model Qualitatively (Human Evaluation)](#2.3)\n",
          "  - [ 2.4 - Evaluate the Model Quantitatively (with ROUGE Metric)](#2.4)\n",
          "- [ 3 - Perform Parameter Efficient Fine-Tuning (PEFT)](#3)\n",
          "  - [ 3.1 - Setup the PEFT/LoRA model for Fine-Tuning](#3.1)\n",
          "  - [ 3.2 - Train PEFT Adapter](#3.2)\n",
          "  - [ 3.3 - Evaluate the Model Qualitatively (Human Evaluation)](#3.3)\n",
          "  - [ 3.4 - Evaluate the Model Quantitatively (with ROUGE Metric)](#3.4)"
        ]
      },
      {
        "cell_type": "markdown",
        "metadata": {
          "id": "uWVcRTE-EAw4"
        },
        "source": [
          "<a name='1'></a>\n",
          "## 1 - Set up Kernel, Load Required Dependencies, Dataset and LLM"
        ]
      },
      {
        "cell_type": "markdown",
        "metadata": {
          "id": "ujX8G-8nEAw4"
        },
        "source": [
          "<a name='1.1'></a>\n",
          "### 1.1 - Set up Kernel and Required Dependencies"
        ]
      },
      {
        "cell_type": "markdown",
        "metadata": {
          "tags": [
            
          ],
          "id": "J0xn93EJEAw4"
        },
        "source": [
          "To begin with, check that the kernel is selected correctly.\n",
          "\n",
          "<img src=\"images/kernel_set_up.png\" width=\"300\"/>\n",
          "\n",
          "If you click on that (top right of the screen), you'll be able to see and check the details of the image, kernel, and instance type.\n",
          "\n",
          "<img src=\"images/w2_kernel_and_instance_type.png\" width=\"600\"/>"
        ]
      },
      {
        "cell_type": "markdown",
        "metadata": {
          "tags": [
            
          ],
          "id": "-4DxqtQ0EAw5"
        },
        "source": [
          "Now install the required packages for the LLM and datasets.\n",
          "\n",
          "<img src=\"data:image/svg+xml;base64,Cjxzdmcgd2lkdGg9IjgwMCIgaGVpZ2h0PSIxMjUiIHZpZXdCb3g9IjAgMCA4MDAgMTI1IiB4bWxucz0iaHR0cDovL3d3dy53My5vcmcvMjAwMC9zdmciPgogICAgPGRlZnM+CiAgICAgICAgPGxpbmVhckdyYWRpZW50IGlkPSJmYWRlR3JhZGllbnQiIHgxPSIwIiB4Mj0iMSI+CiAgICAgICAgICAgIDxzdG9wIG9mZnNldD0iMCUiIHN0b3AtY29sb3I9IiNGMEYwRjAiLz4KICAgICAgICAgICAgPHN0b3Agb2Zmc2V0PSIxMDAlIiBzdG9wLWNvbG9yPSIjRjBGMEYwIiBzdG9wLW9wYWNpdHk9IjAiLz4KICAgICAgICA8L2xpbmVhckdyYWRpZW50PgogICAgICAgIDxtYXNrIGlkPSJmYWRlTWFzayI+CiAgICAgICAgICAgIDxyZWN0IHg9IjAiIHk9IjAiIHdpZHRoPSI3NTAiIGhlaWdodD0iMTI1IiBmaWxsPSJ3aGl0ZSIvPgogICAgICAgICAgICA8cmVjdCB4PSI3NTAiIHk9IjAiIHdpZHRoPSI1MCIgaGVpZ2h0PSIxMjUiIGZpbGw9InVybCgjZmFkZUdyYWRpZW50KSIvPgogICAgICAgIDwvbWFzaz4KICAgIDwvZGVmcz4KICAgIDxwYXRoIGQ9Ik0zLDUwIEE1MCw1MCAwIDAgMSA1MywzIEw3OTcsMyBMNzk3LDk3IEw5Nyw5NyBMNTAsMTE1IEwzLDk3IFoiIGZpbGw9IiNGMEYwRjAiIHN0cm9rZT0iI0UwRTBFMCIgc3Ryb2tlLXdpZHRoPSIxIiBtYXNrPSJ1cmwoI2ZhZGVNYXNrKSIvPgogICAgPGNpcmNsZSBjeD0iNTAiIGN5PSI1MCIgcj0iMzAiIGZpbGw9IiM1N2M0ZjgiIHN0cm9rZT0iIzU3YzRmOCIgc3Ryb2tlLXdpZHRoPSIxIi8+CiAgICA8Y2lyY2xlIGN4PSI1MCIgY3k9IjUwIiByPSIyNSIgZmlsbD0iI0YwRjBGMCIvPgogICAgPGxpbmUgeDE9IjUwIiB5MT0iNTAiIHgyPSI1MCIgeTI9IjMwIiBzdHJva2U9IiM1N2M0ZjgiIHN0cm9rZS13aWR0aD0iMyIgc3Ryb2tlLWxpbmVjYXA9InJvdW5kIi8+CiAgICA8bGluZSB4MT0iNTAiIHkxPSI1MCIgeDI9IjY1IiB5Mj0iNTAiIHN0cm9rZT0iIzU3YzRmOCIgc3Ryb2tlLXdpZHRoPSIzIiBzdHJva2UtbGluZWNhcD0icm91bmQiLz4KICAgIDx0ZXh0IHg9IjEwMCIgeT0iMzQiIGZvbnQtZmFtaWx5PSJBcmlhbCwgc2Fucy1zZXJpZiIgZm9udC1zaXplPSIxNCIgZmlsbD0iIzMzMzMzMyI+VGhlIG5leHQgY2VsbCBtYXkgdGFrZSBhIGZldyBtaW51dGVzIHRvIHJ1bi4gUGxlYXNlIGJlIHBhdGllbnQuPC90ZXh0PgogICAgPHRleHQgeD0iMTAwIiB5PSI1NiIgZm9udC1mYW1pbHk9IkFyaWFsLCBzYW5zLXNlcmlmIiBmb250LXNpemU9IjE0IiBmaWxsPSIjMzMzMzMzIj5JZ25vcmUgdGhlIHdhcm5pbmdzIGFuZCBlcnJvcnMsIGFsb25nIHdpdGggdGhlIG5vdGUgYWJvdXQgcmVzdGFydGluZyB0aGUga2VybmVsIGF0IHRoZSBlbmQuPC90ZXh0Pgo8L3N2Zz4K\" alt=\"Time alert open medium\"/>"
        ]
      },
      {
        "cell_type": "code",
        "execution_count": null,
        "metadata": {
          "tags": [
            
          ],
          "colab": {
            "base_uri": "https://localhost:8080/"
          },
          "id": "oEOqAJDIEAw6",
          "outputId": "8231fd5f-381c-4b0e-d928-b2ece43698ef"
        },
        "outputs": [
          {
            "output_type": "stream",
            "name": "stdout",
            "text": [
              "Requirement already satisfied: pip in /usr/local/lib/python3.10/dist-packages (23.1.2)\n",
              "\u001b[2K     \u001b[90m━━━━━━━━━━━━━━━━━━━━━━━━━━━━━━━━━━━━━━━\u001b[0m \u001b[32m887.5/887.5 MB\u001b[0m \u001b[31m1.8 MB/s\u001b[0m eta \u001b[36m0:00:00\u001b[0m\n",
              "\u001b[2K     \u001b[90m━━━━━━━━━━━━━━━━━━━━━━━━━━━━━━━━━━━━━━━━\u001b[0m \u001b[32m4.6/4.6 MB\u001b[0m \u001b[31m84.6 MB/s\u001b[0m eta \u001b[36m0:00:00\u001b[0m\n",
              "\u001b[2K     \u001b[90m━━━━━━━━━━━━━━━━━━━━━━━━━━━━━━━━━━━━━━\u001b[0m \u001b[32m849.3/849.3 kB\u001b[0m \u001b[31m59.4 MB/s\u001b[0m eta \u001b[36m0:00:00\u001b[0m\n",
              "\u001b[2K     \u001b[90m━━━━━━━━━━━━━━━━━━━━━━━━━━━━━━━━━━━━━━━\u001b[0m \u001b[32m557.1/557.1 MB\u001b[0m \u001b[31m2.7 MB/s\u001b[0m eta \u001b[36m0:00:00\u001b[0m\n",
              "\u001b[2K     \u001b[90m━━━━━━━━━━━━━━━━━━━━━━━━━━━━━━━━━━━━━━━\u001b[0m \u001b[32m317.1/317.1 MB\u001b[0m \u001b[31m2.4 MB/s\u001b[0m eta \u001b[36m0:00:00\u001b[0m\n",
              "\u001b[2K     \u001b[90m━━━━━━━━━━━━━━━━━━━━━━━━━━━━━━━━━━━━━━━━\u001b[0m \u001b[32m21.0/21.0 MB\u001b[0m \u001b[31m72.2 MB/s\u001b[0m eta \u001b[36m0:00:00\u001b[0m\n",
              "\u001b[?25h\u001b[31mERROR: pip's dependency resolver does not currently take into account all the packages that are installed. This behaviour is the source of the following dependency conflicts.\n",
              "torchaudio 2.0.2+cu118 requires torch==2.0.1, but you have torch 1.13.1 which is incompatible.\n",
              "torchtext 0.15.2 requires torch==2.0.1, but you have torch 1.13.1 which is incompatible.\n",
              "torchtext 0.15.2 requires torchdata==0.6.1, but you have torchdata 0.5.1 which is incompatible.\n",
              "torchvision 0.15.2+cu118 requires torch==2.0.1, but you have torch 1.13.1 which is incompatible.\u001b[0m\u001b[31m\n",
              "\u001b[2K     \u001b[90m━━━━━━━━━━━━━━━━━━━━━━━━━━━━━━━━━━━━━━━━\u001b[0m \u001b[32m6.8/6.8 MB\u001b[0m \u001b[31m40.8 MB/s\u001b[0m eta \u001b[36m0:00:00\u001b[0m\n",
              "\u001b[2K     \u001b[90m━━━━━━━━━━━━━━━━━━━━━━━━━━━━━━━━━━━━━━\u001b[0m \u001b[32m468.7/468.7 kB\u001b[0m \u001b[31m33.5 MB/s\u001b[0m eta \u001b[36m0:00:00\u001b[0m\n",
              "\u001b[2K     \u001b[90m━━━━━━━━━━━━━━━━━━━━━━━━━━━━━━━━━━━━━━━━\u001b[0m \u001b[32m81.4/81.4 kB\u001b[0m \u001b[31m7.5 MB/s\u001b[0m eta \u001b[36m0:00:00\u001b[0m\n",
              "\u001b[?25h  Preparing metadata (setup.py) ... \u001b[?25l\u001b[?25hdone\n",
              "\u001b[2K     \u001b[90m━━━━━━━━━━━━━━━━━━━━━━━━━━━━━━━━━━━━━━━━\u001b[0m \u001b[32m56.8/56.8 kB\u001b[0m \u001b[31m6.1 MB/s\u001b[0m eta \u001b[36m0:00:00\u001b[0m\n",
              "\u001b[2K     \u001b[90m━━━━━━━━━━━━━━━━━━━━━━━━━━━━━━━━━━━━━━\u001b[0m \u001b[32m236.8/236.8 kB\u001b[0m \u001b[31m16.2 MB/s\u001b[0m eta \u001b[36m0:00:00\u001b[0m\n",
              "\u001b[2K     \u001b[90m━━━━━━━━━━━━━━━━━━━━━━━━━━━━━━━━━━━━━━━━\u001b[0m \u001b[32m7.8/7.8 MB\u001b[0m \u001b[31m63.6 MB/s\u001b[0m eta \u001b[36m0:00:00\u001b[0m\n",
              "\u001b[2K     \u001b[90m━━━━━━━━━━━━━━━━━━━━━━━━━━━━━━━━━━━━━━\u001b[0m \u001b[32m110.5/110.5 kB\u001b[0m \u001b[31m11.4 MB/s\u001b[0m eta \u001b[36m0:00:00\u001b[0m\n",
              "\u001b[2K     \u001b[90m━━━━━━━━━━━━━━━━━━━━━━━━━━━━━━━━━━━━━━\u001b[0m \u001b[32m212.5/212.5 kB\u001b[0m \u001b[31m16.8 MB/s\u001b[0m eta \u001b[36m0:00:00\u001b[0m\n",
              "\u001b[2K     \u001b[90m━━━━━━━━━━━━━━━━━━━━━━━━━━━━━━━━━━━━━━\u001b[0m \u001b[32m134.3/134.3 kB\u001b[0m \u001b[31m14.2 MB/s\u001b[0m eta \u001b[36m0:00:00\u001b[0m\n",
              "\u001b[2K     \u001b[90m━━━━━━━━━━━━━━━━━━━━━━━━━━━━━━━━━━━━━━\u001b[0m \u001b[32m227.6/227.6 kB\u001b[0m \u001b[31m21.2 MB/s\u001b[0m eta \u001b[36m0:00:00\u001b[0m\n",
              "\u001b[?25h  Building wheel for rouge_score (setup.py) ... \u001b[?25l\u001b[?25hdone\n"
            ]
          }
        ],
        "source": [
          "%pip install --upgrade pip\n",
          "%pip install --disable-pip-version-check \\\n",
          "    torch==1.13.1 \\\n",
          "    torchdata==0.5.1 --quiet\n",
          "\n",
          "%pip install \\\n",
          "    transformers==4.27.2 \\\n",
          "    datasets==2.11.0 \\\n",
          "    evaluate==0.4.0 \\\n",
          "    rouge_score==0.1.2 \\\n",
          "    loralib==0.1.1 \\\n",
          "    peft==0.3.0 --quiet"
        ]
      },
      {
        "cell_type": "markdown",
        "metadata": {
          "tags": [
            
          ],
          "id": "-6zBKPZuEAw8"
        },
        "source": [
          "<img src=\"data:image/svg+xml;base64,Cjxzdmcgd2lkdGg9IjgwMCIgaGVpZ2h0PSI1MCIgdmlld0JveD0iMCAwIDgwMCA1MCIgeG1sbnM9Imh0dHA6Ly93d3cudzMub3JnLzIwMDAvc3ZnIj4KICAgIDxkZWZzPgogICAgICAgIDxsaW5lYXJHcmFkaWVudCBpZD0iZmFkZUdyYWRpZW50IiB4MT0iMCIgeDI9IjEiPgogICAgICAgICAgICA8c3RvcCBvZmZzZXQ9IjAlIiBzdG9wLWNvbG9yPSIjRjBGMEYwIi8+CiAgICAgICAgICAgIDxzdG9wIG9mZnNldD0iMTAwJSIgc3RvcC1jb2xvcj0iI0YwRjBGMCIgc3RvcC1vcGFjaXR5PSIwIi8+CiAgICAgICAgPC9saW5lYXJHcmFkaWVudD4KICAgICAgICA8bWFzayBpZD0iZmFkZU1hc2siPgogICAgICAgICAgICA8cmVjdCB4PSIwIiB5PSIwIiB3aWR0aD0iNzUwIiBoZWlnaHQ9IjUwIiBmaWxsPSJ3aGl0ZSIvPgogICAgICAgICAgICA8cmVjdCB4PSI3NTAiIHk9IjAiIHdpZHRoPSI1MCIgaGVpZ2h0PSI1MCIgZmlsbD0idXJsKCNmYWRlR3JhZGllbnQpIi8+CiAgICAgICAgPC9tYXNrPgogICAgPC9kZWZzPgogICAgPHBhdGggZD0iTTI1LDUwIFEwLDUwIDAsMjUgTDUwLDMgTDk3LDI1IEw3OTcsMjUgTDc5Nyw1MCBMMjUsNTAgWiIgZmlsbD0iI0YwRjBGMCIgc3Ryb2tlPSIjRTBFMEUwIiBzdHJva2Utd2lkdGg9IjEiIG1hc2s9InVybCgjZmFkZU1hc2spIi8+Cjwvc3ZnPgo=\" alt=\"Time alert close\"/>"
        ]
      },
      {
        "cell_type": "markdown",
        "metadata": {
          "tags": [
            
          ],
          "id": "hTVaoFU3EAw8"
        },
        "source": [
          "Import the necessary components. Some of them are new for this week, they will be discussed later in the notebook."
        ]
      },
      {
        "cell_type": "code",
        "execution_count": null,
        "metadata": {
          "tags": [
            
          ],
          "id": "FTWxH-S0EAw8"
        },
        "outputs": [
          
        ],
        "source": [
          "from datasets import load_dataset\n",
          "from transformers import AutoModelForSeq2SeqLM, AutoTokenizer, GenerationConfig, TrainingArguments, Trainer\n",
          "import torch\n",
          "import time\n",
          "import evaluate\n",
          "import pandas as pd\n",
          "import numpy as np"
        ]
      },
      {
        "cell_type": "markdown",
        "metadata": {
          "tags": [
            
          ],
          "id": "t5KnHOQOEAw9"
        },
        "source": [
          "<a name='1.2'></a>\n",
          "### 1.2 - Load Dataset and LLM\n",
          "\n",
          "You are going to continue experimenting with the [DialogSum](https://huggingface.co/datasets/knkarthick/dialogsum) Hugging Face dataset. It contains 10,000+ dialogues with the corresponding manually labeled summaries and topics."
        ]
      },
      {
        "cell_type": "code",
        "execution_count": null,
        "metadata": {
          "tags": [
            
          ],
          "colab": {
            "base_uri": "https://localhost:8080/",
            "height": 519,
            "referenced_widgets": [
              "1096c91e9b894ac6ba5bfccf064f6aba",
              "5b9c0116d8fb4e79a3157e93b0893a41",
              "d2aa98675f2e4b03b8610e288c0d69bc",
              "912007d0b7c74b4c9f8c00674b371d0e",
              "5f2e006bd66b4b07934350133a95ebd4",
              "c86322e47baf4379ac91eafdf7656f0e",
              "7fd49a6e66114972863dcd8670bd2b29",
              "5bd0c1718f3a4840a3a03c78246ee9f9",
              "0a92a83c454d494285b1f888e9d74e6e",
              "bc5a06121c0642a9b99732609366fd17",
              "920f53e00fb54b7aaa99cf5f5ae74333",
              "c5c6f4ce01ad40e5b28d9a9d5c412705",
              "606db3fecdf449b09b10badd4a5ee258",
              "43aeadc663f243e2a5258864769400ef",
              "a9339e3512fe418c9e02505db8a2957b",
              "336911ced5464006abfe3ad3e22ef320",
              "93c38bf896f447cfbcf26d7aa678ed12",
              "3393511265e042029f67795475ee5a80",
              "1b77791d24984827ab829baff551ce38",
              "f32f49c424bf485c93d09a1353f00c42",
              "3045e200414a4db89db9e01dd10d1883",
              "8aadcc2fe84d4a37917e18a8ea5c2cd6",
              "b2f99933110a4ad0a2167c0f7c8965d0",
              "79a6a72520a84e45bc3363cbd04667c1",
              "d50b4107a8244c6187e6ca7d1631e496",
              "e35b371d716e434b92f9f1abba175663",
              "2ff36758ca534d9eb96812aebef0f537",
              "a9455ec8d0e94de9bc9729e6559e1d23",
              "01303552b86246a2b8098b9d41470b89",
              "e2d2b4ad57f748b29ad0f4a9c5531417",
              "bf6c1e1e6bce44db88499da220321be2",
              "7eafef4d01d442cb8cbd5661a454f98e",
              "eb382d85c8904497bbf8e9cf410564a8",
              "4dea35a56f3247f4a9c25d153b9e42ee",
              "d6f4d1efc00d4911b342bd293cb8ad10",
              "d0a3cb92961b4252a55cd978fbb8dce9",
              "9cfbd004397c4196bda57c523bf3c9ed",
              "14e850bff4964cc9a8cd200e215d4581",
              "7a6d450616854a75af86c10af47c008c",
              "afe660e760e64c718e64e6aaa2bb579a",
              "00e4837333ed4532b48ef389ebc15986",
              "7789a7b1bf5b458fbf6e659b82ba2df7",
              "55104855344440d3b71e52e467f3900c",
              "043ba44201654a41bde3ececb33e5697",
              "ceaffba27a1b4e2593c68e3f4d80c50e",
              "c7be92c74ed544a28bbdab3918989a8e",
              "369718b7a8644d4097a29c41c4be2bfa",
              "76f0879b32904b08bf786769e0f6c6bc",
              "4fd1add2959d4501aa57e32d201b08cc",
              "c8800346491140f682d77f23dddb2b0f",
              "509e71963e084d13adf26b5a19f3fea4",
              "bdf56b395f0949f18c5b2caaf697362a",
              "97a0139d61b0432783a9d2dba6f58ac6",
              "e93e352853fd4145aee0b7e57e632388",
              "ae548746efda48b0982770f146f3005b",
              "1e906ba4afbc4528949ce4a2d7915465",
              "8c8d1f934546422f8ff16e6bdfe2f877",
              "e7d4eaa4040d443a90563380877914b2",
              "b450fb441cf7413ea5c16469a2de4f56",
              "11ec3355fb9144a79e278cdf2920b6c9",
              "0ef507a9a8724eae8446049b954a11e5",
              "b9d6b45d0c1e43e790db94dedeb4b675",
              "b5eb86c855d34d38abb9a11066e4ebea",
              "ff4f2550b60d47ebb865bac02909ebda",
              "5dfbacc96d0d418da04c40ab0a4260e3",
              "e7dbac3120344567aac338d1f49df4a8",
              "b1857a9bba584998b3ef5b226e03d8f3",
              "1422eb48090a4860954cfff4794c1b79",
              "857cf3d5c3b24cd5bdbe7e1bd2ad3fdd",
              "44f4796a71494bb3b140b5a183ca8379",
              "64bf0a03aff3479f90f5b65282468383",
              "336ba2958a3143ccba8edd32ec3e0e7f",
              "9697c0ebeef349069216d6436a4214b5",
              "76fbc2ad90e1476483761b22af6ddeab",
              "842bc6165d9547dbbcee93fd4f19ca22",
              "ade66f7596444b578dfcc47e2757b6b8",
              "7ea12742e48e47b5b985d5dbd64260d3",
              "4a874a806ff44d03ac6bbf284f7c2a90",
              "79bb8e7e61704f75a35296e31683a203",
              "b5e9295ddc05492281b37c3156603878",
              "32081592140442c2996a3ef3d87c4ea5",
              "c59dad50f0dc4999897e34237bc6d94d",
              "5780b845877744afb83d530304fdf543",
              "b030f3290622473ea44a4503f599152d",
              "b91bc6ffab5b408797775495756a1044",
              "527461c1e134495cb4fc87e3ea608a68",
              "e022ba76a8514c9c9d37d5399d233b82",
              "ed2bc3d03e734da6b3138cb90d4e6578",
              "4f892161e6a6450ab4944d7a58f4c661",
              "07d45d8d71c74d83bedab2a1bbe90520",
              "61b5a9d355ef49e29923d4ef1c763123",
              "8f8569c9be974f2e9f8b5c0a30c3f83c",
              "bd91a0e6c0d34594b0b946a022d143b0",
              "6c528e10dde24dfaa13e836aad6cde9f",
              "0c3ae02fdc4e43a786d2e01de26f2ac9",
              "4bb840b66b9f48b9a37b542a029093a1",
              "4b9a522cdc364da5bbca5f3bcdefb06b",
              "17c39390353044658503ef18b743dd13",
              "e91bf91b580846f7b65f37bd496347df",
              "08a82f0f6a52461e86435edf76de69e9",
              "23e8757a0e974473868db1099ee05de0",
              "10a447944d1e4ad182f61ac3cd1ed46b",
              "a9d4181acc0446a3b2e9adf845f84a07",
              "01e36a5c848044399cca88f46892259e",
              "b1e16280af974793827ea68fae0085f8",
              "153432075eba4bd3895da98db1e90ea8",
              "e048a045c2b74d869acec0c55ddfaed2",
              "08c4ddec24494d9093e84b99f218a72d",
              "5195caeef26447e2aa23d647818beefa",
              "92ab3399866a4edd947d58620eac93c5"
            ]
          },
          "id": "GJQ60WaoEAw9",
          "outputId": "c8a7c2b2-836e-425a-88a5-3e29bc679b43"
        },
        "outputs": [
          {
            "output_type": "display_data",
            "data": {
              "text/plain": [
                "Downloading readme:   0%|          | 0.00/4.56k [00:00<?, ?B/s]"
              ],
              "application/vnd.jupyter.widget-view+json": {
                "version_major": 2,
                "version_minor": 0,
                "model_id": "1096c91e9b894ac6ba5bfccf064f6aba"
              }
            },
            "metadata": {
              
            }
          },
          {
            "output_type": "stream",
            "name": "stdout",
            "text": [
              "Downloading and preparing dataset csv/knkarthick--dialogsum to /root/.cache/huggingface/datasets/knkarthick___csv/knkarthick--dialogsum-c8fac5d84cd35861/0.0.0/6954658bab30a358235fa864b05cf819af0e179325c740e4bc853bcc7ec513e1...\n"
            ]
          },
          {
            "output_type": "display_data",
            "data": {
              "text/plain": [
                "Downloading data files:   0%|          | 0/3 [00:00<?, ?it/s]"
              ],
              "application/vnd.jupyter.widget-view+json": {
                "version_major": 2,
                "version_minor": 0,
                "model_id": "c5c6f4ce01ad40e5b28d9a9d5c412705"
              }
            },
            "metadata": {
              
            }
          },
          {
            "output_type": "display_data",
            "data": {
              "text/plain": [
                "Downloading data:   0%|          | 0.00/11.3M [00:00<?, ?B/s]"
              ],
              "application/vnd.jupyter.widget-view+json": {
                "version_major": 2,
                "version_minor": 0,
                "model_id": "b2f99933110a4ad0a2167c0f7c8965d0"
              }
            },
            "metadata": {
              
            }
          },
          {
            "output_type": "display_data",
            "data": {
              "text/plain": [
                "Downloading data:   0%|          | 0.00/1.35M [00:00<?, ?B/s]"
              ],
              "application/vnd.jupyter.widget-view+json": {
                "version_major": 2,
                "version_minor": 0,
                "model_id": "4dea35a56f3247f4a9c25d153b9e42ee"
              }
            },
            "metadata": {
              
            }
          },
          {
            "output_type": "display_data",
            "data": {
              "text/plain": [
                "Downloading data:   0%|          | 0.00/442k [00:00<?, ?B/s]"
              ],
              "application/vnd.jupyter.widget-view+json": {
                "version_major": 2,
                "version_minor": 0,
                "model_id": "ceaffba27a1b4e2593c68e3f4d80c50e"
              }
            },
            "metadata": {
              
            }
          },
          {
            "output_type": "display_data",
            "data": {
              "text/plain": [
                "Extracting data files:   0%|          | 0/3 [00:00<?, ?it/s]"
              ],
              "application/vnd.jupyter.widget-view+json": {
                "version_major": 2,
                "version_minor": 0,
                "model_id": "1e906ba4afbc4528949ce4a2d7915465"
              }
            },
            "metadata": {
              
            }
          },
          {
            "output_type": "display_data",
            "data": {
              "text/plain": [
                "Generating train split: 0 examples [00:00, ? examples/s]"
              ],
              "application/vnd.jupyter.widget-view+json": {
                "version_major": 2,
                "version_minor": 0,
                "model_id": "b1857a9bba584998b3ef5b226e03d8f3"
              }
            },
            "metadata": {
              
            }
          },
          {
            "output_type": "display_data",
            "data": {
              "text/plain": [
                "Generating test split: 0 examples [00:00, ? examples/s]"
              ],
              "application/vnd.jupyter.widget-view+json": {
                "version_major": 2,
                "version_minor": 0,
                "model_id": "4a874a806ff44d03ac6bbf284f7c2a90"
              }
            },
            "metadata": {
              
            }
          },
          {
            "output_type": "display_data",
            "data": {
              "text/plain": [
                "Generating validation split: 0 examples [00:00, ? examples/s]"
              ],
              "application/vnd.jupyter.widget-view+json": {
                "version_major": 2,
                "version_minor": 0,
                "model_id": "4f892161e6a6450ab4944d7a58f4c661"
              }
            },
            "metadata": {
              
            }
          },
          {
            "output_type": "stream",
            "name": "stdout",
            "text": [
              "Dataset csv downloaded and prepared to /root/.cache/huggingface/datasets/knkarthick___csv/knkarthick--dialogsum-c8fac5d84cd35861/0.0.0/6954658bab30a358235fa864b05cf819af0e179325c740e4bc853bcc7ec513e1. Subsequent calls will reuse this data.\n"
            ]
          },
          {
            "output_type": "display_data",
            "data": {
              "text/plain": [
                "  0%|          | 0/3 [00:00<?, ?it/s]"
              ],
              "application/vnd.jupyter.widget-view+json": {
                "version_major": 2,
                "version_minor": 0,
                "model_id": "08a82f0f6a52461e86435edf76de69e9"
              }
            },
            "metadata": {
              
            }
          },
          {
            "output_type": "execute_result",
            "data": {
              "text/plain": [
                "DatasetDict({\n",
                "    train: Dataset({\n",
                "        features: ['id', 'dialogue', 'summary', 'topic'],\n",
                "        num_rows: 12460\n",
                "    })\n",
                "    test: Dataset({\n",
                "        features: ['id', 'dialogue', 'summary', 'topic'],\n",
                "        num_rows: 1500\n",
                "    })\n",
                "    validation: Dataset({\n",
                "        features: ['id', 'dialogue', 'summary', 'topic'],\n",
                "        num_rows: 500\n",
                "    })\n",
                "})"
              ]
            },
            "metadata": {
              
            },
            "execution_count": 3
          }
        ],
        "source": [
          "huggingface_dataset_name = \"knkarthick/dialogsum\"\n",
          "\n",
          "dataset = load_dataset(huggingface_dataset_name)\n",
          "\n",
          "dataset"
        ]
      },
      {
        "cell_type": "markdown",
        "metadata": {
          "tags": [
            
          ],
          "id": "SudjvAGYEAw9"
        },
        "source": [
          "Load the pre-trained [FLAN-T5 model](https://huggingface.co/docs/transformers/model_doc/flan-t5) and its tokenizer directly from HuggingFace. Notice that you will be using the [small version](https://huggingface.co/google/flan-t5-base) of FLAN-T5. Setting `torch_dtype=torch.bfloat16` specifies the memory type to be used by this model."
        ]
      },
      {
        "cell_type": "code",
        "execution_count": null,
        "metadata": {
          "tags": [
            
          ],
          "colab": {
            "base_uri": "https://localhost:8080/",
            "height": 241,
            "referenced_widgets": [
              "326bada422ce479c928a25ea2504106c",
              "07943c3a575c4676a3e9b74a808dbff4",
              "9aee77e78dde4f34af3295d5d9d8efa0",
              "44f01a82773347d2b4c5ed8eee92466d",
              "629cb55774864fc2abc209791ed04a26",
              "c393ac64aaf54b409b72e8b32bb71849",
              "aed7842d105146378727f679a97c15f0",
              "6322f64714cd433db2e4a97fc27253da",
              "f898281e30b848f8aaedc5271d81b5ea",
              "c4eafedcfc0f4277a164be28ed91f7f5",
              "8d95672f4e8f419b92b3e6610e043fa9",
              "c9b6d6cc13464da0b86e47521365691a",
              "b46640318d21480a86c5f26a6f377871",
              "577172c87ffa4c7f8efaa747ea280db7",
              "d5bbde84d96f4f83a904764f1935c075",
              "3cf95acb25d7477fbe657d4e4724ccf5",
              "d57a6648b04f436a925f5b321fad133a",
              "48a313f83d624b6e8def9e5066777b9d",
              "fc3b5fa5771f48dcabfa8993bed2d888",
              "17e282275c994a788d118c9586f17b1b",
              "edcd543dda2b468b8b0c7171b09c21e9",
              "0cbee7ac328f4fd8936cbb1d15cc0295",
              "0aa3cf691f264b54b33ce675720a822b",
              "49d5e569cd7443b98d8ef57f2a22dfe0",
              "2a04ae2583ec4849972702662c100513",
              "dcf330e521344e028a602040ecf8b925",
              "46196727e65b44abbe70e80ce93fa04c",
              "b7ed61860be543fe87aef3a9c0d0e186",
              "801f25cf519a4d88903091d37923c4d0",
              "7ab7d7dd3ba643f284115ff5e60c35de",
              "bbcbf14111d64e6eaf001b09f44986da",
              "f773efbdbc5649cbb41ae6e524ed0658",
              "45facab4790f4704867dbaea42075f58",
              "c5763ee5f0b74473ac578ee6bf18f45f",
              "0f5f782ffd2a4029988db283a08771c2",
              "a83df1fdfde747dca52a20382369487d",
              "06fa5c3caec14dcea5bd8000a9b31ba9",
              "ab545dcba59b4d0abf4edbb58ddf6eb4",
              "bc726731ae184decb5449571d637b293",
              "2c8a21d2d40942b5b72131a88c92550a",
              "d4795ea60745414882c223185216aae2",
              "75f51be04d434025908e1ab58592f107",
              "fd872046fca245f78afcd8a5bf6d4211",
              "77b63c424df44f15928f395003645d52",
              "531ab63415c84817955f21dc53244ccf",
              "dcd648c491f34917a50f7fa1b40c5e79",
              "0b5f859196f34d1e98c0bf659b21d895",
              "d2a61d6a06034f40a8a3dcd44353a236",
              "3e83e3390cd140a7a60ab8a84b29b5ed",
              "08d48b97dd5d42098df360be26017b8c",
              "59bb1701d3bf4d088ce01628a7360c37",
              "9b4a2fd0872f48baa2575da99a9f8af0",
              "4e7b515ea90f469fb9f8e86efb50a395",
              "1235436a544e47bf926327fe1a86949d",
              "5336af12fdc848838d974556b929afe7",
              "45c1dd52b196455fab81a45d04269639",
              "d77adf5a8c2641e9b50e80811b8f9788",
              "4e6e89e3f30246b6a5574a78f79f4efd",
              "93021034833341a7ab303c32640d47a1",
              "6da7fc36c03c42248f3c30fdd829213f",
              "5b756d27f5874adcbbbb3a9abc49123d",
              "0437110583cb40aca002d85cd41b0570",
              "b1b1858c4036480bb3cea7b03095d47f",
              "7198de671f924f7bbd93d9925a23c088",
              "1ab69e6fb35e4a20a051487136d7c3d5",
              "ee6362ae8f7441338b2394d9d68d819c",
              "8765b7fc8c3245038fd551aef4af2b34",
              "1d9e1bf3966140509612ac96ba7d7d77",
              "4bd84fbbe85d48849e56a96cf3e1df77",
              "2d3cf7e9e57d493b8c98a806791acf37",
              "7d71824251c24e159a428c104b4c2cd5",
              "958f053835a7435c8e4dac63a7ee7d4d",
              "203f73973e7e4a218edf2b1ec4866e23",
              "9d490f5e188342cdad257973d668f565",
              "78297beb30b44a74b5668f58df114130",
              "64f315562e474fd79dbff2aab5ed7ecf",
              "970ea2d0bc984a1ca079f8c8e893486a"
            ]
          },
          "id": "WZJMGMciEAw9",
          "outputId": "099122d8-b16e-4721-ae7c-12a689d21022"
        },
        "outputs": [
          {
            "output_type": "display_data",
            "data": {
              "text/plain": [
                "Downloading (…)lve/main/config.json:   0%|          | 0.00/1.40k [00:00<?, ?B/s]"
              ],
              "application/vnd.jupyter.widget-view+json": {
                "version_major": 2,
                "version_minor": 0,
                "model_id": "326bada422ce479c928a25ea2504106c"
              }
            },
            "metadata": {
              
            }
          },
          {
            "output_type": "display_data",
            "data": {
              "text/plain": [
                "Downloading pytorch_model.bin:   0%|          | 0.00/990M [00:00<?, ?B/s]"
              ],
              "application/vnd.jupyter.widget-view+json": {
                "version_major": 2,
                "version_minor": 0,
                "model_id": "c9b6d6cc13464da0b86e47521365691a"
              }
            },
            "metadata": {
              
            }
          },
          {
            "output_type": "display_data",
            "data": {
              "text/plain": [
                "Downloading (…)neration_config.json:   0%|          | 0.00/147 [00:00<?, ?B/s]"
              ],
              "application/vnd.jupyter.widget-view+json": {
                "version_major": 2,
                "version_minor": 0,
                "model_id": "0aa3cf691f264b54b33ce675720a822b"
              }
            },
            "metadata": {
              
            }
          },
          {
            "output_type": "display_data",
            "data": {
              "text/plain": [
                "Downloading (…)okenizer_config.json:   0%|          | 0.00/2.54k [00:00<?, ?B/s]"
              ],
              "application/vnd.jupyter.widget-view+json": {
                "version_major": 2,
                "version_minor": 0,
                "model_id": "c5763ee5f0b74473ac578ee6bf18f45f"
              }
            },
            "metadata": {
              
            }
          },
          {
            "output_type": "display_data",
            "data": {
              "text/plain": [
                "Downloading spiece.model:   0%|          | 0.00/792k [00:00<?, ?B/s]"
              ],
              "application/vnd.jupyter.widget-view+json": {
                "version_major": 2,
                "version_minor": 0,
                "model_id": "531ab63415c84817955f21dc53244ccf"
              }
            },
            "metadata": {
              
            }
          },
          {
            "output_type": "display_data",
            "data": {
              "text/plain": [
                "Downloading (…)/main/tokenizer.json:   0%|          | 0.00/2.42M [00:00<?, ?B/s]"
              ],
              "application/vnd.jupyter.widget-view+json": {
                "version_major": 2,
                "version_minor": 0,
                "model_id": "45c1dd52b196455fab81a45d04269639"
              }
            },
            "metadata": {
              
            }
          },
          {
            "output_type": "display_data",
            "data": {
              "text/plain": [
                "Downloading (…)cial_tokens_map.json:   0%|          | 0.00/2.20k [00:00<?, ?B/s]"
              ],
              "application/vnd.jupyter.widget-view+json": {
                "version_major": 2,
                "version_minor": 0,
                "model_id": "8765b7fc8c3245038fd551aef4af2b34"
              }
            },
            "metadata": {
              
            }
          }
        ],
        "source": [
          "model_name='google/flan-t5-base'\n",
          "\n",
          "original_model = AutoModelForSeq2SeqLM.from_pretrained(model_name, torch_dtype=torch.bfloat16)\n",
          "tokenizer = AutoTokenizer.from_pretrained(model_name)"
        ]
      },
      {
        "cell_type": "markdown",
        "metadata": {
          "tags": [
            
          ],
          "id": "iJwOCGWbEAw9"
        },
        "source": [
          "It is possible to pull out the number of model parameters and find out how many of them are trainable. The following function can be used to do that, at this stage, you do not need to go into details of it."
        ]
      },
      {
        "cell_type": "code",
        "execution_count": null,
        "metadata": {
          "tags": [
            
          ],
          "colab": {
            "base_uri": "https://localhost:8080/"
          },
          "id": "kM0PP5LeEAw-",
          "outputId": "ff7aa1f9-47bb-4ba5-8711-689c412eb3c9"
        },
        "outputs": [
          {
            "output_type": "stream",
            "name": "stdout",
            "text": [
              "trainable model parameters: 247577856\n",
              "all model parameters: 247577856\n",
              "percentage of trainable model parameters: 100.00%\n"
            ]
          }
        ],
        "source": [
          "def print_number_of_trainable_model_parameters(model):\n",
          "    trainable_model_params = 0\n",
          "    all_model_params = 0\n",
          "    for _, param in model.named_parameters():\n",
          "        all_model_params += param.numel()\n",
          "        if param.requires_grad:\n",
          "            trainable_model_params += param.numel()\n",
          "    return f\"trainable model parameters: {trainable_model_params}\\nall model parameters: {all_model_params}\\npercentage of trainable model parameters: {100 * trainable_model_params / all_model_params:.2f}%\"\n",
          "\n",
          "print(print_number_of_trainable_model_parameters(original_model))"
        ]
      },
      {
        "cell_type": "markdown",
        "metadata": {
          "tags": [
            
          ],
          "id": "ghqQ-y7dEAw-"
        },
        "source": [
          "<a name='1.3'></a>\n",
          "### 1.3 - Test the Model with Zero Shot Inferencing\n",
          "\n",
          "Test the model with the zero shot inferencing. You can see that the model struggles to summarize the dialogue compared to the baseline summary, but it does pull out some important information from the text which indicates the model can be fine-tuned to the task at hand."
        ]
      },
      {
        "cell_type": "code",
        "execution_count": null,
        "metadata": {
          "tags": [
            
          ],
          "colab": {
            "base_uri": "https://localhost:8080/"
          },
          "id": "hjgBeEzGEAw_",
          "outputId": "4960aaa8-b243-4606-8f8e-e7b41402f564"
        },
        "outputs": [
          {
            "output_type": "stream",
            "name": "stdout",
            "text": [
              "---------------------------------------------------------------------------------------------------\n",
              "INPUT PROMPT:\n",
              "\n",
              "Summarize the following conversation.\n",
              "\n",
              "#Person1#: Have you considered upgrading your system?\n",
              "#Person2#: Yes, but I'm not sure what exactly I would need.\n",
              "#Person1#: You could consider adding a painting program to your software. It would allow you to make up your own flyers and banners for advertising.\n",
              "#Person2#: That would be a definite bonus.\n",
              "#Person1#: You might also want to upgrade your hardware because it is pretty outdated now.\n",
              "#Person2#: How can we do that?\n",
              "#Person1#: You'd probably need a faster processor, to begin with. And you also need a more powerful hard disc, more memory and a faster modem. Do you have a CD-ROM drive?\n",
              "#Person2#: No.\n",
              "#Person1#: Then you might want to add a CD-ROM drive too, because most new software programs are coming out on Cds.\n",
              "#Person2#: That sounds great. Thanks.\n",
              "\n",
              "Summary:\n",
              "\n",
              "---------------------------------------------------------------------------------------------------\n",
              "BASELINE HUMAN SUMMARY:\n",
              "#Person1# teaches #Person2# how to upgrade software and hardware in #Person2#'s system.\n",
              "\n",
              "---------------------------------------------------------------------------------------------------\n",
              "MODEL GENERATION - ZERO SHOT:\n",
              "#Person1#: I'm thinking of upgrading my computer.\n"
            ]
          }
        ],
        "source": [
          "index = 200\n",
          "\n",
          "dialogue = dataset['test'][index]['dialogue']\n",
          "summary = dataset['test'][index]['summary']\n",
          "\n",
          "prompt = f\"\"\"\n",
          "Summarize the following conversation.\n",
          "\n",
          "{dialogue}\n",
          "\n",
          "Summary:\n",
          "\"\"\"\n",
          "\n",
          "inputs = tokenizer(prompt, return_tensors='pt')\n",
          "output = tokenizer.decode(\n",
          "    original_model.generate(\n",
          "        inputs[\"input_ids\"],\n",
          "        max_new_tokens=200,\n",
          "    )[0],\n",
          "    skip_special_tokens=True\n",
          ")\n",
          "\n",
          "dash_line = '-'.join('' for x in range(100))\n",
          "print(dash_line)\n",
          "print(f'INPUT PROMPT:\\n{prompt}')\n",
          "print(dash_line)\n",
          "print(f'BASELINE HUMAN SUMMARY:\\n{summary}\\n')\n",
          "print(dash_line)\n",
          "print(f'MODEL GENERATION - ZERO SHOT:\\n{output}')"
        ]
      },
      {
        "cell_type": "markdown",
        "metadata": {
          "tags": [
            
          ],
          "id": "v8yStlr-EAw_"
        },
        "source": [
          "<a name='2'></a>\n",
          "## 2 - Perform Full Fine-Tuning"
        ]
      },
      {
        "cell_type": "markdown",
        "metadata": {
          "tags": [
            
          ],
          "id": "ZL90EiD5EAw_"
        },
        "source": [
          "<a name='2.1'></a>\n",
          "### 2.1 - Preprocess the Dialog-Summary Dataset\n",
          "\n",
          "You need to convert the dialog-summary (prompt-response) pairs into explicit instructions for the LLM. Prepend an instruction to the start of the dialog with `Summarize the following conversation` and to the start of the summary with `Summary` as follows:\n",
          "\n",
          "Training prompt (dialogue):\n",
          "```\n",
          "Summarize the following conversation.\n",
          "\n",
          "    Chris: This is his part of the conversation.\n",
          "    Antje: This is her part of the conversation.\n",
          "    \n",
          "Summary:\n",
          "```\n",
          "\n",
          "Training response (summary):\n",
          "```\n",
          "Both Chris and Antje participated in the conversation.\n",
          "```\n",
          "\n",
          "Then preprocess the prompt-response dataset into tokens and pull out their `input_ids` (1 per token)."
        ]
      },
      {
        "cell_type": "code",
        "execution_count": null,
        "metadata": {
          "tags": [
            
          ],
          "colab": {
            "base_uri": "https://localhost:8080/",
            "height": 17,
            "referenced_widgets": [
              "558a191ed32a4109ad48de643df8a0a4",
              "70ecbd3b3c1547369180128e1ec79aa6",
              "9f7d4c0891b0425dbd33bc58ae3bc801",
              "31bd5275da364f3c83c4137742f0f357",
              "e5862963d91b469e96c02ba02fb4d98e",
              "4502917400964580ab5516b73b845c19",
              "7789eaf6317e41178354b81ea84099c6",
              "48b7c941386249ff92b6f2a6f148937f",
              "91149940feb54b25a8bfcc5008f5174b",
              "4e962b431a574bb2b2f8cb3552f682c5",
              "3d985dd6e85e4f1a97749f9978913e81",
              "72c2dadb3f3b4295b3e68fff13547a88",
              "ab72b7fd930948de9b0efce7039f3cf2",
              "0f3f1bcaba0846c6a0019f175feaf9b9",
              "298ddade07df4081a8d624e7fc500dcb",
              "0243a32f0fbd48baa44688b86f16bab5",
              "c4b86c1a570940d989750e3ca323c5a9",
              "26336a992866434b88475ce00347ef31",
              "003724e0e64a406f9ae4db96c8437ee7",
              "d4e5b775152e43aab43285dc6dc16d9c",
              "e363ccb35b1b4b399e8fecaf491e999a",
              "0d3625bf98d641659c312071d30249a6",
              "9c6ac910df4c415da00260c181e311e8",
              "9e5db0c70f894ce5843cdb29f1850188",
              "617216dc46d447c9807ad19f1907064d",
              "5782dbc7b9de425ca848890752dc6dc0",
              "60c65dc5c1be4d3fb4fa45db298420ef",
              "be79fd20d82d43988e3969d8d56f0f07",
              "473757f1644d41abb9f34b2f59e9eddc",
              "e5a8de9d09924a2b9cc910af047c1219",
              "576c6fe6993f444998a3a7d4a414aba2",
              "2563a937aa6946f09012f1cd8dca5d9a",
              "c17ab8f0f27a4ac8b04a4b46efeeac10"
            ]
          },
          "id": "KPmKn78wEAw_",
          "outputId": "e3bea34c-a9dc-4bb9-9614-3d37aabe32fd"
        },
        "outputs": [
          {
            "output_type": "display_data",
            "data": {
              "text/plain": [
                "Map:   0%|          | 0/12460 [00:00<?, ? examples/s]"
              ],
              "application/vnd.jupyter.widget-view+json": {
                "version_major": 2,
                "version_minor": 0,
                "model_id": "558a191ed32a4109ad48de643df8a0a4"
              }
            },
            "metadata": {
              
            }
          },
          {
            "output_type": "display_data",
            "data": {
              "text/plain": [
                "Map:   0%|          | 0/1500 [00:00<?, ? examples/s]"
              ],
              "application/vnd.jupyter.widget-view+json": {
                "version_major": 2,
                "version_minor": 0,
                "model_id": "72c2dadb3f3b4295b3e68fff13547a88"
              }
            },
            "metadata": {
              
            }
          },
          {
            "output_type": "display_data",
            "data": {
              "text/plain": [
                "Map:   0%|          | 0/500 [00:00<?, ? examples/s]"
              ],
              "application/vnd.jupyter.widget-view+json": {
                "version_major": 2,
                "version_minor": 0,
                "model_id": "9c6ac910df4c415da00260c181e311e8"
              }
            },
            "metadata": {
              
            }
          }
        ],
        "source": [
          "def tokenize_function(example):\n",
          "    start_prompt = 'Summarize the following conversation.\\n\\n'\n",
          "    end_prompt = '\\n\\nSummary: '\n",
          "    prompt = [start_prompt + dialogue + end_prompt for dialogue in example[\"dialogue\"]]\n",
          "    example['input_ids'] = tokenizer(prompt, padding=\"max_length\", truncation=True, return_tensors=\"pt\").input_ids\n",
          "    example['labels'] = tokenizer(example[\"summary\"], padding=\"max_length\", truncation=True, return_tensors=\"pt\").input_ids\n",
          "\n",
          "    return example\n",
          "\n",
          "# The dataset actually contains 3 diff splits: train, validation, test.\n",
          "# The tokenize_function code is handling all data across all splits in batches.\n",
          "tokenized_datasets = dataset.map(tokenize_function, batched=True)\n",
          "tokenized_datasets = tokenized_datasets.remove_columns(['id', 'topic', 'dialogue', 'summary',])"
        ]
      },
      {
        "cell_type": "markdown",
        "metadata": {
          "tags": [
            
          ],
          "id": "ThMSNSuwEAxA"
        },
        "source": [
          "To save some time in the lab, you will subsample the dataset:"
        ]
      },
      {
        "cell_type": "code",
        "execution_count": null,
        "metadata": {
          "tags": [
            
          ],
          "colab": {
            "base_uri": "https://localhost:8080/",
            "height": 17,
            "referenced_widgets": [
              "ecc14ddd2ce9431ca332f784bf025bcb",
              "a8af69cad5ec46f99a4879488c211de3",
              "2b3b8ff697e34ea199e2e95c2770f0aa",
              "fe557a19be0f4d099f7763e9ba120d10",
              "b870f390fcd14b23839f3c260c53554e",
              "24e89cf83ca045c28c32d625fe12bfd7",
              "3f1a584e2ce345ec945d86c009e37de8",
              "8e4c6623f58a45cab54b3694db2116b8",
              "31de4552ec1e40858fb99890c2eb0bc5",
              "9dd6dfe205444393be17c4f20c5ea4b3",
              "6a26a7e5509d4ca6a4932538db801a82",
              "55e6587e847645ae934c18bdeefd8aac",
              "8f737c1823054eff8e3f796903c3a291",
              "63f0d8a9c76941cea36df0e2965f9d4b",
              "f6649f305f1f4558a8e8edba1d51751b",
              "7fa33286b5a2429c8e22502c301a7d5f",
              "dd1fe652a733458e99e15e11e50b206e",
              "54b0fac1e9264aa7b7f2c2f658061149",
              "0a17a79e6d8b49fabf1385a74832938e",
              "2efaf87e29004c0ea7faf31d76129bf9",
              "1df90dfc5db542c59552e4b8e6b6cc10",
              "b2ecee78f07743dd9c3d90b123a0ff77",
              "b8129fb0a72d4706b91948701ca80952",
              "3e7063891a7b41cb8f13c7dace3e6924",
              "472eb935a0b0473883617f662946d7bd",
              "ea6745f1dd8d49eead6642f4618112f5",
              "de6048abfa1d47598cd094a4d9078089",
              "16bf286e1dc34f598331c2d9df3f8032",
              "a0706c11bdf64951a9129e6edea0f06e",
              "910a3bfa24b74b7abb73383bae73c427",
              "93b452580d824693affff7b5ea6bf75d",
              "186a694237444a1a97108b70649c35ac",
              "e082af912d2a4b1ea6e8bb160fcea318"
            ]
          },
          "id": "DqUVNZKiEAxA",
          "outputId": "30e87a1a-13b1-4bb9-db85-873c03ba0a89"
        },
        "outputs": [
          {
            "output_type": "display_data",
            "data": {
              "text/plain": [
                "Filter:   0%|          | 0/12460 [00:00<?, ? examples/s]"
              ],
              "application/vnd.jupyter.widget-view+json": {
                "version_major": 2,
                "version_minor": 0,
                "model_id": "ecc14ddd2ce9431ca332f784bf025bcb"
              }
            },
            "metadata": {
              
            }
          },
          {
            "output_type": "display_data",
            "data": {
              "text/plain": [
                "Filter:   0%|          | 0/1500 [00:00<?, ? examples/s]"
              ],
              "application/vnd.jupyter.widget-view+json": {
                "version_major": 2,
                "version_minor": 0,
                "model_id": "55e6587e847645ae934c18bdeefd8aac"
              }
            },
            "metadata": {
              
            }
          },
          {
            "output_type": "display_data",
            "data": {
              "text/plain": [
                "Filter:   0%|          | 0/500 [00:00<?, ? examples/s]"
              ],
              "application/vnd.jupyter.widget-view+json": {
                "version_major": 2,
                "version_minor": 0,
                "model_id": "b8129fb0a72d4706b91948701ca80952"
              }
            },
            "metadata": {
              
            }
          }
        ],
        "source": [
          "tokenized_datasets = tokenized_datasets.filter(lambda example, index: index % 100 == 0, with_indices=True)"
        ]
      },
      {
        "cell_type": "markdown",
        "metadata": {
          "tags": [
            
          ],
          "id": "b_U0-iMvEAxA"
        },
        "source": [
          "Check the shapes of all three parts of the dataset:"
        ]
      },
      {
        "cell_type": "code",
        "execution_count": null,
        "metadata": {
          "tags": [
            
          ],
          "colab": {
            "base_uri": "https://localhost:8080/"
          },
          "id": "T_e6PegbEAxA",
          "outputId": "6625f99e-fe19-4c6e-da0e-9e87a59a976f"
        },
        "outputs": [
          {
            "output_type": "stream",
            "name": "stdout",
            "text": [
              "Shapes of the datasets:\n",
              "Training: (125, 2)\n",
              "Validation: (5, 2)\n",
              "Test: (15, 2)\n",
              "DatasetDict({\n",
              "    train: Dataset({\n",
              "        features: ['input_ids', 'labels'],\n",
              "        num_rows: 125\n",
              "    })\n",
              "    test: Dataset({\n",
              "        features: ['input_ids', 'labels'],\n",
              "        num_rows: 15\n",
              "    })\n",
              "    validation: Dataset({\n",
              "        features: ['input_ids', 'labels'],\n",
              "        num_rows: 5\n",
              "    })\n",
              "})\n"
            ]
          }
        ],
        "source": [
          "print(f\"Shapes of the datasets:\")\n",
          "print(f\"Training: {tokenized_datasets['train'].shape}\")\n",
          "print(f\"Validation: {tokenized_datasets['validation'].shape}\")\n",
          "print(f\"Test: {tokenized_datasets['test'].shape}\")\n",
          "\n",
          "print(tokenized_datasets)"
        ]
      },
      {
        "cell_type": "markdown",
        "metadata": {
          "id": "pyrbBNEoEAxB"
        },
        "source": [
          "The output dataset is ready for fine-tuning."
        ]
      },
      {
        "cell_type": "markdown",
        "metadata": {
          "id": "4tU-48DnEAxB"
        },
        "source": [
          "<a name='2.2'></a>\n",
          "### 2.2 - Fine-Tune the Model with the Preprocessed Dataset\n",
          "\n",
          "Now utilize the built-in Hugging Face `Trainer` class (see the documentation [here](https://huggingface.co/docs/transformers/main_classes/trainer)). Pass the preprocessed dataset with reference to the original model. Other training parameters are found experimentally and there is no need to go into details about those at the moment."
        ]
      },
      {
        "cell_type": "code",
        "execution_count": null,
        "metadata": {
          "tags": [
            
          ],
          "id": "_xcdkJ6pEAxB"
        },
        "outputs": [
          
        ],
        "source": [
          "output_dir = f'./dialogue-summary-training-{str(int(time.time()))}'\n",
          "\n",
          "training_args = TrainingArguments(\n",
          "    output_dir=output_dir,\n",
          "    learning_rate=1e-5,\n",
          "    num_train_epochs=1,\n",
          "    weight_decay=0.01,\n",
          "    logging_steps=1,\n",
          "    max_steps=1\n",
          ")\n",
          "\n",
          "trainer = Trainer(\n",
          "    model=original_model,\n",
          "    args=training_args,\n",
          "    train_dataset=tokenized_datasets['train'],\n",
          "    eval_dataset=tokenized_datasets['validation']\n",
          ")"
        ]
      },
      {
        "cell_type": "markdown",
        "metadata": {
          "tags": [
            
          ],
          "id": "lt3lDUMgEAxB"
        },
        "source": [
          "Start training process...\n",
          "\n",
          "<img src=\"data:image/svg+xml;base64,Cjxzdmcgd2lkdGg9IjgwMCIgaGVpZ2h0PSIxMjUiIHZpZXdCb3g9IjAgMCA4MDAgMTI1IiB4bWxucz0iaHR0cDovL3d3dy53My5vcmcvMjAwMC9zdmciPgogICAgPGRlZnM+CiAgICAgICAgPGxpbmVhckdyYWRpZW50IGlkPSJmYWRlR3JhZGllbnQiIHgxPSIwIiB4Mj0iMSI+CiAgICAgICAgICAgIDxzdG9wIG9mZnNldD0iMCUiIHN0b3AtY29sb3I9IiNGMEYwRjAiLz4KICAgICAgICAgICAgPHN0b3Agb2Zmc2V0PSIxMDAlIiBzdG9wLWNvbG9yPSIjRjBGMEYwIiBzdG9wLW9wYWNpdHk9IjAiLz4KICAgICAgICA8L2xpbmVhckdyYWRpZW50PgogICAgICAgIDxtYXNrIGlkPSJmYWRlTWFzayI+CiAgICAgICAgICAgIDxyZWN0IHg9IjAiIHk9IjAiIHdpZHRoPSI3NTAiIGhlaWdodD0iMTI1IiBmaWxsPSJ3aGl0ZSIvPgogICAgICAgICAgICA8cmVjdCB4PSI3NTAiIHk9IjAiIHdpZHRoPSI1MCIgaGVpZ2h0PSIxMjUiIGZpbGw9InVybCgjZmFkZUdyYWRpZW50KSIvPgogICAgICAgIDwvbWFzaz4KICAgIDwvZGVmcz4KICAgIDxwYXRoIGQ9Ik0zLDUwIEE1MCw1MCAwIDAgMSA1MywzIEw3OTcsMyBMNzk3LDk3IEw5Nyw5NyBMNTAsMTE1IEwzLDk3IFoiIGZpbGw9IiNGMEYwRjAiIHN0cm9rZT0iI0UwRTBFMCIgc3Ryb2tlLXdpZHRoPSIxIiBtYXNrPSJ1cmwoI2ZhZGVNYXNrKSIvPgogICAgPGNpcmNsZSBjeD0iNTAiIGN5PSI1MCIgcj0iMzAiIGZpbGw9IiM1N2M0ZjgiIHN0cm9rZT0iIzU3YzRmOCIgc3Ryb2tlLXdpZHRoPSIxIi8+CiAgICA8Y2lyY2xlIGN4PSI1MCIgY3k9IjUwIiByPSIyNSIgZmlsbD0iI0YwRjBGMCIvPgogICAgPGxpbmUgeDE9IjUwIiB5MT0iNTAiIHgyPSI1MCIgeTI9IjMwIiBzdHJva2U9IiM1N2M0ZjgiIHN0cm9rZS13aWR0aD0iMyIgc3Ryb2tlLWxpbmVjYXA9InJvdW5kIi8+CiAgICA8bGluZSB4MT0iNTAiIHkxPSI1MCIgeDI9IjY1IiB5Mj0iNTAiIHN0cm9rZT0iIzU3YzRmOCIgc3Ryb2tlLXdpZHRoPSIzIiBzdHJva2UtbGluZWNhcD0icm91bmQiLz4KICAgIDx0ZXh0IHg9IjEwMCIgeT0iMzQiIGZvbnQtZmFtaWx5PSJBcmlhbCwgc2Fucy1zZXJpZiIgZm9udC1zaXplPSIxNCIgZmlsbD0iIzMzMzMzMyI+VGhlIG5leHQgY2VsbCBtYXkgdGFrZSBhIGZldyBtaW51dGVzIHRvIHJ1bi4gUGxlYXNlIGJlIHBhdGllbnQuPC90ZXh0PgogICAgPHRleHQgeD0iMTAwIiB5PSI1NiIgZm9udC1mYW1pbHk9IkFyaWFsLCBzYW5zLXNlcmlmIiBmb250LXNpemU9IjE0IiBmaWxsPSIjMzMzMzMzIj5Zb3UgY2FuIHNhZmVseSBpZ25vcmUgdGhlIHdhcm5pbmcgbWVzc2FnZXMuPC90ZXh0Pgo8L3N2Zz4K\" alt=\"Time alert open medium\"/>"
        ]
      },
      {
        "cell_type": "code",
        "execution_count": null,
        "metadata": {
          "tags": [
            
          ],
          "colab": {
            "base_uri": "https://localhost:8080/"
          },
          "id": "RK5lj5WuEAxB",
          "outputId": "2441a615-117f-46cd-af56-a66af56e1c6e"
        },
        "outputs": [
          {
            "output_type": "stream",
            "name": "stderr",
            "text": [
              "/usr/local/lib/python3.10/dist-packages/transformers/optimization.py:391: FutureWarning: This implementation of AdamW is deprecated and will be removed in a future version. Use the PyTorch implementation torch.optim.AdamW instead, or set `no_deprecation_warning=True` to disable this warning\n",
              "  warnings.warn(\n"
            ]
          }
        ],
        "source": [
          "trainer.train()"
        ]
      },
      {
        "cell_type": "markdown",
        "metadata": {
          "tags": [
            
          ],
          "id": "bvTHfogiEAxC"
        },
        "source": [
          "<img src=\"data:image/svg+xml;base64,Cjxzdmcgd2lkdGg9IjgwMCIgaGVpZ2h0PSI1MCIgdmlld0JveD0iMCAwIDgwMCA1MCIgeG1sbnM9Imh0dHA6Ly93d3cudzMub3JnLzIwMDAvc3ZnIj4KICAgIDxkZWZzPgogICAgICAgIDxsaW5lYXJHcmFkaWVudCBpZD0iZmFkZUdyYWRpZW50IiB4MT0iMCIgeDI9IjEiPgogICAgICAgICAgICA8c3RvcCBvZmZzZXQ9IjAlIiBzdG9wLWNvbG9yPSIjRjBGMEYwIi8+CiAgICAgICAgICAgIDxzdG9wIG9mZnNldD0iMTAwJSIgc3RvcC1jb2xvcj0iI0YwRjBGMCIgc3RvcC1vcGFjaXR5PSIwIi8+CiAgICAgICAgPC9saW5lYXJHcmFkaWVudD4KICAgICAgICA8bWFzayBpZD0iZmFkZU1hc2siPgogICAgICAgICAgICA8cmVjdCB4PSIwIiB5PSIwIiB3aWR0aD0iNzUwIiBoZWlnaHQ9IjUwIiBmaWxsPSJ3aGl0ZSIvPgogICAgICAgICAgICA8cmVjdCB4PSI3NTAiIHk9IjAiIHdpZHRoPSI1MCIgaGVpZ2h0PSI1MCIgZmlsbD0idXJsKCNmYWRlR3JhZGllbnQpIi8+CiAgICAgICAgPC9tYXNrPgogICAgPC9kZWZzPgogICAgPHBhdGggZD0iTTI1LDUwIFEwLDUwIDAsMjUgTDUwLDMgTDk3LDI1IEw3OTcsMjUgTDc5Nyw1MCBMMjUsNTAgWiIgZmlsbD0iI0YwRjBGMCIgc3Ryb2tlPSIjRTBFMEUwIiBzdHJva2Utd2lkdGg9IjEiIG1hc2s9InVybCgjZmFkZU1hc2spIi8+Cjwvc3ZnPgo=\" alt=\"Time alert close\"/>"
        ]
      },
      {
        "cell_type": "markdown",
        "metadata": {
          "id": "LqZ46G__EAxC"
        },
        "source": [
          "Training a fully fine-tuned version of the model would take a few hours on a GPU. To save time, download a checkpoint of the fully fine-tuned model to use in the rest of this notebook. This fully fine-tuned model will also be referred to as the **instruct model** in this lab."
        ]
      },
      {
        "cell_type": "code",
        "execution_count": null,
        "metadata": {
          "tags": [
            
          ],
          "id": "Z_xTaAofEAxC"
        },
        "outputs": [
          
        ],
        "source": [
          "!aws s3 cp --recursive s3://dlai-generative-ai/models/flan-dialogue-summary-checkpoint/ ./flan-dialogue-summary-checkpoint/"
        ]
      },
      {
        "cell_type": "markdown",
        "metadata": {
          "tags": [
            
          ],
          "id": "yLSSCM1DEAxD"
        },
        "source": [
          "The size of the downloaded instruct model is approximately 1GB."
        ]
      },
      {
        "cell_type": "code",
        "execution_count": null,
        "metadata": {
          "tags": [
            
          ],
          "id": "1pArzaonEAxD"
        },
        "outputs": [
          
        ],
        "source": [
          "!ls -alh ./flan-dialogue-summary-checkpoint/pytorch_model.bin"
        ]
      },
      {
        "cell_type": "markdown",
        "metadata": {
          "tags": [
            
          ],
          "id": "O0AZH8zNEAxD"
        },
        "source": [
          "Create an instance of the `AutoModelForSeq2SeqLM` class for the instruct model:"
        ]
      },
      {
        "cell_type": "code",
        "execution_count": null,
        "metadata": {
          "tags": [
            
          ],
          "id": "sa5islhuEAxD"
        },
        "outputs": [
          
        ],
        "source": [
          "instruct_model = AutoModelForSeq2SeqLM.from_pretrained(\"./flan-dialogue-summary-checkpoint\", torch_dtype=torch.bfloat16)"
        ]
      },
      {
        "cell_type": "markdown",
        "metadata": {
          "id": "7W0f4dJTEAxN"
        },
        "source": [
          "<a name='2.3'></a>\n",
          "### 2.3 - Evaluate the Model Qualitatively (Human Evaluation)\n",
          "\n",
          "As with many GenAI applications, a qualitative approach where you ask yourself the question \"Is my model behaving the way it is supposed to?\" is usually a good starting point. In the example below (the same one we started this notebook with), you can see how the fine-tuned model is able to create a reasonable summary of the dialogue compared to the original inability to understand what is being asked of the model."
        ]
      },
      {
        "cell_type": "code",
        "execution_count": null,
        "metadata": {
          "tags": [
            
          ],
          "id": "vVvCnPlwEAxN"
        },
        "outputs": [
          
        ],
        "source": [
          "index = 200\n",
          "dialogue = dataset['test'][index]['dialogue']\n",
          "human_baseline_summary = dataset['test'][index]['summary']\n",
          "\n",
          "prompt = f\"\"\"\n",
          "Summarize the following conversation.\n",
          "\n",
          "{dialogue}\n",
          "\n",
          "Summary:\n",
          "\"\"\"\n",
          "\n",
          "input_ids = tokenizer(prompt, return_tensors=\"pt\").input_ids\n",
          "\n",
          "original_model_outputs = original_model.generate(input_ids=input_ids, generation_config=GenerationConfig(max_new_tokens=200, num_beams=1))\n",
          "original_model_text_output = tokenizer.decode(original_model_outputs[0], skip_special_tokens=True)\n",
          "\n",
          "instruct_model_outputs = instruct_model.generate(input_ids=input_ids, generation_config=GenerationConfig(max_new_tokens=200, num_beams=1))\n",
          "instruct_model_text_output = tokenizer.decode(instruct_model_outputs[0], skip_special_tokens=True)\n",
          "\n",
          "print(dash_line)\n",
          "print(f'BASELINE HUMAN SUMMARY:\\n{human_baseline_summary}')\n",
          "print(dash_line)\n",
          "print(f'ORIGINAL MODEL:\\n{original_model_text_output}')\n",
          "print(dash_line)\n",
          "print(f'INSTRUCT MODEL:\\n{instruct_model_text_output}')"
        ]
      },
      {
        "cell_type": "markdown",
        "metadata": {
          "id": "G24gh9S7EAxN"
        },
        "source": [
          "<a name='2.4'></a>\n",
          "### 2.4 - Evaluate the Model Quantitatively (with ROUGE Metric)\n",
          "\n",
          "The [ROUGE metric](https://en.wikipedia.org/wiki/ROUGE_(metric)) helps quantify the validity of summarizations produced by models. It compares summarizations to a \"baseline\" summary which is usually created by a human. While not perfect, it does indicate the overall increase in summarization effectiveness that we have accomplished by fine-tuning."
        ]
      },
      {
        "cell_type": "code",
        "execution_count": null,
        "metadata": {
          "tags": [
            
          ],
          "id": "rJPL4tCEEAxN"
        },
        "outputs": [
          
        ],
        "source": [
          "rouge = evaluate.load('rouge')"
        ]
      },
      {
        "cell_type": "markdown",
        "metadata": {
          "id": "kfN4QTeuEAxO"
        },
        "source": [
          "Generate the outputs for the sample of the test dataset (only 10 dialogues and summaries to save time), and save the results."
        ]
      },
      {
        "cell_type": "code",
        "execution_count": null,
        "metadata": {
          "tags": [
            
          ],
          "id": "9hmkLHspEAxO"
        },
        "outputs": [
          
        ],
        "source": [
          "dialogues = dataset['test'][0:10]['dialogue']\n",
          "human_baseline_summaries = dataset['test'][0:10]['summary']\n",
          "\n",
          "original_model_summaries = []\n",
          "instruct_model_summaries = []\n",
          "\n",
          "for _, dialogue in enumerate(dialogues):\n",
          "    prompt = f\"\"\"\n",
          "Summarize the following conversation.\n",
          "\n",
          "{dialogue}\n",
          "\n",
          "Summary: \"\"\"\n",
          "    input_ids = tokenizer(prompt, return_tensors=\"pt\").input_ids\n",
          "\n",
          "    original_model_outputs = original_model.generate(input_ids=input_ids, generation_config=GenerationConfig(max_new_tokens=200))\n",
          "    original_model_text_output = tokenizer.decode(original_model_outputs[0], skip_special_tokens=True)\n",
          "    original_model_summaries.append(original_model_text_output)\n",
          "\n",
          "    instruct_model_outputs = instruct_model.generate(input_ids=input_ids, generation_config=GenerationConfig(max_new_tokens=200))\n",
          "    instruct_model_text_output = tokenizer.decode(instruct_model_outputs[0], skip_special_tokens=True)\n",
          "    instruct_model_summaries.append(instruct_model_text_output)\n",
          "\n",
          "zipped_summaries = list(zip(human_baseline_summaries, original_model_summaries, instruct_model_summaries))\n",
          "\n",
          "df = pd.DataFrame(zipped_summaries, columns = ['human_baseline_summaries', 'original_model_summaries', 'instruct_model_summaries'])\n",
          "df"
        ]
      },
      {
        "cell_type": "markdown",
        "metadata": {
          "tags": [
            
          ],
          "id": "ct_zRsghEAxO"
        },
        "source": [
          "Evaluate the models computing ROUGE metrics. Notice the improvement in the results!"
        ]
      },
      {
        "cell_type": "code",
        "execution_count": null,
        "metadata": {
          "tags": [
            
          ],
          "id": "VzQyHvPsEAxP"
        },
        "outputs": [
          
        ],
        "source": [
          "original_model_results = rouge.compute(\n",
          "    predictions=original_model_summaries,\n",
          "    references=human_baseline_summaries[0:len(original_model_summaries)],\n",
          "    use_aggregator=True,\n",
          "    use_stemmer=True,\n",
          ")\n",
          "\n",
          "instruct_model_results = rouge.compute(\n",
          "    predictions=instruct_model_summaries,\n",
          "    references=human_baseline_summaries[0:len(instruct_model_summaries)],\n",
          "    use_aggregator=True,\n",
          "    use_stemmer=True,\n",
          ")\n",
          "\n",
          "print('ORIGINAL MODEL:')\n",
          "print(original_model_results)\n",
          "print('INSTRUCT MODEL:')\n",
          "print(instruct_model_results)"
        ]
      },
      {
        "cell_type": "markdown",
        "metadata": {
          "id": "s9QIkOTlEAxP"
        },
        "source": [
          "The file `data/dialogue-summary-training-results.csv` contains a pre-populated list of all model results which you can use to evaluate on a larger section of data. Let's do that for each of the models:"
        ]
      },
      {
        "cell_type": "code",
        "execution_count": null,
        "metadata": {
          "tags": [
            
          ],
          "id": "D1fct5M_EAxP"
        },
        "outputs": [
          
        ],
        "source": [
          "results = pd.read_csv(\"data/dialogue-summary-training-results.csv\")\n",
          "\n",
          "human_baseline_summaries = results['human_baseline_summaries'].values\n",
          "original_model_summaries = results['original_model_summaries'].values\n",
          "instruct_model_summaries = results['instruct_model_summaries'].values\n",
          "\n",
          "original_model_results = rouge.compute(\n",
          "    predictions=original_model_summaries,\n",
          "    references=human_baseline_summaries[0:len(original_model_summaries)],\n",
          "    use_aggregator=True,\n",
          "    use_stemmer=True,\n",
          ")\n",
          "\n",
          "instruct_model_results = rouge.compute(\n",
          "    predictions=instruct_model_summaries,\n",
          "    references=human_baseline_summaries[0:len(instruct_model_summaries)],\n",
          "    use_aggregator=True,\n",
          "    use_stemmer=True,\n",
          ")\n",
          "\n",
          "print('ORIGINAL MODEL:')\n",
          "print(original_model_results)\n",
          "print('INSTRUCT MODEL:')\n",
          "print(instruct_model_results)"
        ]
      },
      {
        "cell_type": "markdown",
        "metadata": {
          "tags": [
            
          ],
          "id": "ZFdtINnvEAxP"
        },
        "source": [
          "The results show substantial improvement in all ROUGE metrics:"
        ]
      },
      {
        "cell_type": "code",
        "execution_count": null,
        "metadata": {
          "tags": [
            
          ],
          "id": "E1VSj7GbEAxQ"
        },
        "outputs": [
          
        ],
        "source": [
          "print(\"Absolute percentage improvement of INSTRUCT MODEL over HUMAN BASELINE\")\n",
          "\n",
          "improvement = (np.array(list(instruct_model_results.values())) - np.array(list(original_model_results.values())))\n",
          "for key, value in zip(instruct_model_results.keys(), improvement):\n",
          "    print(f'{key}: {value*100:.2f}%')"
        ]
      },
      {
        "cell_type": "markdown",
        "metadata": {
          "id": "SgLUf7-wEAxQ"
        },
        "source": [
          "<a name='3'></a>\n",
          "## 3 - Perform Parameter Efficient Fine-Tuning (PEFT)\n",
          "\n",
          "Now, let's perform **Parameter Efficient Fine-Tuning (PEFT)** fine-tuning as opposed to \"full fine-tuning\" as you did above. PEFT is a form of instruction fine-tuning that is much more efficient than full fine-tuning - with comparable evaluation results as you will see soon.\n",
          "\n",
          "PEFT is a generic term that includes **Low-Rank Adaptation (LoRA)** and prompt tuning (which is NOT THE SAME as prompt engineering!). In most cases, when someone says PEFT, they typically mean LoRA. LoRA, at a very high level, allows the user to fine-tune their model using fewer compute resources (in some cases, a single GPU). After fine-tuning for a specific task, use case, or tenant with LoRA, the result is that the original LLM remains unchanged and a newly-trained “LoRA adapter” emerges. This LoRA adapter is much, much smaller than the original LLM - on the order of a single-digit % of the original LLM size (MBs vs GBs).  \n",
          "\n",
          "That said, at inference time, the LoRA adapter needs to be reunited and combined with its original LLM to serve the inference request.  The benefit, however, is that many LoRA adapters can re-use the original LLM which reduces overall memory requirements when serving multiple tasks and use cases."
        ]
      },
      {
        "cell_type": "markdown",
        "metadata": {
          "id": "_o3lDrh-EAxR"
        },
        "source": [
          "<a name='3.1'></a>\n",
          "### 3.1 - Setup the PEFT/LoRA model for Fine-Tuning\n",
          "\n",
          "You need to set up the PEFT/LoRA model for fine-tuning with a new layer/parameter adapter. Using PEFT/LoRA, you are freezing the underlying LLM and only training the adapter. Have a look at the LoRA configuration below. Note the rank (`r`) hyper-parameter, which defines the rank/dimension of the adapter to be trained."
        ]
      },
      {
        "cell_type": "code",
        "execution_count": null,
        "metadata": {
          "tags": [
            
          ],
          "id": "9xICIgHtEAxR"
        },
        "outputs": [
          
        ],
        "source": [
          "from peft import LoraConfig, get_peft_model, TaskType\n",
          "\n",
          "lora_config = LoraConfig(\n",
          "    r=32, # Rank\n",
          "    lora_alpha=32,\n",
          "    target_modules=[\"q\", \"v\"],\n",
          "    lora_dropout=0.05,\n",
          "    bias=\"none\",\n",
          "    task_type=TaskType.SEQ_2_SEQ_LM # FLAN-T5\n",
          ")"
        ]
      },
      {
        "cell_type": "markdown",
        "metadata": {
          "tags": [
            
          ],
          "id": "gyk3gVAEEAxR"
        },
        "source": [
          "Add LoRA adapter layers/parameters to the original LLM to be trained."
        ]
      },
      {
        "cell_type": "code",
        "execution_count": null,
        "metadata": {
          "tags": [
            
          ],
          "id": "U6hPaxbOEAxR"
        },
        "outputs": [
          
        ],
        "source": [
          "peft_model = get_peft_model(original_model,\n",
          "                            lora_config)\n",
          "print(print_number_of_trainable_model_parameters(peft_model))"
        ]
      },
      {
        "cell_type": "markdown",
        "metadata": {
          "tags": [
            
          ],
          "id": "FmT8AFlHEAxS"
        },
        "source": [
          "<a name='3.2'></a>\n",
          "### 3.2 - Train PEFT Adapter\n",
          "\n",
          "Define training arguments and create `Trainer` instance."
        ]
      },
      {
        "cell_type": "code",
        "execution_count": null,
        "metadata": {
          "tags": [
            
          ],
          "id": "TfjWpO7kEAxS"
        },
        "outputs": [
          
        ],
        "source": [
          "output_dir = f'./peft-dialogue-summary-training-{str(int(time.time()))}'\n",
          "\n",
          "peft_training_args = TrainingArguments(\n",
          "    output_dir=output_dir,\n",
          "    auto_find_batch_size=True,\n",
          "    learning_rate=1e-3, # Higher learning rate than full fine-tuning.\n",
          "    num_train_epochs=1,\n",
          "    logging_steps=1,\n",
          "    max_steps=1\n",
          ")\n",
          "\n",
          "peft_trainer = Trainer(\n",
          "    model=peft_model,\n",
          "    args=peft_training_args,\n",
          "    train_dataset=tokenized_datasets[\"train\"],\n",
          ")"
        ]
      },
      {
        "cell_type": "markdown",
        "metadata": {
          "id": "wNTWrPq4EAxS"
        },
        "source": [
          "Now everything is ready to train the PEFT adapter and save the model.\n",
          "\n",
          "<img src=\"data:image/svg+xml;base64,Cjxzdmcgd2lkdGg9IjgwMCIgaGVpZ2h0PSIxMjUiIHZpZXdCb3g9IjAgMCA4MDAgMTI1IiB4bWxucz0iaHR0cDovL3d3dy53My5vcmcvMjAwMC9zdmciPgogICAgPGRlZnM+CiAgICAgICAgPGxpbmVhckdyYWRpZW50IGlkPSJmYWRlR3JhZGllbnQiIHgxPSIwIiB4Mj0iMSI+CiAgICAgICAgICAgIDxzdG9wIG9mZnNldD0iMCUiIHN0b3AtY29sb3I9IiNGMEYwRjAiLz4KICAgICAgICAgICAgPHN0b3Agb2Zmc2V0PSIxMDAlIiBzdG9wLWNvbG9yPSIjRjBGMEYwIiBzdG9wLW9wYWNpdHk9IjAiLz4KICAgICAgICA8L2xpbmVhckdyYWRpZW50PgogICAgICAgIDxtYXNrIGlkPSJmYWRlTWFzayI+CiAgICAgICAgICAgIDxyZWN0IHg9IjAiIHk9IjAiIHdpZHRoPSI3NTAiIGhlaWdodD0iMTI1IiBmaWxsPSJ3aGl0ZSIvPgogICAgICAgICAgICA8cmVjdCB4PSI3NTAiIHk9IjAiIHdpZHRoPSI1MCIgaGVpZ2h0PSIxMjUiIGZpbGw9InVybCgjZmFkZUdyYWRpZW50KSIvPgogICAgICAgIDwvbWFzaz4KICAgIDwvZGVmcz4KICAgIDxwYXRoIGQ9Ik0zLDUwIEE1MCw1MCAwIDAgMSA1MywzIEw3OTcsMyBMNzk3LDk3IEw5Nyw5NyBMNTAsMTE1IEwzLDk3IFoiIGZpbGw9IiNGMEYwRjAiIHN0cm9rZT0iI0UwRTBFMCIgc3Ryb2tlLXdpZHRoPSIxIiBtYXNrPSJ1cmwoI2ZhZGVNYXNrKSIvPgogICAgPGNpcmNsZSBjeD0iNTAiIGN5PSI1MCIgcj0iMzAiIGZpbGw9IiM1N2M0ZjgiIHN0cm9rZT0iIzU3YzRmOCIgc3Ryb2tlLXdpZHRoPSIxIi8+CiAgICA8Y2lyY2xlIGN4PSI1MCIgY3k9IjUwIiByPSIyNSIgZmlsbD0iI0YwRjBGMCIvPgogICAgPGxpbmUgeDE9IjUwIiB5MT0iNTAiIHgyPSI1MCIgeTI9IjMwIiBzdHJva2U9IiM1N2M0ZjgiIHN0cm9rZS13aWR0aD0iMyIgc3Ryb2tlLWxpbmVjYXA9InJvdW5kIi8+CiAgICA8bGluZSB4MT0iNTAiIHkxPSI1MCIgeDI9IjY1IiB5Mj0iNTAiIHN0cm9rZT0iIzU3YzRmOCIgc3Ryb2tlLXdpZHRoPSIzIiBzdHJva2UtbGluZWNhcD0icm91bmQiLz4KICAgIDx0ZXh0IHg9IjEwMCIgeT0iMzQiIGZvbnQtZmFtaWx5PSJBcmlhbCwgc2Fucy1zZXJpZiIgZm9udC1zaXplPSIxNCIgZmlsbD0iIzMzMzMzMyI+VGhlIG5leHQgY2VsbCBtYXkgdGFrZSBhIGZldyBtaW51dGVzIHRvIHJ1bi48L3RleHQ+Cjwvc3ZnPgo=\" alt=\"Time alert open medium\"/>"
        ]
      },
      {
        "cell_type": "code",
        "execution_count": null,
        "metadata": {
          "tags": [
            
          ],
          "id": "2o3xyowvEAxT"
        },
        "outputs": [
          
        ],
        "source": [
          "peft_trainer.train()\n",
          "\n",
          "peft_model_path=\"./peft-dialogue-summary-checkpoint-local\"\n",
          "\n",
          "peft_trainer.model.save_pretrained(peft_model_path)\n",
          "tokenizer.save_pretrained(peft_model_path)"
        ]
      },
      {
        "cell_type": "markdown",
        "metadata": {
          "tags": [
            
          ],
          "id": "3Wm-BRfaEAxT"
        },
        "source": [
          "<img src=\"data:image/svg+xml;base64,Cjxzdmcgd2lkdGg9IjgwMCIgaGVpZ2h0PSI1MCIgdmlld0JveD0iMCAwIDgwMCA1MCIgeG1sbnM9Imh0dHA6Ly93d3cudzMub3JnLzIwMDAvc3ZnIj4KICAgIDxkZWZzPgogICAgICAgIDxsaW5lYXJHcmFkaWVudCBpZD0iZmFkZUdyYWRpZW50IiB4MT0iMCIgeDI9IjEiPgogICAgICAgICAgICA8c3RvcCBvZmZzZXQ9IjAlIiBzdG9wLWNvbG9yPSIjRjBGMEYwIi8+CiAgICAgICAgICAgIDxzdG9wIG9mZnNldD0iMTAwJSIgc3RvcC1jb2xvcj0iI0YwRjBGMCIgc3RvcC1vcGFjaXR5PSIwIi8+CiAgICAgICAgPC9saW5lYXJHcmFkaWVudD4KICAgICAgICA8bWFzayBpZD0iZmFkZU1hc2siPgogICAgICAgICAgICA8cmVjdCB4PSIwIiB5PSIwIiB3aWR0aD0iNzUwIiBoZWlnaHQ9IjUwIiBmaWxsPSJ3aGl0ZSIvPgogICAgICAgICAgICA8cmVjdCB4PSI3NTAiIHk9IjAiIHdpZHRoPSI1MCIgaGVpZ2h0PSI1MCIgZmlsbD0idXJsKCNmYWRlR3JhZGllbnQpIi8+CiAgICAgICAgPC9tYXNrPgogICAgPC9kZWZzPgogICAgPHBhdGggZD0iTTI1LDUwIFEwLDUwIDAsMjUgTDUwLDMgTDk3LDI1IEw3OTcsMjUgTDc5Nyw1MCBMMjUsNTAgWiIgZmlsbD0iI0YwRjBGMCIgc3Ryb2tlPSIjRTBFMEUwIiBzdHJva2Utd2lkdGg9IjEiIG1hc2s9InVybCgjZmFkZU1hc2spIi8+Cjwvc3ZnPgo=\" alt=\"Time alert close\"/>"
        ]
      },
      {
        "cell_type": "markdown",
        "metadata": {
          "tags": [
            
          ],
          "id": "NhOlcAt1EAxU"
        },
        "source": [
          "That training was performed on a subset of data. To load a fully trained PEFT model, read a checkpoint of a PEFT model from S3."
        ]
      },
      {
        "cell_type": "code",
        "execution_count": null,
        "metadata": {
          "tags": [
            
          ],
          "id": "hRk-k8zqEAxU"
        },
        "outputs": [
          
        ],
        "source": [
          "!aws s3 cp --recursive s3://dlai-generative-ai/models/peft-dialogue-summary-checkpoint/ ./peft-dialogue-summary-checkpoint-from-s3/"
        ]
      },
      {
        "cell_type": "markdown",
        "metadata": {
          "tags": [
            
          ],
          "id": "u_es2k_aEAxU"
        },
        "source": [
          "Check that the size of this model is much less than the original LLM:"
        ]
      },
      {
        "cell_type": "code",
        "execution_count": null,
        "metadata": {
          "tags": [
            
          ],
          "id": "95o3Ky3PEAxV"
        },
        "outputs": [
          
        ],
        "source": [
          "!ls -al ./peft-dialogue-summary-checkpoint-from-s3/adapter_model.bin"
        ]
      },
      {
        "cell_type": "markdown",
        "metadata": {
          "tags": [
            
          ],
          "id": "YG9WZsgTEAxV"
        },
        "source": [
          "Prepare this model by adding an adapter to the original FLAN-T5 model. You are setting `is_trainable=False` because the plan is only to perform inference with this PEFT model. If you were preparing the model for further training, you would set `is_trainable=True`."
        ]
      },
      {
        "cell_type": "code",
        "execution_count": null,
        "metadata": {
          "tags": [
            
          ],
          "id": "KfYnO-pbEAxV"
        },
        "outputs": [
          
        ],
        "source": [
          "from peft import PeftModel, PeftConfig\n",
          "\n",
          "peft_model_base = AutoModelForSeq2SeqLM.from_pretrained(\"google/flan-t5-base\", torch_dtype=torch.bfloat16)\n",
          "tokenizer = AutoTokenizer.from_pretrained(\"google/flan-t5-base\")\n",
          "\n",
          "peft_model = PeftModel.from_pretrained(peft_model_base,\n",
          "                                       './peft-dialogue-summary-checkpoint-from-s3/',\n",
          "                                       torch_dtype=torch.bfloat16,\n",
          "                                       is_trainable=False)"
        ]
      },
      {
        "cell_type": "markdown",
        "metadata": {
          "tags": [
            
          ],
          "id": "QZVdZLeBEAxV"
        },
        "source": [
          "The number of trainable parameters will be `0` due to `is_trainable=False` setting:"
        ]
      },
      {
        "cell_type": "code",
        "execution_count": null,
        "metadata": {
          "tags": [
            
          ],
          "id": "z4eyyUS2EAxW"
        },
        "outputs": [
          
        ],
        "source": [
          "print(print_number_of_trainable_model_parameters(peft_model))"
        ]
      },
      {
        "cell_type": "markdown",
        "metadata": {
          "id": "UIE-oGmCEAxW"
        },
        "source": [
          "<a name='3.3'></a>\n",
          "### 3.3 - Evaluate the Model Qualitatively (Human Evaluation)\n",
          "\n",
          "Make inferences for the same example as in sections [1.3](#1.3) and [2.3](#2.3), with the original model, fully fine-tuned and PEFT model."
        ]
      },
      {
        "cell_type": "code",
        "execution_count": null,
        "metadata": {
          "tags": [
            
          ],
          "id": "9F1obOzJEAxW"
        },
        "outputs": [
          
        ],
        "source": [
          "index = 200\n",
          "dialogue = dataset['test'][index]['dialogue']\n",
          "baseline_human_summary = dataset['test'][index]['summary']\n",
          "\n",
          "prompt = f\"\"\"\n",
          "Summarize the following conversation.\n",
          "\n",
          "{dialogue}\n",
          "\n",
          "Summary: \"\"\"\n",
          "\n",
          "input_ids = tokenizer(prompt, return_tensors=\"pt\").input_ids\n",
          "\n",
          "original_model_outputs = original_model.generate(input_ids=input_ids, generation_config=GenerationConfig(max_new_tokens=200, num_beams=1))\n",
          "original_model_text_output = tokenizer.decode(original_model_outputs[0], skip_special_tokens=True)\n",
          "\n",
          "instruct_model_outputs = instruct_model.generate(input_ids=input_ids, generation_config=GenerationConfig(max_new_tokens=200, num_beams=1))\n",
          "instruct_model_text_output = tokenizer.decode(instruct_model_outputs[0], skip_special_tokens=True)\n",
          "\n",
          "peft_model_outputs = peft_model.generate(input_ids=input_ids, generation_config=GenerationConfig(max_new_tokens=200, num_beams=1))\n",
          "peft_model_text_output = tokenizer.decode(peft_model_outputs[0], skip_special_tokens=True)\n",
          "\n",
          "print(dash_line)\n",
          "print(f'BASELINE HUMAN SUMMARY:\\n{human_baseline_summary}')\n",
          "print(dash_line)\n",
          "print(f'ORIGINAL MODEL:\\n{original_model_text_output}')\n",
          "print(dash_line)\n",
          "print(f'INSTRUCT MODEL:\\n{instruct_model_text_output}')\n",
          "print(dash_line)\n",
          "print(f'PEFT MODEL: {peft_model_text_output}')"
        ]
      },
      {
        "cell_type": "markdown",
        "metadata": {
          "id": "zMzeSAbcEAxX"
        },
        "source": [
          "<a name='3.4'></a>\n",
          "### 3.4 - Evaluate the Model Quantitatively (with ROUGE Metric)\n",
          "Perform inferences for the sample of the test dataset (only 10 dialogues and summaries to save time)."
        ]
      },
      {
        "cell_type": "code",
        "execution_count": null,
        "metadata": {
          "tags": [
            
          ],
          "id": "hvdVyhxyEAxX"
        },
        "outputs": [
          
        ],
        "source": [
          "dialogues = dataset['test'][0:10]['dialogue']\n",
          "human_baseline_summaries = dataset['test'][0:10]['summary']\n",
          "\n",
          "original_model_summaries = []\n",
          "instruct_model_summaries = []\n",
          "peft_model_summaries = []\n",
          "\n",
          "for idx, dialogue in enumerate(dialogues):\n",
          "    prompt = f\"\"\"\n",
          "Summarize the following conversation.\n",
          "\n",
          "{dialogue}\n",
          "\n",
          "Summary: \"\"\"\n",
          "\n",
          "    input_ids = tokenizer(prompt, return_tensors=\"pt\").input_ids\n",
          "\n",
          "    human_baseline_text_output = human_baseline_summaries[idx]\n",
          "\n",
          "    original_model_outputs = original_model.generate(input_ids=input_ids, generation_config=GenerationConfig(max_new_tokens=200))\n",
          "    original_model_text_output = tokenizer.decode(original_model_outputs[0], skip_special_tokens=True)\n",
          "\n",
          "    instruct_model_outputs = instruct_model.generate(input_ids=input_ids, generation_config=GenerationConfig(max_new_tokens=200))\n",
          "    instruct_model_text_output = tokenizer.decode(instruct_model_outputs[0], skip_special_tokens=True)\n",
          "\n",
          "    peft_model_outputs = peft_model.generate(input_ids=input_ids, generation_config=GenerationConfig(max_new_tokens=200))\n",
          "    peft_model_text_output = tokenizer.decode(peft_model_outputs[0], skip_special_tokens=True)\n",
          "\n",
          "    original_model_summaries.append(original_model_text_output)\n",
          "    instruct_model_summaries.append(instruct_model_text_output)\n",
          "    peft_model_summaries.append(peft_model_text_output)\n",
          "\n",
          "zipped_summaries = list(zip(human_baseline_summaries, original_model_summaries, instruct_model_summaries, peft_model_summaries))\n",
          "\n",
          "df = pd.DataFrame(zipped_summaries, columns = ['human_baseline_summaries', 'original_model_summaries', 'instruct_model_summaries', 'peft_model_summaries'])\n",
          "df"
        ]
      },
      {
        "cell_type": "raw",
        "metadata": {
          "id": "V7tSkmCCEAxX"
        },
        "source": [
          "Compute ROUGE score for this subset of the data."
        ]
      },
      {
        "cell_type": "code",
        "execution_count": null,
        "metadata": {
          "tags": [
            
          ],
          "id": "bTHi7-WREAxX"
        },
        "outputs": [
          
        ],
        "source": [
          "rouge = evaluate.load('rouge')\n",
          "\n",
          "original_model_results = rouge.compute(\n",
          "    predictions=original_model_summaries,\n",
          "    references=human_baseline_summaries[0:len(original_model_summaries)],\n",
          "    use_aggregator=True,\n",
          "    use_stemmer=True,\n",
          ")\n",
          "\n",
          "instruct_model_results = rouge.compute(\n",
          "    predictions=instruct_model_summaries,\n",
          "    references=human_baseline_summaries[0:len(instruct_model_summaries)],\n",
          "    use_aggregator=True,\n",
          "    use_stemmer=True,\n",
          ")\n",
          "\n",
          "peft_model_results = rouge.compute(\n",
          "    predictions=peft_model_summaries,\n",
          "    references=human_baseline_summaries[0:len(peft_model_summaries)],\n",
          "    use_aggregator=True,\n",
          "    use_stemmer=True,\n",
          ")\n",
          "\n",
          "print('ORIGINAL MODEL:')\n",
          "print(original_model_results)\n",
          "print('INSTRUCT MODEL:')\n",
          "print(instruct_model_results)\n",
          "print('PEFT MODEL:')\n",
          "print(peft_model_results)"
        ]
      },
      {
        "cell_type": "markdown",
        "metadata": {
          "id": "zGa8C_cVEAxY"
        },
        "source": [
          "Notice, that PEFT model results are not too bad, while the training process was much easier!"
        ]
      },
      {
        "cell_type": "markdown",
        "metadata": {
          "id": "koXa3pU4EAxY"
        },
        "source": [
          "You already computed ROUGE score on the full dataset, after loading the results from the `data/dialogue-summary-training-results.csv` file. Load the values for the PEFT model now and check its performance compared to other models."
        ]
      },
      {
        "cell_type": "code",
        "execution_count": null,
        "metadata": {
          "tags": [
            
          ],
          "id": "5LmuTg0tEAxY"
        },
        "outputs": [
          
        ],
        "source": [
          "human_baseline_summaries = results['human_baseline_summaries'].values\n",
          "original_model_summaries = results['original_model_summaries'].values\n",
          "instruct_model_summaries = results['instruct_model_summaries'].values\n",
          "peft_model_summaries     = results['peft_model_summaries'].values\n",
          "\n",
          "original_model_results = rouge.compute(\n",
          "    predictions=original_model_summaries,\n",
          "    references=human_baseline_summaries[0:len(original_model_summaries)],\n",
          "    use_aggregator=True,\n",
          "    use_stemmer=True,\n",
          ")\n",
          "\n",
          "instruct_model_results = rouge.compute(\n",
          "    predictions=instruct_model_summaries,\n",
          "    references=human_baseline_summaries[0:len(instruct_model_summaries)],\n",
          "    use_aggregator=True,\n",
          "    use_stemmer=True,\n",
          ")\n",
          "\n",
          "peft_model_results = rouge.compute(\n",
          "    predictions=peft_model_summaries,\n",
          "    references=human_baseline_summaries[0:len(peft_model_summaries)],\n",
          "    use_aggregator=True,\n",
          "    use_stemmer=True,\n",
          ")\n",
          "\n",
          "print('ORIGINAL MODEL:')\n",
          "print(original_model_results)\n",
          "print('INSTRUCT MODEL:')\n",
          "print(instruct_model_results)\n",
          "print('PEFT MODEL:')\n",
          "print(peft_model_results)"
        ]
      },
      {
        "cell_type": "markdown",
        "metadata": {
          "id": "LQCLDj0hEAxZ"
        },
        "source": [
          "The results show less of an improvement over full fine-tuning, but the benefits of PEFT typically outweigh the slightly-lower performance metrics.\n",
          "\n",
          "Calculate the improvement of PEFT over the original model:"
        ]
      },
      {
        "cell_type": "code",
        "execution_count": null,
        "metadata": {
          "tags": [
            
          ],
          "id": "JC0jrdIoEAxZ"
        },
        "outputs": [
          
        ],
        "source": [
          "print(\"Absolute percentage improvement of PEFT MODEL over HUMAN BASELINE\")\n",
          "\n",
          "improvement = (np.array(list(peft_model_results.values())) - np.array(list(original_model_results.values())))\n",
          "for key, value in zip(peft_model_results.keys(), improvement):\n",
          "    print(f'{key}: {value*100:.2f}%')"
        ]
      },
      {
        "cell_type": "markdown",
        "metadata": {
          "id": "BIoi8NOjEAxZ"
        },
        "source": [
          "Now calculate the improvement of PEFT over a full fine-tuned model:"
        ]
      },
      {
        "cell_type": "code",
        "execution_count": null,
        "metadata": {
          "tags": [
            
          ],
          "id": "Fdh0QDCtEAxZ"
        },
        "outputs": [
          
        ],
        "source": [
          "print(\"Absolute percentage improvement of PEFT MODEL over INSTRUCT MODEL\")\n",
          "\n",
          "improvement = (np.array(list(peft_model_results.values())) - np.array(list(instruct_model_results.values())))\n",
          "for key, value in zip(peft_model_results.keys(), improvement):\n",
          "    print(f'{key}: {value*100:.2f}%')"
        ]
      },
      {
        "cell_type": "markdown",
        "metadata": {
          "id": "BXjoruG_EAxa"
        },
        "source": [
          "Here you see a small percentage decrease in the ROUGE metrics vs. full fine-tuned. However, the training requires much less computing and memory resources (often just a single GPU)."
        ]
      },
      {
        "cell_type": "code",
        "execution_count": null,
        "metadata": {
          "id": "S4YvW8CgEAxa"
        },
        "outputs": [
          
        ],
        "source": [
          
        ]
      }
    ],
    "metadata": {
      "availableInstances": [
        {
          "_defaultOrder": 0,
          "_isFastLaunch": true,
          "category": "General purpose",
          "gpuNum": 0,
          "hideHardwareSpecs": false,
          "memoryGiB": 4,
          "name": "ml.t3.medium",
          "vcpuNum": 2
        },
        {
          "_defaultOrder": 1,
          "_isFastLaunch": false,
          "category": "General purpose",
          "gpuNum": 0,
          "hideHardwareSpecs": false,
          "memoryGiB": 8,
          "name": "ml.t3.large",
          "vcpuNum": 2
        },
        {
          "_defaultOrder": 2,
          "_isFastLaunch": false,
          "category": "General purpose",
          "gpuNum": 0,
          "hideHardwareSpecs": false,
          "memoryGiB": 16,
          "name": "ml.t3.xlarge",
          "vcpuNum": 4
        },
        {
          "_defaultOrder": 3,
          "_isFastLaunch": false,
          "category": "General purpose",
          "gpuNum": 0,
          "hideHardwareSpecs": false,
          "memoryGiB": 32,
          "name": "ml.t3.2xlarge",
          "vcpuNum": 8
        },
        {
          "_defaultOrder": 4,
          "_isFastLaunch": true,
          "category": "General purpose",
          "gpuNum": 0,
          "hideHardwareSpecs": false,
          "memoryGiB": 8,
          "name": "ml.m5.large",
          "vcpuNum": 2
        },
        {
          "_defaultOrder": 5,
          "_isFastLaunch": false,
          "category": "General purpose",
          "gpuNum": 0,
          "hideHardwareSpecs": false,
          "memoryGiB": 16,
          "name": "ml.m5.xlarge",
          "vcpuNum": 4
        },
        {
          "_defaultOrder": 6,
          "_isFastLaunch": false,
          "category": "General purpose",
          "gpuNum": 0,
          "hideHardwareSpecs": false,
          "memoryGiB": 32,
          "name": "ml.m5.2xlarge",
          "vcpuNum": 8
        },
        {
          "_defaultOrder": 7,
          "_isFastLaunch": false,
          "category": "General purpose",
          "gpuNum": 0,
          "hideHardwareSpecs": false,
          "memoryGiB": 64,
          "name": "ml.m5.4xlarge",
          "vcpuNum": 16
        },
        {
          "_defaultOrder": 8,
          "_isFastLaunch": false,
          "category": "General purpose",
          "gpuNum": 0,
          "hideHardwareSpecs": false,
          "memoryGiB": 128,
          "name": "ml.m5.8xlarge",
          "vcpuNum": 32
        },
        {
          "_defaultOrder": 9,
          "_isFastLaunch": false,
          "category": "General purpose",
          "gpuNum": 0,
          "hideHardwareSpecs": false,
          "memoryGiB": 192,
          "name": "ml.m5.12xlarge",
          "vcpuNum": 48
        },
        {
          "_defaultOrder": 10,
          "_isFastLaunch": false,
          "category": "General purpose",
          "gpuNum": 0,
          "hideHardwareSpecs": false,
          "memoryGiB": 256,
          "name": "ml.m5.16xlarge",
          "vcpuNum": 64
        },
        {
          "_defaultOrder": 11,
          "_isFastLaunch": false,
          "category": "General purpose",
          "gpuNum": 0,
          "hideHardwareSpecs": false,
          "memoryGiB": 384,
          "name": "ml.m5.24xlarge",
          "vcpuNum": 96
        },
        {
          "_defaultOrder": 12,
          "_isFastLaunch": false,
          "category": "General purpose",
          "gpuNum": 0,
          "hideHardwareSpecs": false,
          "memoryGiB": 8,
          "name": "ml.m5d.large",
          "vcpuNum": 2
        },
        {
          "_defaultOrder": 13,
          "_isFastLaunch": false,
          "category": "General purpose",
          "gpuNum": 0,
          "hideHardwareSpecs": false,
          "memoryGiB": 16,
          "name": "ml.m5d.xlarge",
          "vcpuNum": 4
        },
        {
          "_defaultOrder": 14,
          "_isFastLaunch": false,
          "category": "General purpose",
          "gpuNum": 0,
          "hideHardwareSpecs": false,
          "memoryGiB": 32,
          "name": "ml.m5d.2xlarge",
          "vcpuNum": 8
        },
        {
          "_defaultOrder": 15,
          "_isFastLaunch": false,
          "category": "General purpose",
          "gpuNum": 0,
          "hideHardwareSpecs": false,
          "memoryGiB": 64,
          "name": "ml.m5d.4xlarge",
          "vcpuNum": 16
        },
        {
          "_defaultOrder": 16,
          "_isFastLaunch": false,
          "category": "General purpose",
          "gpuNum": 0,
          "hideHardwareSpecs": false,
          "memoryGiB": 128,
          "name": "ml.m5d.8xlarge",
          "vcpuNum": 32
        },
        {
          "_defaultOrder": 17,
          "_isFastLaunch": false,
          "category": "General purpose",
          "gpuNum": 0,
          "hideHardwareSpecs": false,
          "memoryGiB": 192,
          "name": "ml.m5d.12xlarge",
          "vcpuNum": 48
        },
        {
          "_defaultOrder": 18,
          "_isFastLaunch": false,
          "category": "General purpose",
          "gpuNum": 0,
          "hideHardwareSpecs": false,
          "memoryGiB": 256,
          "name": "ml.m5d.16xlarge",
          "vcpuNum": 64
        },
        {
          "_defaultOrder": 19,
          "_isFastLaunch": false,
          "category": "General purpose",
          "gpuNum": 0,
          "hideHardwareSpecs": false,
          "memoryGiB": 384,
          "name": "ml.m5d.24xlarge",
          "vcpuNum": 96
        },
        {
          "_defaultOrder": 20,
          "_isFastLaunch": false,
          "category": "General purpose",
          "gpuNum": 0,
          "hideHardwareSpecs": true,
          "memoryGiB": 0,
          "name": "ml.geospatial.interactive",
          "supportedImageNames": [
            "sagemaker-geospatial-v1-0"
          ],
          "vcpuNum": 0
        },
        {
          "_defaultOrder": 21,
          "_isFastLaunch": true,
          "category": "Compute optimized",
          "gpuNum": 0,
          "hideHardwareSpecs": false,
          "memoryGiB": 4,
          "name": "ml.c5.large",
          "vcpuNum": 2
        },
        {
          "_defaultOrder": 22,
          "_isFastLaunch": false,
          "category": "Compute optimized",
          "gpuNum": 0,
          "hideHardwareSpecs": false,
          "memoryGiB": 8,
          "name": "ml.c5.xlarge",
          "vcpuNum": 4
        },
        {
          "_defaultOrder": 23,
          "_isFastLaunch": false,
          "category": "Compute optimized",
          "gpuNum": 0,
          "hideHardwareSpecs": false,
          "memoryGiB": 16,
          "name": "ml.c5.2xlarge",
          "vcpuNum": 8
        },
        {
          "_defaultOrder": 24,
          "_isFastLaunch": false,
          "category": "Compute optimized",
          "gpuNum": 0,
          "hideHardwareSpecs": false,
          "memoryGiB": 32,
          "name": "ml.c5.4xlarge",
          "vcpuNum": 16
        },
        {
          "_defaultOrder": 25,
          "_isFastLaunch": false,
          "category": "Compute optimized",
          "gpuNum": 0,
          "hideHardwareSpecs": false,
          "memoryGiB": 72,
          "name": "ml.c5.9xlarge",
          "vcpuNum": 36
        },
        {
          "_defaultOrder": 26,
          "_isFastLaunch": false,
          "category": "Compute optimized",
          "gpuNum": 0,
          "hideHardwareSpecs": false,
          "memoryGiB": 96,
          "name": "ml.c5.12xlarge",
          "vcpuNum": 48
        },
        {
          "_defaultOrder": 27,
          "_isFastLaunch": false,
          "category": "Compute optimized",
          "gpuNum": 0,
          "hideHardwareSpecs": false,
          "memoryGiB": 144,
          "name": "ml.c5.18xlarge",
          "vcpuNum": 72
        },
        {
          "_defaultOrder": 28,
          "_isFastLaunch": false,
          "category": "Compute optimized",
          "gpuNum": 0,
          "hideHardwareSpecs": false,
          "memoryGiB": 192,
          "name": "ml.c5.24xlarge",
          "vcpuNum": 96
        },
        {
          "_defaultOrder": 29,
          "_isFastLaunch": true,
          "category": "Accelerated computing",
          "gpuNum": 1,
          "hideHardwareSpecs": false,
          "memoryGiB": 16,
          "name": "ml.g4dn.xlarge",
          "vcpuNum": 4
        },
        {
          "_defaultOrder": 30,
          "_isFastLaunch": false,
          "category": "Accelerated computing",
          "gpuNum": 1,
          "hideHardwareSpecs": false,
          "memoryGiB": 32,
          "name": "ml.g4dn.2xlarge",
          "vcpuNum": 8
        },
        {
          "_defaultOrder": 31,
          "_isFastLaunch": false,
          "category": "Accelerated computing",
          "gpuNum": 1,
          "hideHardwareSpecs": false,
          "memoryGiB": 64,
          "name": "ml.g4dn.4xlarge",
          "vcpuNum": 16
        },
        {
          "_defaultOrder": 32,
          "_isFastLaunch": false,
          "category": "Accelerated computing",
          "gpuNum": 1,
          "hideHardwareSpecs": false,
          "memoryGiB": 128,
          "name": "ml.g4dn.8xlarge",
          "vcpuNum": 32
        },
        {
          "_defaultOrder": 33,
          "_isFastLaunch": false,
          "category": "Accelerated computing",
          "gpuNum": 4,
          "hideHardwareSpecs": false,
          "memoryGiB": 192,
          "name": "ml.g4dn.12xlarge",
          "vcpuNum": 48
        },
        {
          "_defaultOrder": 34,
          "_isFastLaunch": false,
          "category": "Accelerated computing",
          "gpuNum": 1,
          "hideHardwareSpecs": false,
          "memoryGiB": 256,
          "name": "ml.g4dn.16xlarge",
          "vcpuNum": 64
        },
        {
          "_defaultOrder": 35,
          "_isFastLaunch": false,
          "category": "Accelerated computing",
          "gpuNum": 1,
          "hideHardwareSpecs": false,
          "memoryGiB": 61,
          "name": "ml.p3.2xlarge",
          "vcpuNum": 8
        },
        {
          "_defaultOrder": 36,
          "_isFastLaunch": false,
          "category": "Accelerated computing",
          "gpuNum": 4,
          "hideHardwareSpecs": false,
          "memoryGiB": 244,
          "name": "ml.p3.8xlarge",
          "vcpuNum": 32
        },
        {
          "_defaultOrder": 37,
          "_isFastLaunch": false,
          "category": "Accelerated computing",
          "gpuNum": 8,
          "hideHardwareSpecs": false,
          "memoryGiB": 488,
          "name": "ml.p3.16xlarge",
          "vcpuNum": 64
        },
        {
          "_defaultOrder": 38,
          "_isFastLaunch": false,
          "category": "Accelerated computing",
          "gpuNum": 8,
          "hideHardwareSpecs": false,
          "memoryGiB": 768,
          "name": "ml.p3dn.24xlarge",
          "vcpuNum": 96
        },
        {
          "_defaultOrder": 39,
          "_isFastLaunch": false,
          "category": "Memory Optimized",
          "gpuNum": 0,
          "hideHardwareSpecs": false,
          "memoryGiB": 16,
          "name": "ml.r5.large",
          "vcpuNum": 2
        },
        {
          "_defaultOrder": 40,
          "_isFastLaunch": false,
          "category": "Memory Optimized",
          "gpuNum": 0,
          "hideHardwareSpecs": false,
          "memoryGiB": 32,
          "name": "ml.r5.xlarge",
          "vcpuNum": 4
        },
        {
          "_defaultOrder": 41,
          "_isFastLaunch": false,
          "category": "Memory Optimized",
          "gpuNum": 0,
          "hideHardwareSpecs": false,
          "memoryGiB": 64,
          "name": "ml.r5.2xlarge",
          "vcpuNum": 8
        },
        {
          "_defaultOrder": 42,
          "_isFastLaunch": false,
          "category": "Memory Optimized",
          "gpuNum": 0,
          "hideHardwareSpecs": false,
          "memoryGiB": 128,
          "name": "ml.r5.4xlarge",
          "vcpuNum": 16
        },
        {
          "_defaultOrder": 43,
          "_isFastLaunch": false,
          "category": "Memory Optimized",
          "gpuNum": 0,
          "hideHardwareSpecs": false,
          "memoryGiB": 256,
          "name": "ml.r5.8xlarge",
          "vcpuNum": 32
        },
        {
          "_defaultOrder": 44,
          "_isFastLaunch": false,
          "category": "Memory Optimized",
          "gpuNum": 0,
          "hideHardwareSpecs": false,
          "memoryGiB": 384,
          "name": "ml.r5.12xlarge",
          "vcpuNum": 48
        },
        {
          "_defaultOrder": 45,
          "_isFastLaunch": false,
          "category": "Memory Optimized",
          "gpuNum": 0,
          "hideHardwareSpecs": false,
          "memoryGiB": 512,
          "name": "ml.r5.16xlarge",
          "vcpuNum": 64
        },
        {
          "_defaultOrder": 46,
          "_isFastLaunch": false,
          "category": "Memory Optimized",
          "gpuNum": 0,
          "hideHardwareSpecs": false,
          "memoryGiB": 768,
          "name": "ml.r5.24xlarge",
          "vcpuNum": 96
        },
        {
          "_defaultOrder": 47,
          "_isFastLaunch": false,
          "category": "Accelerated computing",
          "gpuNum": 1,
          "hideHardwareSpecs": false,
          "memoryGiB": 16,
          "name": "ml.g5.xlarge",
          "vcpuNum": 4
        },
        {
          "_defaultOrder": 48,
          "_isFastLaunch": false,
          "category": "Accelerated computing",
          "gpuNum": 1,
          "hideHardwareSpecs": false,
          "memoryGiB": 32,
          "name": "ml.g5.2xlarge",
          "vcpuNum": 8
        },
        {
          "_defaultOrder": 49,
          "_isFastLaunch": false,
          "category": "Accelerated computing",
          "gpuNum": 1,
          "hideHardwareSpecs": false,
          "memoryGiB": 64,
          "name": "ml.g5.4xlarge",
          "vcpuNum": 16
        },
        {
          "_defaultOrder": 50,
          "_isFastLaunch": false,
          "category": "Accelerated computing",
          "gpuNum": 1,
          "hideHardwareSpecs": false,
          "memoryGiB": 128,
          "name": "ml.g5.8xlarge",
          "vcpuNum": 32
        },
        {
          "_defaultOrder": 51,
          "_isFastLaunch": false,
          "category": "Accelerated computing",
          "gpuNum": 1,
          "hideHardwareSpecs": false,
          "memoryGiB": 256,
          "name": "ml.g5.16xlarge",
          "vcpuNum": 64
        },
        {
          "_defaultOrder": 52,
          "_isFastLaunch": false,
          "category": "Accelerated computing",
          "gpuNum": 4,
          "hideHardwareSpecs": false,
          "memoryGiB": 192,
          "name": "ml.g5.12xlarge",
          "vcpuNum": 48
        },
        {
          "_defaultOrder": 53,
          "_isFastLaunch": false,
          "category": "Accelerated computing",
          "gpuNum": 4,
          "hideHardwareSpecs": false,
          "memoryGiB": 384,
          "name": "ml.g5.24xlarge",
          "vcpuNum": 96
        },
        {
          "_defaultOrder": 54,
          "_isFastLaunch": false,
          "category": "Accelerated computing",
          "gpuNum": 8,
          "hideHardwareSpecs": false,
          "memoryGiB": 768,
          "name": "ml.g5.48xlarge",
          "vcpuNum": 192
        },
        {
          "_defaultOrder": 55,
          "_isFastLaunch": false,
          "category": "Accelerated computing",
          "gpuNum": 8,
          "hideHardwareSpecs": false,
          "memoryGiB": 1152,
          "name": "ml.p4d.24xlarge",
          "vcpuNum": 96
        },
        {
          "_defaultOrder": 56,
          "_isFastLaunch": false,
          "category": "Accelerated computing",
          "gpuNum": 8,
          "hideHardwareSpecs": false,
          "memoryGiB": 1152,
          "name": "ml.p4de.24xlarge",
          "vcpuNum": 96
        }
      ],
      "colab": {
        "provenance": [
          
        ],
        "include_colab_link": true
      },
      "instance_type": "ml.m5.2xlarge",
      "kernelspec": {
        "display_name": "Python 3 (Data Science)",
        "language": "python",
        "name": "python3__SAGEMAKER_INTERNAL__arn:aws:sagemaker:us-east-1:081325390199:image/datascience-1.0"
      },
      "language_info": {
        "codemirror_mode": {
          "name": "ipython",
          "version": 3
        },
        "file_extension": ".py",
        "mimetype": "text/x-python",
        "name": "python",
        "nbconvert_exporter": "python",
        "pygments_lexer": "ipython3",
        "version": "3.7.10"
      },
      "vscode": {
        "interpreter": {
          "hash": "aee8b7b246df8f9039afb4144a1f6fd8d2ca17a180786b69acc140d282b71a49"
        }
      },
      "widgets": {
        "application/vnd.jupyter.widget-state+json": {
          "1096c91e9b894ac6ba5bfccf064f6aba": {
            "model_module": "@jupyter-widgets/controls",
            "model_name": "HBoxModel",
            "model_module_version": "1.5.0",
            "state": {
              "_dom_classes": [
                
              ],
              "_model_module": "@jupyter-widgets/controls",
              "_model_module_version": "1.5.0",
              "_model_name": "HBoxModel",
              "_view_count": null,
              "_view_module": "@jupyter-widgets/controls",
              "_view_module_version": "1.5.0",
              "_view_name": "HBoxView",
              "box_style": "",
              "children": [
                "IPY_MODEL_5b9c0116d8fb4e79a3157e93b0893a41",
                "IPY_MODEL_d2aa98675f2e4b03b8610e288c0d69bc",
                "IPY_MODEL_912007d0b7c74b4c9f8c00674b371d0e"
              ],
              "layout": "IPY_MODEL_5f2e006bd66b4b07934350133a95ebd4"
            }
          },
          "5b9c0116d8fb4e79a3157e93b0893a41": {
            "model_module": "@jupyter-widgets/controls",
            "model_name": "HTMLModel",
            "model_module_version": "1.5.0",
            "state": {
              "_dom_classes": [
                
              ],
              "_model_module": "@jupyter-widgets/controls",
              "_model_module_version": "1.5.0",
              "_model_name": "HTMLModel",
              "_view_count": null,
              "_view_module": "@jupyter-widgets/controls",
              "_view_module_version": "1.5.0",
              "_view_name": "HTMLView",
              "description": "",
              "description_tooltip": null,
              "layout": "IPY_MODEL_c86322e47baf4379ac91eafdf7656f0e",
              "placeholder": "​",
              "style": "IPY_MODEL_7fd49a6e66114972863dcd8670bd2b29",
              "value": "Downloading readme: 100%"
            }
          },
          "d2aa98675f2e4b03b8610e288c0d69bc": {
            "model_module": "@jupyter-widgets/controls",
            "model_name": "FloatProgressModel",
            "model_module_version": "1.5.0",
            "state": {
              "_dom_classes": [
                
              ],
              "_model_module": "@jupyter-widgets/controls",
              "_model_module_version": "1.5.0",
              "_model_name": "FloatProgressModel",
              "_view_count": null,
              "_view_module": "@jupyter-widgets/controls",
              "_view_module_version": "1.5.0",
              "_view_name": "ProgressView",
              "bar_style": "success",
              "description": "",
              "description_tooltip": null,
              "layout": "IPY_MODEL_5bd0c1718f3a4840a3a03c78246ee9f9",
              "max": 4563,
              "min": 0,
              "orientation": "horizontal",
              "style": "IPY_MODEL_0a92a83c454d494285b1f888e9d74e6e",
              "value": 4563
            }
          },
          "912007d0b7c74b4c9f8c00674b371d0e": {
            "model_module": "@jupyter-widgets/controls",
            "model_name": "HTMLModel",
            "model_module_version": "1.5.0",
            "state": {
              "_dom_classes": [
                
              ],
              "_model_module": "@jupyter-widgets/controls",
              "_model_module_version": "1.5.0",
              "_model_name": "HTMLModel",
              "_view_count": null,
              "_view_module": "@jupyter-widgets/controls",
              "_view_module_version": "1.5.0",
              "_view_name": "HTMLView",
              "description": "",
              "description_tooltip": null,
              "layout": "IPY_MODEL_bc5a06121c0642a9b99732609366fd17",
              "placeholder": "​",
              "style": "IPY_MODEL_920f53e00fb54b7aaa99cf5f5ae74333",
              "value": " 4.56k/4.56k [00:00&lt;00:00, 99.1kB/s]"
            }
          },
          "5f2e006bd66b4b07934350133a95ebd4": {
            "model_module": "@jupyter-widgets/base",
            "model_name": "LayoutModel",
            "model_module_version": "1.2.0",
            "state": {
              "_model_module": "@jupyter-widgets/base",
              "_model_module_version": "1.2.0",
              "_model_name": "LayoutModel",
              "_view_count": null,
              "_view_module": "@jupyter-widgets/base",
              "_view_module_version": "1.2.0",
              "_view_name": "LayoutView",
              "align_content": null,
              "align_items": null,
              "align_self": null,
              "border": null,
              "bottom": null,
              "display": null,
              "flex": null,
              "flex_flow": null,
              "grid_area": null,
              "grid_auto_columns": null,
              "grid_auto_flow": null,
              "grid_auto_rows": null,
              "grid_column": null,
              "grid_gap": null,
              "grid_row": null,
              "grid_template_areas": null,
              "grid_template_columns": null,
              "grid_template_rows": null,
              "height": null,
              "justify_content": null,
              "justify_items": null,
              "left": null,
              "margin": null,
              "max_height": null,
              "max_width": null,
              "min_height": null,
              "min_width": null,
              "object_fit": null,
              "object_position": null,
              "order": null,
              "overflow": null,
              "overflow_x": null,
              "overflow_y": null,
              "padding": null,
              "right": null,
              "top": null,
              "visibility": null,
              "width": null
            }
          },
          "c86322e47baf4379ac91eafdf7656f0e": {
            "model_module": "@jupyter-widgets/base",
            "model_name": "LayoutModel",
            "model_module_version": "1.2.0",
            "state": {
              "_model_module": "@jupyter-widgets/base",
              "_model_module_version": "1.2.0",
              "_model_name": "LayoutModel",
              "_view_count": null,
              "_view_module": "@jupyter-widgets/base",
              "_view_module_version": "1.2.0",
              "_view_name": "LayoutView",
              "align_content": null,
              "align_items": null,
              "align_self": null,
              "border": null,
              "bottom": null,
              "display": null,
              "flex": null,
              "flex_flow": null,
              "grid_area": null,
              "grid_auto_columns": null,
              "grid_auto_flow": null,
              "grid_auto_rows": null,
              "grid_column": null,
              "grid_gap": null,
              "grid_row": null,
              "grid_template_areas": null,
              "grid_template_columns": null,
              "grid_template_rows": null,
              "height": null,
              "justify_content": null,
              "justify_items": null,
              "left": null,
              "margin": null,
              "max_height": null,
              "max_width": null,
              "min_height": null,
              "min_width": null,
              "object_fit": null,
              "object_position": null,
              "order": null,
              "overflow": null,
              "overflow_x": null,
              "overflow_y": null,
              "padding": null,
              "right": null,
              "top": null,
              "visibility": null,
              "width": null
            }
          },
          "7fd49a6e66114972863dcd8670bd2b29": {
            "model_module": "@jupyter-widgets/controls",
            "model_name": "DescriptionStyleModel",
            "model_module_version": "1.5.0",
            "state": {
              "_model_module": "@jupyter-widgets/controls",
              "_model_module_version": "1.5.0",
              "_model_name": "DescriptionStyleModel",
              "_view_count": null,
              "_view_module": "@jupyter-widgets/base",
              "_view_module_version": "1.2.0",
              "_view_name": "StyleView",
              "description_width": ""
            }
          },
          "5bd0c1718f3a4840a3a03c78246ee9f9": {
            "model_module": "@jupyter-widgets/base",
            "model_name": "LayoutModel",
            "model_module_version": "1.2.0",
            "state": {
              "_model_module": "@jupyter-widgets/base",
              "_model_module_version": "1.2.0",
              "_model_name": "LayoutModel",
              "_view_count": null,
              "_view_module": "@jupyter-widgets/base",
              "_view_module_version": "1.2.0",
              "_view_name": "LayoutView",
              "align_content": null,
              "align_items": null,
              "align_self": null,
              "border": null,
              "bottom": null,
              "display": null,
              "flex": null,
              "flex_flow": null,
              "grid_area": null,
              "grid_auto_columns": null,
              "grid_auto_flow": null,
              "grid_auto_rows": null,
              "grid_column": null,
              "grid_gap": null,
              "grid_row": null,
              "grid_template_areas": null,
              "grid_template_columns": null,
              "grid_template_rows": null,
              "height": null,
              "justify_content": null,
              "justify_items": null,
              "left": null,
              "margin": null,
              "max_height": null,
              "max_width": null,
              "min_height": null,
              "min_width": null,
              "object_fit": null,
              "object_position": null,
              "order": null,
              "overflow": null,
              "overflow_x": null,
              "overflow_y": null,
              "padding": null,
              "right": null,
              "top": null,
              "visibility": null,
              "width": null
            }
          },
          "0a92a83c454d494285b1f888e9d74e6e": {
            "model_module": "@jupyter-widgets/controls",
            "model_name": "ProgressStyleModel",
            "model_module_version": "1.5.0",
            "state": {
              "_model_module": "@jupyter-widgets/controls",
              "_model_module_version": "1.5.0",
              "_model_name": "ProgressStyleModel",
              "_view_count": null,
              "_view_module": "@jupyter-widgets/base",
              "_view_module_version": "1.2.0",
              "_view_name": "StyleView",
              "bar_color": null,
              "description_width": ""
            }
          },
          "bc5a06121c0642a9b99732609366fd17": {
            "model_module": "@jupyter-widgets/base",
            "model_name": "LayoutModel",
            "model_module_version": "1.2.0",
            "state": {
              "_model_module": "@jupyter-widgets/base",
              "_model_module_version": "1.2.0",
              "_model_name": "LayoutModel",
              "_view_count": null,
              "_view_module": "@jupyter-widgets/base",
              "_view_module_version": "1.2.0",
              "_view_name": "LayoutView",
              "align_content": null,
              "align_items": null,
              "align_self": null,
              "border": null,
              "bottom": null,
              "display": null,
              "flex": null,
              "flex_flow": null,
              "grid_area": null,
              "grid_auto_columns": null,
              "grid_auto_flow": null,
              "grid_auto_rows": null,
              "grid_column": null,
              "grid_gap": null,
              "grid_row": null,
              "grid_template_areas": null,
              "grid_template_columns": null,
              "grid_template_rows": null,
              "height": null,
              "justify_content": null,
              "justify_items": null,
              "left": null,
              "margin": null,
              "max_height": null,
              "max_width": null,
              "min_height": null,
              "min_width": null,
              "object_fit": null,
              "object_position": null,
              "order": null,
              "overflow": null,
              "overflow_x": null,
              "overflow_y": null,
              "padding": null,
              "right": null,
              "top": null,
              "visibility": null,
              "width": null
            }
          },
          "920f53e00fb54b7aaa99cf5f5ae74333": {
            "model_module": "@jupyter-widgets/controls",
            "model_name": "DescriptionStyleModel",
            "model_module_version": "1.5.0",
            "state": {
              "_model_module": "@jupyter-widgets/controls",
              "_model_module_version": "1.5.0",
              "_model_name": "DescriptionStyleModel",
              "_view_count": null,
              "_view_module": "@jupyter-widgets/base",
              "_view_module_version": "1.2.0",
              "_view_name": "StyleView",
              "description_width": ""
            }
          },
          "c5c6f4ce01ad40e5b28d9a9d5c412705": {
            "model_module": "@jupyter-widgets/controls",
            "model_name": "HBoxModel",
            "model_module_version": "1.5.0",
            "state": {
              "_dom_classes": [
                
              ],
              "_model_module": "@jupyter-widgets/controls",
              "_model_module_version": "1.5.0",
              "_model_name": "HBoxModel",
              "_view_count": null,
              "_view_module": "@jupyter-widgets/controls",
              "_view_module_version": "1.5.0",
              "_view_name": "HBoxView",
              "box_style": "",
              "children": [
                "IPY_MODEL_606db3fecdf449b09b10badd4a5ee258",
                "IPY_MODEL_43aeadc663f243e2a5258864769400ef",
                "IPY_MODEL_a9339e3512fe418c9e02505db8a2957b"
              ],
              "layout": "IPY_MODEL_336911ced5464006abfe3ad3e22ef320"
            }
          },
          "606db3fecdf449b09b10badd4a5ee258": {
            "model_module": "@jupyter-widgets/controls",
            "model_name": "HTMLModel",
            "model_module_version": "1.5.0",
            "state": {
              "_dom_classes": [
                
              ],
              "_model_module": "@jupyter-widgets/controls",
              "_model_module_version": "1.5.0",
              "_model_name": "HTMLModel",
              "_view_count": null,
              "_view_module": "@jupyter-widgets/controls",
              "_view_module_version": "1.5.0",
              "_view_name": "HTMLView",
              "description": "",
              "description_tooltip": null,
              "layout": "IPY_MODEL_93c38bf896f447cfbcf26d7aa678ed12",
              "placeholder": "​",
              "style": "IPY_MODEL_3393511265e042029f67795475ee5a80",
              "value": "Downloading data files: 100%"
            }
          },
          "43aeadc663f243e2a5258864769400ef": {
            "model_module": "@jupyter-widgets/controls",
            "model_name": "FloatProgressModel",
            "model_module_version": "1.5.0",
            "state": {
              "_dom_classes": [
                
              ],
              "_model_module": "@jupyter-widgets/controls",
              "_model_module_version": "1.5.0",
              "_model_name": "FloatProgressModel",
              "_view_count": null,
              "_view_module": "@jupyter-widgets/controls",
              "_view_module_version": "1.5.0",
              "_view_name": "ProgressView",
              "bar_style": "success",
              "description": "",
              "description_tooltip": null,
              "layout": "IPY_MODEL_1b77791d24984827ab829baff551ce38",
              "max": 3,
              "min": 0,
              "orientation": "horizontal",
              "style": "IPY_MODEL_f32f49c424bf485c93d09a1353f00c42",
              "value": 3
            }
          },
          "a9339e3512fe418c9e02505db8a2957b": {
            "model_module": "@jupyter-widgets/controls",
            "model_name": "HTMLModel",
            "model_module_version": "1.5.0",
            "state": {
              "_dom_classes": [
                
              ],
              "_model_module": "@jupyter-widgets/controls",
              "_model_module_version": "1.5.0",
              "_model_name": "HTMLModel",
              "_view_count": null,
              "_view_module": "@jupyter-widgets/controls",
              "_view_module_version": "1.5.0",
              "_view_name": "HTMLView",
              "description": "",
              "description_tooltip": null,
              "layout": "IPY_MODEL_3045e200414a4db89db9e01dd10d1883",
              "placeholder": "​",
              "style": "IPY_MODEL_8aadcc2fe84d4a37917e18a8ea5c2cd6",
              "value": " 3/3 [00:01&lt;00:00,  3.39it/s]"
            }
          },
          "336911ced5464006abfe3ad3e22ef320": {
            "model_module": "@jupyter-widgets/base",
            "model_name": "LayoutModel",
            "model_module_version": "1.2.0",
            "state": {
              "_model_module": "@jupyter-widgets/base",
              "_model_module_version": "1.2.0",
              "_model_name": "LayoutModel",
              "_view_count": null,
              "_view_module": "@jupyter-widgets/base",
              "_view_module_version": "1.2.0",
              "_view_name": "LayoutView",
              "align_content": null,
              "align_items": null,
              "align_self": null,
              "border": null,
              "bottom": null,
              "display": null,
              "flex": null,
              "flex_flow": null,
              "grid_area": null,
              "grid_auto_columns": null,
              "grid_auto_flow": null,
              "grid_auto_rows": null,
              "grid_column": null,
              "grid_gap": null,
              "grid_row": null,
              "grid_template_areas": null,
              "grid_template_columns": null,
              "grid_template_rows": null,
              "height": null,
              "justify_content": null,
              "justify_items": null,
              "left": null,
              "margin": null,
              "max_height": null,
              "max_width": null,
              "min_height": null,
              "min_width": null,
              "object_fit": null,
              "object_position": null,
              "order": null,
              "overflow": null,
              "overflow_x": null,
              "overflow_y": null,
              "padding": null,
              "right": null,
              "top": null,
              "visibility": null,
              "width": null
            }
          },
          "93c38bf896f447cfbcf26d7aa678ed12": {
            "model_module": "@jupyter-widgets/base",
            "model_name": "LayoutModel",
            "model_module_version": "1.2.0",
            "state": {
              "_model_module": "@jupyter-widgets/base",
              "_model_module_version": "1.2.0",
              "_model_name": "LayoutModel",
              "_view_count": null,
              "_view_module": "@jupyter-widgets/base",
              "_view_module_version": "1.2.0",
              "_view_name": "LayoutView",
              "align_content": null,
              "align_items": null,
              "align_self": null,
              "border": null,
              "bottom": null,
              "display": null,
              "flex": null,
              "flex_flow": null,
              "grid_area": null,
              "grid_auto_columns": null,
              "grid_auto_flow": null,
              "grid_auto_rows": null,
              "grid_column": null,
              "grid_gap": null,
              "grid_row": null,
              "grid_template_areas": null,
              "grid_template_columns": null,
              "grid_template_rows": null,
              "height": null,
              "justify_content": null,
              "justify_items": null,
              "left": null,
              "margin": null,
              "max_height": null,
              "max_width": null,
              "min_height": null,
              "min_width": null,
              "object_fit": null,
              "object_position": null,
              "order": null,
              "overflow": null,
              "overflow_x": null,
              "overflow_y": null,
              "padding": null,
              "right": null,
              "top": null,
              "visibility": null,
              "width": null
            }
          },
          "3393511265e042029f67795475ee5a80": {
            "model_module": "@jupyter-widgets/controls",
            "model_name": "DescriptionStyleModel",
            "model_module_version": "1.5.0",
            "state": {
              "_model_module": "@jupyter-widgets/controls",
              "_model_module_version": "1.5.0",
              "_model_name": "DescriptionStyleModel",
              "_view_count": null,
              "_view_module": "@jupyter-widgets/base",
              "_view_module_version": "1.2.0",
              "_view_name": "StyleView",
              "description_width": ""
            }
          },
          "1b77791d24984827ab829baff551ce38": {
            "model_module": "@jupyter-widgets/base",
            "model_name": "LayoutModel",
            "model_module_version": "1.2.0",
            "state": {
              "_model_module": "@jupyter-widgets/base",
              "_model_module_version": "1.2.0",
              "_model_name": "LayoutModel",
              "_view_count": null,
              "_view_module": "@jupyter-widgets/base",
              "_view_module_version": "1.2.0",
              "_view_name": "LayoutView",
              "align_content": null,
              "align_items": null,
              "align_self": null,
              "border": null,
              "bottom": null,
              "display": null,
              "flex": null,
              "flex_flow": null,
              "grid_area": null,
              "grid_auto_columns": null,
              "grid_auto_flow": null,
              "grid_auto_rows": null,
              "grid_column": null,
              "grid_gap": null,
              "grid_row": null,
              "grid_template_areas": null,
              "grid_template_columns": null,
              "grid_template_rows": null,
              "height": null,
              "justify_content": null,
              "justify_items": null,
              "left": null,
              "margin": null,
              "max_height": null,
              "max_width": null,
              "min_height": null,
              "min_width": null,
              "object_fit": null,
              "object_position": null,
              "order": null,
              "overflow": null,
              "overflow_x": null,
              "overflow_y": null,
              "padding": null,
              "right": null,
              "top": null,
              "visibility": null,
              "width": null
            }
          },
          "f32f49c424bf485c93d09a1353f00c42": {
            "model_module": "@jupyter-widgets/controls",
            "model_name": "ProgressStyleModel",
            "model_module_version": "1.5.0",
            "state": {
              "_model_module": "@jupyter-widgets/controls",
              "_model_module_version": "1.5.0",
              "_model_name": "ProgressStyleModel",
              "_view_count": null,
              "_view_module": "@jupyter-widgets/base",
              "_view_module_version": "1.2.0",
              "_view_name": "StyleView",
              "bar_color": null,
              "description_width": ""
            }
          },
          "3045e200414a4db89db9e01dd10d1883": {
            "model_module": "@jupyter-widgets/base",
            "model_name": "LayoutModel",
            "model_module_version": "1.2.0",
            "state": {
              "_model_module": "@jupyter-widgets/base",
              "_model_module_version": "1.2.0",
              "_model_name": "LayoutModel",
              "_view_count": null,
              "_view_module": "@jupyter-widgets/base",
              "_view_module_version": "1.2.0",
              "_view_name": "LayoutView",
              "align_content": null,
              "align_items": null,
              "align_self": null,
              "border": null,
              "bottom": null,
              "display": null,
              "flex": null,
              "flex_flow": null,
              "grid_area": null,
              "grid_auto_columns": null,
              "grid_auto_flow": null,
              "grid_auto_rows": null,
              "grid_column": null,
              "grid_gap": null,
              "grid_row": null,
              "grid_template_areas": null,
              "grid_template_columns": null,
              "grid_template_rows": null,
              "height": null,
              "justify_content": null,
              "justify_items": null,
              "left": null,
              "margin": null,
              "max_height": null,
              "max_width": null,
              "min_height": null,
              "min_width": null,
              "object_fit": null,
              "object_position": null,
              "order": null,
              "overflow": null,
              "overflow_x": null,
              "overflow_y": null,
              "padding": null,
              "right": null,
              "top": null,
              "visibility": null,
              "width": null
            }
          },
          "8aadcc2fe84d4a37917e18a8ea5c2cd6": {
            "model_module": "@jupyter-widgets/controls",
            "model_name": "DescriptionStyleModel",
            "model_module_version": "1.5.0",
            "state": {
              "_model_module": "@jupyter-widgets/controls",
              "_model_module_version": "1.5.0",
              "_model_name": "DescriptionStyleModel",
              "_view_count": null,
              "_view_module": "@jupyter-widgets/base",
              "_view_module_version": "1.2.0",
              "_view_name": "StyleView",
              "description_width": ""
            }
          },
          "b2f99933110a4ad0a2167c0f7c8965d0": {
            "model_module": "@jupyter-widgets/controls",
            "model_name": "HBoxModel",
            "model_module_version": "1.5.0",
            "state": {
              "_dom_classes": [
                
              ],
              "_model_module": "@jupyter-widgets/controls",
              "_model_module_version": "1.5.0",
              "_model_name": "HBoxModel",
              "_view_count": null,
              "_view_module": "@jupyter-widgets/controls",
              "_view_module_version": "1.5.0",
              "_view_name": "HBoxView",
              "box_style": "",
              "children": [
                "IPY_MODEL_79a6a72520a84e45bc3363cbd04667c1",
                "IPY_MODEL_d50b4107a8244c6187e6ca7d1631e496",
                "IPY_MODEL_e35b371d716e434b92f9f1abba175663"
              ],
              "layout": "IPY_MODEL_2ff36758ca534d9eb96812aebef0f537"
            }
          },
          "79a6a72520a84e45bc3363cbd04667c1": {
            "model_module": "@jupyter-widgets/controls",
            "model_name": "HTMLModel",
            "model_module_version": "1.5.0",
            "state": {
              "_dom_classes": [
                
              ],
              "_model_module": "@jupyter-widgets/controls",
              "_model_module_version": "1.5.0",
              "_model_name": "HTMLModel",
              "_view_count": null,
              "_view_module": "@jupyter-widgets/controls",
              "_view_module_version": "1.5.0",
              "_view_name": "HTMLView",
              "description": "",
              "description_tooltip": null,
              "layout": "IPY_MODEL_a9455ec8d0e94de9bc9729e6559e1d23",
              "placeholder": "​",
              "style": "IPY_MODEL_01303552b86246a2b8098b9d41470b89",
              "value": "Downloading data: 100%"
            }
          },
          "d50b4107a8244c6187e6ca7d1631e496": {
            "model_module": "@jupyter-widgets/controls",
            "model_name": "FloatProgressModel",
            "model_module_version": "1.5.0",
            "state": {
              "_dom_classes": [
                
              ],
              "_model_module": "@jupyter-widgets/controls",
              "_model_module_version": "1.5.0",
              "_model_name": "FloatProgressModel",
              "_view_count": null,
              "_view_module": "@jupyter-widgets/controls",
              "_view_module_version": "1.5.0",
              "_view_name": "ProgressView",
              "bar_style": "success",
              "description": "",
              "description_tooltip": null,
              "layout": "IPY_MODEL_e2d2b4ad57f748b29ad0f4a9c5531417",
              "max": 11321474,
              "min": 0,
              "orientation": "horizontal",
              "style": "IPY_MODEL_bf6c1e1e6bce44db88499da220321be2",
              "value": 11321474
            }
          },
          "e35b371d716e434b92f9f1abba175663": {
            "model_module": "@jupyter-widgets/controls",
            "model_name": "HTMLModel",
            "model_module_version": "1.5.0",
            "state": {
              "_dom_classes": [
                
              ],
              "_model_module": "@jupyter-widgets/controls",
              "_model_module_version": "1.5.0",
              "_model_name": "HTMLModel",
              "_view_count": null,
              "_view_module": "@jupyter-widgets/controls",
              "_view_module_version": "1.5.0",
              "_view_name": "HTMLView",
              "description": "",
              "description_tooltip": null,
              "layout": "IPY_MODEL_7eafef4d01d442cb8cbd5661a454f98e",
              "placeholder": "​",
              "style": "IPY_MODEL_eb382d85c8904497bbf8e9cf410564a8",
              "value": " 11.3M/11.3M [00:00&lt;00:00, 37.2MB/s]"
            }
          },
          "2ff36758ca534d9eb96812aebef0f537": {
            "model_module": "@jupyter-widgets/base",
            "model_name": "LayoutModel",
            "model_module_version": "1.2.0",
            "state": {
              "_model_module": "@jupyter-widgets/base",
              "_model_module_version": "1.2.0",
              "_model_name": "LayoutModel",
              "_view_count": null,
              "_view_module": "@jupyter-widgets/base",
              "_view_module_version": "1.2.0",
              "_view_name": "LayoutView",
              "align_content": null,
              "align_items": null,
              "align_self": null,
              "border": null,
              "bottom": null,
              "display": null,
              "flex": null,
              "flex_flow": null,
              "grid_area": null,
              "grid_auto_columns": null,
              "grid_auto_flow": null,
              "grid_auto_rows": null,
              "grid_column": null,
              "grid_gap": null,
              "grid_row": null,
              "grid_template_areas": null,
              "grid_template_columns": null,
              "grid_template_rows": null,
              "height": null,
              "justify_content": null,
              "justify_items": null,
              "left": null,
              "margin": null,
              "max_height": null,
              "max_width": null,
              "min_height": null,
              "min_width": null,
              "object_fit": null,
              "object_position": null,
              "order": null,
              "overflow": null,
              "overflow_x": null,
              "overflow_y": null,
              "padding": null,
              "right": null,
              "top": null,
              "visibility": null,
              "width": null
            }
          },
          "a9455ec8d0e94de9bc9729e6559e1d23": {
            "model_module": "@jupyter-widgets/base",
            "model_name": "LayoutModel",
            "model_module_version": "1.2.0",
            "state": {
              "_model_module": "@jupyter-widgets/base",
              "_model_module_version": "1.2.0",
              "_model_name": "LayoutModel",
              "_view_count": null,
              "_view_module": "@jupyter-widgets/base",
              "_view_module_version": "1.2.0",
              "_view_name": "LayoutView",
              "align_content": null,
              "align_items": null,
              "align_self": null,
              "border": null,
              "bottom": null,
              "display": null,
              "flex": null,
              "flex_flow": null,
              "grid_area": null,
              "grid_auto_columns": null,
              "grid_auto_flow": null,
              "grid_auto_rows": null,
              "grid_column": null,
              "grid_gap": null,
              "grid_row": null,
              "grid_template_areas": null,
              "grid_template_columns": null,
              "grid_template_rows": null,
              "height": null,
              "justify_content": null,
              "justify_items": null,
              "left": null,
              "margin": null,
              "max_height": null,
              "max_width": null,
              "min_height": null,
              "min_width": null,
              "object_fit": null,
              "object_position": null,
              "order": null,
              "overflow": null,
              "overflow_x": null,
              "overflow_y": null,
              "padding": null,
              "right": null,
              "top": null,
              "visibility": null,
              "width": null
            }
          },
          "01303552b86246a2b8098b9d41470b89": {
            "model_module": "@jupyter-widgets/controls",
            "model_name": "DescriptionStyleModel",
            "model_module_version": "1.5.0",
            "state": {
              "_model_module": "@jupyter-widgets/controls",
              "_model_module_version": "1.5.0",
              "_model_name": "DescriptionStyleModel",
              "_view_count": null,
              "_view_module": "@jupyter-widgets/base",
              "_view_module_version": "1.2.0",
              "_view_name": "StyleView",
              "description_width": ""
            }
          },
          "e2d2b4ad57f748b29ad0f4a9c5531417": {
            "model_module": "@jupyter-widgets/base",
            "model_name": "LayoutModel",
            "model_module_version": "1.2.0",
            "state": {
              "_model_module": "@jupyter-widgets/base",
              "_model_module_version": "1.2.0",
              "_model_name": "LayoutModel",
              "_view_count": null,
              "_view_module": "@jupyter-widgets/base",
              "_view_module_version": "1.2.0",
              "_view_name": "LayoutView",
              "align_content": null,
              "align_items": null,
              "align_self": null,
              "border": null,
              "bottom": null,
              "display": null,
              "flex": null,
              "flex_flow": null,
              "grid_area": null,
              "grid_auto_columns": null,
              "grid_auto_flow": null,
              "grid_auto_rows": null,
              "grid_column": null,
              "grid_gap": null,
              "grid_row": null,
              "grid_template_areas": null,
              "grid_template_columns": null,
              "grid_template_rows": null,
              "height": null,
              "justify_content": null,
              "justify_items": null,
              "left": null,
              "margin": null,
              "max_height": null,
              "max_width": null,
              "min_height": null,
              "min_width": null,
              "object_fit": null,
              "object_position": null,
              "order": null,
              "overflow": null,
              "overflow_x": null,
              "overflow_y": null,
              "padding": null,
              "right": null,
              "top": null,
              "visibility": null,
              "width": null
            }
          },
          "bf6c1e1e6bce44db88499da220321be2": {
            "model_module": "@jupyter-widgets/controls",
            "model_name": "ProgressStyleModel",
            "model_module_version": "1.5.0",
            "state": {
              "_model_module": "@jupyter-widgets/controls",
              "_model_module_version": "1.5.0",
              "_model_name": "ProgressStyleModel",
              "_view_count": null,
              "_view_module": "@jupyter-widgets/base",
              "_view_module_version": "1.2.0",
              "_view_name": "StyleView",
              "bar_color": null,
              "description_width": ""
            }
          },
          "7eafef4d01d442cb8cbd5661a454f98e": {
            "model_module": "@jupyter-widgets/base",
            "model_name": "LayoutModel",
            "model_module_version": "1.2.0",
            "state": {
              "_model_module": "@jupyter-widgets/base",
              "_model_module_version": "1.2.0",
              "_model_name": "LayoutModel",
              "_view_count": null,
              "_view_module": "@jupyter-widgets/base",
              "_view_module_version": "1.2.0",
              "_view_name": "LayoutView",
              "align_content": null,
              "align_items": null,
              "align_self": null,
              "border": null,
              "bottom": null,
              "display": null,
              "flex": null,
              "flex_flow": null,
              "grid_area": null,
              "grid_auto_columns": null,
              "grid_auto_flow": null,
              "grid_auto_rows": null,
              "grid_column": null,
              "grid_gap": null,
              "grid_row": null,
              "grid_template_areas": null,
              "grid_template_columns": null,
              "grid_template_rows": null,
              "height": null,
              "justify_content": null,
              "justify_items": null,
              "left": null,
              "margin": null,
              "max_height": null,
              "max_width": null,
              "min_height": null,
              "min_width": null,
              "object_fit": null,
              "object_position": null,
              "order": null,
              "overflow": null,
              "overflow_x": null,
              "overflow_y": null,
              "padding": null,
              "right": null,
              "top": null,
              "visibility": null,
              "width": null
            }
          },
          "eb382d85c8904497bbf8e9cf410564a8": {
            "model_module": "@jupyter-widgets/controls",
            "model_name": "DescriptionStyleModel",
            "model_module_version": "1.5.0",
            "state": {
              "_model_module": "@jupyter-widgets/controls",
              "_model_module_version": "1.5.0",
              "_model_name": "DescriptionStyleModel",
              "_view_count": null,
              "_view_module": "@jupyter-widgets/base",
              "_view_module_version": "1.2.0",
              "_view_name": "StyleView",
              "description_width": ""
            }
          },
          "4dea35a56f3247f4a9c25d153b9e42ee": {
            "model_module": "@jupyter-widgets/controls",
            "model_name": "HBoxModel",
            "model_module_version": "1.5.0",
            "state": {
              "_dom_classes": [
                
              ],
              "_model_module": "@jupyter-widgets/controls",
              "_model_module_version": "1.5.0",
              "_model_name": "HBoxModel",
              "_view_count": null,
              "_view_module": "@jupyter-widgets/controls",
              "_view_module_version": "1.5.0",
              "_view_name": "HBoxView",
              "box_style": "",
              "children": [
                "IPY_MODEL_d6f4d1efc00d4911b342bd293cb8ad10",
                "IPY_MODEL_d0a3cb92961b4252a55cd978fbb8dce9",
                "IPY_MODEL_9cfbd004397c4196bda57c523bf3c9ed"
              ],
              "layout": "IPY_MODEL_14e850bff4964cc9a8cd200e215d4581"
            }
          },
          "d6f4d1efc00d4911b342bd293cb8ad10": {
            "model_module": "@jupyter-widgets/controls",
            "model_name": "HTMLModel",
            "model_module_version": "1.5.0",
            "state": {
              "_dom_classes": [
                
              ],
              "_model_module": "@jupyter-widgets/controls",
              "_model_module_version": "1.5.0",
              "_model_name": "HTMLModel",
              "_view_count": null,
              "_view_module": "@jupyter-widgets/controls",
              "_view_module_version": "1.5.0",
              "_view_name": "HTMLView",
              "description": "",
              "description_tooltip": null,
              "layout": "IPY_MODEL_7a6d450616854a75af86c10af47c008c",
              "placeholder": "​",
              "style": "IPY_MODEL_afe660e760e64c718e64e6aaa2bb579a",
              "value": "Downloading data: 100%"
            }
          },
          "d0a3cb92961b4252a55cd978fbb8dce9": {
            "model_module": "@jupyter-widgets/controls",
            "model_name": "FloatProgressModel",
            "model_module_version": "1.5.0",
            "state": {
              "_dom_classes": [
                
              ],
              "_model_module": "@jupyter-widgets/controls",
              "_model_module_version": "1.5.0",
              "_model_name": "FloatProgressModel",
              "_view_count": null,
              "_view_module": "@jupyter-widgets/controls",
              "_view_module_version": "1.5.0",
              "_view_name": "ProgressView",
              "bar_style": "success",
              "description": "",
              "description_tooltip": null,
              "layout": "IPY_MODEL_00e4837333ed4532b48ef389ebc15986",
              "max": 1353147,
              "min": 0,
              "orientation": "horizontal",
              "style": "IPY_MODEL_7789a7b1bf5b458fbf6e659b82ba2df7",
              "value": 1353147
            }
          },
          "9cfbd004397c4196bda57c523bf3c9ed": {
            "model_module": "@jupyter-widgets/controls",
            "model_name": "HTMLModel",
            "model_module_version": "1.5.0",
            "state": {
              "_dom_classes": [
                
              ],
              "_model_module": "@jupyter-widgets/controls",
              "_model_module_version": "1.5.0",
              "_model_name": "HTMLModel",
              "_view_count": null,
              "_view_module": "@jupyter-widgets/controls",
              "_view_module_version": "1.5.0",
              "_view_name": "HTMLView",
              "description": "",
              "description_tooltip": null,
              "layout": "IPY_MODEL_55104855344440d3b71e52e467f3900c",
              "placeholder": "​",
              "style": "IPY_MODEL_043ba44201654a41bde3ececb33e5697",
              "value": " 1.35M/1.35M [00:00&lt;00:00, 22.9MB/s]"
            }
          },
          "14e850bff4964cc9a8cd200e215d4581": {
            "model_module": "@jupyter-widgets/base",
            "model_name": "LayoutModel",
            "model_module_version": "1.2.0",
            "state": {
              "_model_module": "@jupyter-widgets/base",
              "_model_module_version": "1.2.0",
              "_model_name": "LayoutModel",
              "_view_count": null,
              "_view_module": "@jupyter-widgets/base",
              "_view_module_version": "1.2.0",
              "_view_name": "LayoutView",
              "align_content": null,
              "align_items": null,
              "align_self": null,
              "border": null,
              "bottom": null,
              "display": null,
              "flex": null,
              "flex_flow": null,
              "grid_area": null,
              "grid_auto_columns": null,
              "grid_auto_flow": null,
              "grid_auto_rows": null,
              "grid_column": null,
              "grid_gap": null,
              "grid_row": null,
              "grid_template_areas": null,
              "grid_template_columns": null,
              "grid_template_rows": null,
              "height": null,
              "justify_content": null,
              "justify_items": null,
              "left": null,
              "margin": null,
              "max_height": null,
              "max_width": null,
              "min_height": null,
              "min_width": null,
              "object_fit": null,
              "object_position": null,
              "order": null,
              "overflow": null,
              "overflow_x": null,
              "overflow_y": null,
              "padding": null,
              "right": null,
              "top": null,
              "visibility": null,
              "width": null
            }
          },
          "7a6d450616854a75af86c10af47c008c": {
            "model_module": "@jupyter-widgets/base",
            "model_name": "LayoutModel",
            "model_module_version": "1.2.0",
            "state": {
              "_model_module": "@jupyter-widgets/base",
              "_model_module_version": "1.2.0",
              "_model_name": "LayoutModel",
              "_view_count": null,
              "_view_module": "@jupyter-widgets/base",
              "_view_module_version": "1.2.0",
              "_view_name": "LayoutView",
              "align_content": null,
              "align_items": null,
              "align_self": null,
              "border": null,
              "bottom": null,
              "display": null,
              "flex": null,
              "flex_flow": null,
              "grid_area": null,
              "grid_auto_columns": null,
              "grid_auto_flow": null,
              "grid_auto_rows": null,
              "grid_column": null,
              "grid_gap": null,
              "grid_row": null,
              "grid_template_areas": null,
              "grid_template_columns": null,
              "grid_template_rows": null,
              "height": null,
              "justify_content": null,
              "justify_items": null,
              "left": null,
              "margin": null,
              "max_height": null,
              "max_width": null,
              "min_height": null,
              "min_width": null,
              "object_fit": null,
              "object_position": null,
              "order": null,
              "overflow": null,
              "overflow_x": null,
              "overflow_y": null,
              "padding": null,
              "right": null,
              "top": null,
              "visibility": null,
              "width": null
            }
          },
          "afe660e760e64c718e64e6aaa2bb579a": {
            "model_module": "@jupyter-widgets/controls",
            "model_name": "DescriptionStyleModel",
            "model_module_version": "1.5.0",
            "state": {
              "_model_module": "@jupyter-widgets/controls",
              "_model_module_version": "1.5.0",
              "_model_name": "DescriptionStyleModel",
              "_view_count": null,
              "_view_module": "@jupyter-widgets/base",
              "_view_module_version": "1.2.0",
              "_view_name": "StyleView",
              "description_width": ""
            }
          },
          "00e4837333ed4532b48ef389ebc15986": {
            "model_module": "@jupyter-widgets/base",
            "model_name": "LayoutModel",
            "model_module_version": "1.2.0",
            "state": {
              "_model_module": "@jupyter-widgets/base",
              "_model_module_version": "1.2.0",
              "_model_name": "LayoutModel",
              "_view_count": null,
              "_view_module": "@jupyter-widgets/base",
              "_view_module_version": "1.2.0",
              "_view_name": "LayoutView",
              "align_content": null,
              "align_items": null,
              "align_self": null,
              "border": null,
              "bottom": null,
              "display": null,
              "flex": null,
              "flex_flow": null,
              "grid_area": null,
              "grid_auto_columns": null,
              "grid_auto_flow": null,
              "grid_auto_rows": null,
              "grid_column": null,
              "grid_gap": null,
              "grid_row": null,
              "grid_template_areas": null,
              "grid_template_columns": null,
              "grid_template_rows": null,
              "height": null,
              "justify_content": null,
              "justify_items": null,
              "left": null,
              "margin": null,
              "max_height": null,
              "max_width": null,
              "min_height": null,
              "min_width": null,
              "object_fit": null,
              "object_position": null,
              "order": null,
              "overflow": null,
              "overflow_x": null,
              "overflow_y": null,
              "padding": null,
              "right": null,
              "top": null,
              "visibility": null,
              "width": null
            }
          },
          "7789a7b1bf5b458fbf6e659b82ba2df7": {
            "model_module": "@jupyter-widgets/controls",
            "model_name": "ProgressStyleModel",
            "model_module_version": "1.5.0",
            "state": {
              "_model_module": "@jupyter-widgets/controls",
              "_model_module_version": "1.5.0",
              "_model_name": "ProgressStyleModel",
              "_view_count": null,
              "_view_module": "@jupyter-widgets/base",
              "_view_module_version": "1.2.0",
              "_view_name": "StyleView",
              "bar_color": null,
              "description_width": ""
            }
          },
          "55104855344440d3b71e52e467f3900c": {
            "model_module": "@jupyter-widgets/base",
            "model_name": "LayoutModel",
            "model_module_version": "1.2.0",
            "state": {
              "_model_module": "@jupyter-widgets/base",
              "_model_module_version": "1.2.0",
              "_model_name": "LayoutModel",
              "_view_count": null,
              "_view_module": "@jupyter-widgets/base",
              "_view_module_version": "1.2.0",
              "_view_name": "LayoutView",
              "align_content": null,
              "align_items": null,
              "align_self": null,
              "border": null,
              "bottom": null,
              "display": null,
              "flex": null,
              "flex_flow": null,
              "grid_area": null,
              "grid_auto_columns": null,
              "grid_auto_flow": null,
              "grid_auto_rows": null,
              "grid_column": null,
              "grid_gap": null,
              "grid_row": null,
              "grid_template_areas": null,
              "grid_template_columns": null,
              "grid_template_rows": null,
              "height": null,
              "justify_content": null,
              "justify_items": null,
              "left": null,
              "margin": null,
              "max_height": null,
              "max_width": null,
              "min_height": null,
              "min_width": null,
              "object_fit": null,
              "object_position": null,
              "order": null,
              "overflow": null,
              "overflow_x": null,
              "overflow_y": null,
              "padding": null,
              "right": null,
              "top": null,
              "visibility": null,
              "width": null
            }
          },
          "043ba44201654a41bde3ececb33e5697": {
            "model_module": "@jupyter-widgets/controls",
            "model_name": "DescriptionStyleModel",
            "model_module_version": "1.5.0",
            "state": {
              "_model_module": "@jupyter-widgets/controls",
              "_model_module_version": "1.5.0",
              "_model_name": "DescriptionStyleModel",
              "_view_count": null,
              "_view_module": "@jupyter-widgets/base",
              "_view_module_version": "1.2.0",
              "_view_name": "StyleView",
              "description_width": ""
            }
          },
          "ceaffba27a1b4e2593c68e3f4d80c50e": {
            "model_module": "@jupyter-widgets/controls",
            "model_name": "HBoxModel",
            "model_module_version": "1.5.0",
            "state": {
              "_dom_classes": [
                
              ],
              "_model_module": "@jupyter-widgets/controls",
              "_model_module_version": "1.5.0",
              "_model_name": "HBoxModel",
              "_view_count": null,
              "_view_module": "@jupyter-widgets/controls",
              "_view_module_version": "1.5.0",
              "_view_name": "HBoxView",
              "box_style": "",
              "children": [
                "IPY_MODEL_c7be92c74ed544a28bbdab3918989a8e",
                "IPY_MODEL_369718b7a8644d4097a29c41c4be2bfa",
                "IPY_MODEL_76f0879b32904b08bf786769e0f6c6bc"
              ],
              "layout": "IPY_MODEL_4fd1add2959d4501aa57e32d201b08cc"
            }
          },
          "c7be92c74ed544a28bbdab3918989a8e": {
            "model_module": "@jupyter-widgets/controls",
            "model_name": "HTMLModel",
            "model_module_version": "1.5.0",
            "state": {
              "_dom_classes": [
                
              ],
              "_model_module": "@jupyter-widgets/controls",
              "_model_module_version": "1.5.0",
              "_model_name": "HTMLModel",
              "_view_count": null,
              "_view_module": "@jupyter-widgets/controls",
              "_view_module_version": "1.5.0",
              "_view_name": "HTMLView",
              "description": "",
              "description_tooltip": null,
              "layout": "IPY_MODEL_c8800346491140f682d77f23dddb2b0f",
              "placeholder": "​",
              "style": "IPY_MODEL_509e71963e084d13adf26b5a19f3fea4",
              "value": "Downloading data: 100%"
            }
          },
          "369718b7a8644d4097a29c41c4be2bfa": {
            "model_module": "@jupyter-widgets/controls",
            "model_name": "FloatProgressModel",
            "model_module_version": "1.5.0",
            "state": {
              "_dom_classes": [
                
              ],
              "_model_module": "@jupyter-widgets/controls",
              "_model_module_version": "1.5.0",
              "_model_name": "FloatProgressModel",
              "_view_count": null,
              "_view_module": "@jupyter-widgets/controls",
              "_view_module_version": "1.5.0",
              "_view_name": "ProgressView",
              "bar_style": "success",
              "description": "",
              "description_tooltip": null,
              "layout": "IPY_MODEL_bdf56b395f0949f18c5b2caaf697362a",
              "max": 441935,
              "min": 0,
              "orientation": "horizontal",
              "style": "IPY_MODEL_97a0139d61b0432783a9d2dba6f58ac6",
              "value": 441935
            }
          },
          "76f0879b32904b08bf786769e0f6c6bc": {
            "model_module": "@jupyter-widgets/controls",
            "model_name": "HTMLModel",
            "model_module_version": "1.5.0",
            "state": {
              "_dom_classes": [
                
              ],
              "_model_module": "@jupyter-widgets/controls",
              "_model_module_version": "1.5.0",
              "_model_name": "HTMLModel",
              "_view_count": null,
              "_view_module": "@jupyter-widgets/controls",
              "_view_module_version": "1.5.0",
              "_view_name": "HTMLView",
              "description": "",
              "description_tooltip": null,
              "layout": "IPY_MODEL_e93e352853fd4145aee0b7e57e632388",
              "placeholder": "​",
              "style": "IPY_MODEL_ae548746efda48b0982770f146f3005b",
              "value": " 442k/442k [00:00&lt;00:00, 8.44MB/s]"
            }
          },
          "4fd1add2959d4501aa57e32d201b08cc": {
            "model_module": "@jupyter-widgets/base",
            "model_name": "LayoutModel",
            "model_module_version": "1.2.0",
            "state": {
              "_model_module": "@jupyter-widgets/base",
              "_model_module_version": "1.2.0",
              "_model_name": "LayoutModel",
              "_view_count": null,
              "_view_module": "@jupyter-widgets/base",
              "_view_module_version": "1.2.0",
              "_view_name": "LayoutView",
              "align_content": null,
              "align_items": null,
              "align_self": null,
              "border": null,
              "bottom": null,
              "display": null,
              "flex": null,
              "flex_flow": null,
              "grid_area": null,
              "grid_auto_columns": null,
              "grid_auto_flow": null,
              "grid_auto_rows": null,
              "grid_column": null,
              "grid_gap": null,
              "grid_row": null,
              "grid_template_areas": null,
              "grid_template_columns": null,
              "grid_template_rows": null,
              "height": null,
              "justify_content": null,
              "justify_items": null,
              "left": null,
              "margin": null,
              "max_height": null,
              "max_width": null,
              "min_height": null,
              "min_width": null,
              "object_fit": null,
              "object_position": null,
              "order": null,
              "overflow": null,
              "overflow_x": null,
              "overflow_y": null,
              "padding": null,
              "right": null,
              "top": null,
              "visibility": null,
              "width": null
            }
          },
          "c8800346491140f682d77f23dddb2b0f": {
            "model_module": "@jupyter-widgets/base",
            "model_name": "LayoutModel",
            "model_module_version": "1.2.0",
            "state": {
              "_model_module": "@jupyter-widgets/base",
              "_model_module_version": "1.2.0",
              "_model_name": "LayoutModel",
              "_view_count": null,
              "_view_module": "@jupyter-widgets/base",
              "_view_module_version": "1.2.0",
              "_view_name": "LayoutView",
              "align_content": null,
              "align_items": null,
              "align_self": null,
              "border": null,
              "bottom": null,
              "display": null,
              "flex": null,
              "flex_flow": null,
              "grid_area": null,
              "grid_auto_columns": null,
              "grid_auto_flow": null,
              "grid_auto_rows": null,
              "grid_column": null,
              "grid_gap": null,
              "grid_row": null,
              "grid_template_areas": null,
              "grid_template_columns": null,
              "grid_template_rows": null,
              "height": null,
              "justify_content": null,
              "justify_items": null,
              "left": null,
              "margin": null,
              "max_height": null,
              "max_width": null,
              "min_height": null,
              "min_width": null,
              "object_fit": null,
              "object_position": null,
              "order": null,
              "overflow": null,
              "overflow_x": null,
              "overflow_y": null,
              "padding": null,
              "right": null,
              "top": null,
              "visibility": null,
              "width": null
            }
          },
          "509e71963e084d13adf26b5a19f3fea4": {
            "model_module": "@jupyter-widgets/controls",
            "model_name": "DescriptionStyleModel",
            "model_module_version": "1.5.0",
            "state": {
              "_model_module": "@jupyter-widgets/controls",
              "_model_module_version": "1.5.0",
              "_model_name": "DescriptionStyleModel",
              "_view_count": null,
              "_view_module": "@jupyter-widgets/base",
              "_view_module_version": "1.2.0",
              "_view_name": "StyleView",
              "description_width": ""
            }
          },
          "bdf56b395f0949f18c5b2caaf697362a": {
            "model_module": "@jupyter-widgets/base",
            "model_name": "LayoutModel",
            "model_module_version": "1.2.0",
            "state": {
              "_model_module": "@jupyter-widgets/base",
              "_model_module_version": "1.2.0",
              "_model_name": "LayoutModel",
              "_view_count": null,
              "_view_module": "@jupyter-widgets/base",
              "_view_module_version": "1.2.0",
              "_view_name": "LayoutView",
              "align_content": null,
              "align_items": null,
              "align_self": null,
              "border": null,
              "bottom": null,
              "display": null,
              "flex": null,
              "flex_flow": null,
              "grid_area": null,
              "grid_auto_columns": null,
              "grid_auto_flow": null,
              "grid_auto_rows": null,
              "grid_column": null,
              "grid_gap": null,
              "grid_row": null,
              "grid_template_areas": null,
              "grid_template_columns": null,
              "grid_template_rows": null,
              "height": null,
              "justify_content": null,
              "justify_items": null,
              "left": null,
              "margin": null,
              "max_height": null,
              "max_width": null,
              "min_height": null,
              "min_width": null,
              "object_fit": null,
              "object_position": null,
              "order": null,
              "overflow": null,
              "overflow_x": null,
              "overflow_y": null,
              "padding": null,
              "right": null,
              "top": null,
              "visibility": null,
              "width": null
            }
          },
          "97a0139d61b0432783a9d2dba6f58ac6": {
            "model_module": "@jupyter-widgets/controls",
            "model_name": "ProgressStyleModel",
            "model_module_version": "1.5.0",
            "state": {
              "_model_module": "@jupyter-widgets/controls",
              "_model_module_version": "1.5.0",
              "_model_name": "ProgressStyleModel",
              "_view_count": null,
              "_view_module": "@jupyter-widgets/base",
              "_view_module_version": "1.2.0",
              "_view_name": "StyleView",
              "bar_color": null,
              "description_width": ""
            }
          },
          "e93e352853fd4145aee0b7e57e632388": {
            "model_module": "@jupyter-widgets/base",
            "model_name": "LayoutModel",
            "model_module_version": "1.2.0",
            "state": {
              "_model_module": "@jupyter-widgets/base",
              "_model_module_version": "1.2.0",
              "_model_name": "LayoutModel",
              "_view_count": null,
              "_view_module": "@jupyter-widgets/base",
              "_view_module_version": "1.2.0",
              "_view_name": "LayoutView",
              "align_content": null,
              "align_items": null,
              "align_self": null,
              "border": null,
              "bottom": null,
              "display": null,
              "flex": null,
              "flex_flow": null,
              "grid_area": null,
              "grid_auto_columns": null,
              "grid_auto_flow": null,
              "grid_auto_rows": null,
              "grid_column": null,
              "grid_gap": null,
              "grid_row": null,
              "grid_template_areas": null,
              "grid_template_columns": null,
              "grid_template_rows": null,
              "height": null,
              "justify_content": null,
              "justify_items": null,
              "left": null,
              "margin": null,
              "max_height": null,
              "max_width": null,
              "min_height": null,
              "min_width": null,
              "object_fit": null,
              "object_position": null,
              "order": null,
              "overflow": null,
              "overflow_x": null,
              "overflow_y": null,
              "padding": null,
              "right": null,
              "top": null,
              "visibility": null,
              "width": null
            }
          },
          "ae548746efda48b0982770f146f3005b": {
            "model_module": "@jupyter-widgets/controls",
            "model_name": "DescriptionStyleModel",
            "model_module_version": "1.5.0",
            "state": {
              "_model_module": "@jupyter-widgets/controls",
              "_model_module_version": "1.5.0",
              "_model_name": "DescriptionStyleModel",
              "_view_count": null,
              "_view_module": "@jupyter-widgets/base",
              "_view_module_version": "1.2.0",
              "_view_name": "StyleView",
              "description_width": ""
            }
          },
          "1e906ba4afbc4528949ce4a2d7915465": {
            "model_module": "@jupyter-widgets/controls",
            "model_name": "HBoxModel",
            "model_module_version": "1.5.0",
            "state": {
              "_dom_classes": [
                
              ],
              "_model_module": "@jupyter-widgets/controls",
              "_model_module_version": "1.5.0",
              "_model_name": "HBoxModel",
              "_view_count": null,
              "_view_module": "@jupyter-widgets/controls",
              "_view_module_version": "1.5.0",
              "_view_name": "HBoxView",
              "box_style": "",
              "children": [
                "IPY_MODEL_8c8d1f934546422f8ff16e6bdfe2f877",
                "IPY_MODEL_e7d4eaa4040d443a90563380877914b2",
                "IPY_MODEL_b450fb441cf7413ea5c16469a2de4f56"
              ],
              "layout": "IPY_MODEL_11ec3355fb9144a79e278cdf2920b6c9"
            }
          },
          "8c8d1f934546422f8ff16e6bdfe2f877": {
            "model_module": "@jupyter-widgets/controls",
            "model_name": "HTMLModel",
            "model_module_version": "1.5.0",
            "state": {
              "_dom_classes": [
                
              ],
              "_model_module": "@jupyter-widgets/controls",
              "_model_module_version": "1.5.0",
              "_model_name": "HTMLModel",
              "_view_count": null,
              "_view_module": "@jupyter-widgets/controls",
              "_view_module_version": "1.5.0",
              "_view_name": "HTMLView",
              "description": "",
              "description_tooltip": null,
              "layout": "IPY_MODEL_0ef507a9a8724eae8446049b954a11e5",
              "placeholder": "​",
              "style": "IPY_MODEL_b9d6b45d0c1e43e790db94dedeb4b675",
              "value": "Extracting data files: 100%"
            }
          },
          "e7d4eaa4040d443a90563380877914b2": {
            "model_module": "@jupyter-widgets/controls",
            "model_name": "FloatProgressModel",
            "model_module_version": "1.5.0",
            "state": {
              "_dom_classes": [
                
              ],
              "_model_module": "@jupyter-widgets/controls",
              "_model_module_version": "1.5.0",
              "_model_name": "FloatProgressModel",
              "_view_count": null,
              "_view_module": "@jupyter-widgets/controls",
              "_view_module_version": "1.5.0",
              "_view_name": "ProgressView",
              "bar_style": "success",
              "description": "",
              "description_tooltip": null,
              "layout": "IPY_MODEL_b5eb86c855d34d38abb9a11066e4ebea",
              "max": 3,
              "min": 0,
              "orientation": "horizontal",
              "style": "IPY_MODEL_ff4f2550b60d47ebb865bac02909ebda",
              "value": 3
            }
          },
          "b450fb441cf7413ea5c16469a2de4f56": {
            "model_module": "@jupyter-widgets/controls",
            "model_name": "HTMLModel",
            "model_module_version": "1.5.0",
            "state": {
              "_dom_classes": [
                
              ],
              "_model_module": "@jupyter-widgets/controls",
              "_model_module_version": "1.5.0",
              "_model_name": "HTMLModel",
              "_view_count": null,
              "_view_module": "@jupyter-widgets/controls",
              "_view_module_version": "1.5.0",
              "_view_name": "HTMLView",
              "description": "",
              "description_tooltip": null,
              "layout": "IPY_MODEL_5dfbacc96d0d418da04c40ab0a4260e3",
              "placeholder": "​",
              "style": "IPY_MODEL_e7dbac3120344567aac338d1f49df4a8",
              "value": " 3/3 [00:00&lt;00:00, 38.70it/s]"
            }
          },
          "11ec3355fb9144a79e278cdf2920b6c9": {
            "model_module": "@jupyter-widgets/base",
            "model_name": "LayoutModel",
            "model_module_version": "1.2.0",
            "state": {
              "_model_module": "@jupyter-widgets/base",
              "_model_module_version": "1.2.0",
              "_model_name": "LayoutModel",
              "_view_count": null,
              "_view_module": "@jupyter-widgets/base",
              "_view_module_version": "1.2.0",
              "_view_name": "LayoutView",
              "align_content": null,
              "align_items": null,
              "align_self": null,
              "border": null,
              "bottom": null,
              "display": null,
              "flex": null,
              "flex_flow": null,
              "grid_area": null,
              "grid_auto_columns": null,
              "grid_auto_flow": null,
              "grid_auto_rows": null,
              "grid_column": null,
              "grid_gap": null,
              "grid_row": null,
              "grid_template_areas": null,
              "grid_template_columns": null,
              "grid_template_rows": null,
              "height": null,
              "justify_content": null,
              "justify_items": null,
              "left": null,
              "margin": null,
              "max_height": null,
              "max_width": null,
              "min_height": null,
              "min_width": null,
              "object_fit": null,
              "object_position": null,
              "order": null,
              "overflow": null,
              "overflow_x": null,
              "overflow_y": null,
              "padding": null,
              "right": null,
              "top": null,
              "visibility": null,
              "width": null
            }
          },
          "0ef507a9a8724eae8446049b954a11e5": {
            "model_module": "@jupyter-widgets/base",
            "model_name": "LayoutModel",
            "model_module_version": "1.2.0",
            "state": {
              "_model_module": "@jupyter-widgets/base",
              "_model_module_version": "1.2.0",
              "_model_name": "LayoutModel",
              "_view_count": null,
              "_view_module": "@jupyter-widgets/base",
              "_view_module_version": "1.2.0",
              "_view_name": "LayoutView",
              "align_content": null,
              "align_items": null,
              "align_self": null,
              "border": null,
              "bottom": null,
              "display": null,
              "flex": null,
              "flex_flow": null,
              "grid_area": null,
              "grid_auto_columns": null,
              "grid_auto_flow": null,
              "grid_auto_rows": null,
              "grid_column": null,
              "grid_gap": null,
              "grid_row": null,
              "grid_template_areas": null,
              "grid_template_columns": null,
              "grid_template_rows": null,
              "height": null,
              "justify_content": null,
              "justify_items": null,
              "left": null,
              "margin": null,
              "max_height": null,
              "max_width": null,
              "min_height": null,
              "min_width": null,
              "object_fit": null,
              "object_position": null,
              "order": null,
              "overflow": null,
              "overflow_x": null,
              "overflow_y": null,
              "padding": null,
              "right": null,
              "top": null,
              "visibility": null,
              "width": null
            }
          },
          "b9d6b45d0c1e43e790db94dedeb4b675": {
            "model_module": "@jupyter-widgets/controls",
            "model_name": "DescriptionStyleModel",
            "model_module_version": "1.5.0",
            "state": {
              "_model_module": "@jupyter-widgets/controls",
              "_model_module_version": "1.5.0",
              "_model_name": "DescriptionStyleModel",
              "_view_count": null,
              "_view_module": "@jupyter-widgets/base",
              "_view_module_version": "1.2.0",
              "_view_name": "StyleView",
              "description_width": ""
            }
          },
          "b5eb86c855d34d38abb9a11066e4ebea": {
            "model_module": "@jupyter-widgets/base",
            "model_name": "LayoutModel",
            "model_module_version": "1.2.0",
            "state": {
              "_model_module": "@jupyter-widgets/base",
              "_model_module_version": "1.2.0",
              "_model_name": "LayoutModel",
              "_view_count": null,
              "_view_module": "@jupyter-widgets/base",
              "_view_module_version": "1.2.0",
              "_view_name": "LayoutView",
              "align_content": null,
              "align_items": null,
              "align_self": null,
              "border": null,
              "bottom": null,
              "display": null,
              "flex": null,
              "flex_flow": null,
              "grid_area": null,
              "grid_auto_columns": null,
              "grid_auto_flow": null,
              "grid_auto_rows": null,
              "grid_column": null,
              "grid_gap": null,
              "grid_row": null,
              "grid_template_areas": null,
              "grid_template_columns": null,
              "grid_template_rows": null,
              "height": null,
              "justify_content": null,
              "justify_items": null,
              "left": null,
              "margin": null,
              "max_height": null,
              "max_width": null,
              "min_height": null,
              "min_width": null,
              "object_fit": null,
              "object_position": null,
              "order": null,
              "overflow": null,
              "overflow_x": null,
              "overflow_y": null,
              "padding": null,
              "right": null,
              "top": null,
              "visibility": null,
              "width": null
            }
          },
          "ff4f2550b60d47ebb865bac02909ebda": {
            "model_module": "@jupyter-widgets/controls",
            "model_name": "ProgressStyleModel",
            "model_module_version": "1.5.0",
            "state": {
              "_model_module": "@jupyter-widgets/controls",
              "_model_module_version": "1.5.0",
              "_model_name": "ProgressStyleModel",
              "_view_count": null,
              "_view_module": "@jupyter-widgets/base",
              "_view_module_version": "1.2.0",
              "_view_name": "StyleView",
              "bar_color": null,
              "description_width": ""
            }
          },
          "5dfbacc96d0d418da04c40ab0a4260e3": {
            "model_module": "@jupyter-widgets/base",
            "model_name": "LayoutModel",
            "model_module_version": "1.2.0",
            "state": {
              "_model_module": "@jupyter-widgets/base",
              "_model_module_version": "1.2.0",
              "_model_name": "LayoutModel",
              "_view_count": null,
              "_view_module": "@jupyter-widgets/base",
              "_view_module_version": "1.2.0",
              "_view_name": "LayoutView",
              "align_content": null,
              "align_items": null,
              "align_self": null,
              "border": null,
              "bottom": null,
              "display": null,
              "flex": null,
              "flex_flow": null,
              "grid_area": null,
              "grid_auto_columns": null,
              "grid_auto_flow": null,
              "grid_auto_rows": null,
              "grid_column": null,
              "grid_gap": null,
              "grid_row": null,
              "grid_template_areas": null,
              "grid_template_columns": null,
              "grid_template_rows": null,
              "height": null,
              "justify_content": null,
              "justify_items": null,
              "left": null,
              "margin": null,
              "max_height": null,
              "max_width": null,
              "min_height": null,
              "min_width": null,
              "object_fit": null,
              "object_position": null,
              "order": null,
              "overflow": null,
              "overflow_x": null,
              "overflow_y": null,
              "padding": null,
              "right": null,
              "top": null,
              "visibility": null,
              "width": null
            }
          },
          "e7dbac3120344567aac338d1f49df4a8": {
            "model_module": "@jupyter-widgets/controls",
            "model_name": "DescriptionStyleModel",
            "model_module_version": "1.5.0",
            "state": {
              "_model_module": "@jupyter-widgets/controls",
              "_model_module_version": "1.5.0",
              "_model_name": "DescriptionStyleModel",
              "_view_count": null,
              "_view_module": "@jupyter-widgets/base",
              "_view_module_version": "1.2.0",
              "_view_name": "StyleView",
              "description_width": ""
            }
          },
          "b1857a9bba584998b3ef5b226e03d8f3": {
            "model_module": "@jupyter-widgets/controls",
            "model_name": "HBoxModel",
            "model_module_version": "1.5.0",
            "state": {
              "_dom_classes": [
                
              ],
              "_model_module": "@jupyter-widgets/controls",
              "_model_module_version": "1.5.0",
              "_model_name": "HBoxModel",
              "_view_count": null,
              "_view_module": "@jupyter-widgets/controls",
              "_view_module_version": "1.5.0",
              "_view_name": "HBoxView",
              "box_style": "",
              "children": [
                "IPY_MODEL_1422eb48090a4860954cfff4794c1b79",
                "IPY_MODEL_857cf3d5c3b24cd5bdbe7e1bd2ad3fdd",
                "IPY_MODEL_44f4796a71494bb3b140b5a183ca8379"
              ],
              "layout": "IPY_MODEL_64bf0a03aff3479f90f5b65282468383"
            }
          },
          "1422eb48090a4860954cfff4794c1b79": {
            "model_module": "@jupyter-widgets/controls",
            "model_name": "HTMLModel",
            "model_module_version": "1.5.0",
            "state": {
              "_dom_classes": [
                
              ],
              "_model_module": "@jupyter-widgets/controls",
              "_model_module_version": "1.5.0",
              "_model_name": "HTMLModel",
              "_view_count": null,
              "_view_module": "@jupyter-widgets/controls",
              "_view_module_version": "1.5.0",
              "_view_name": "HTMLView",
              "description": "",
              "description_tooltip": null,
              "layout": "IPY_MODEL_336ba2958a3143ccba8edd32ec3e0e7f",
              "placeholder": "​",
              "style": "IPY_MODEL_9697c0ebeef349069216d6436a4214b5",
              "value": "Generating train split: "
            }
          },
          "857cf3d5c3b24cd5bdbe7e1bd2ad3fdd": {
            "model_module": "@jupyter-widgets/controls",
            "model_name": "FloatProgressModel",
            "model_module_version": "1.5.0",
            "state": {
              "_dom_classes": [
                
              ],
              "_model_module": "@jupyter-widgets/controls",
              "_model_module_version": "1.5.0",
              "_model_name": "FloatProgressModel",
              "_view_count": null,
              "_view_module": "@jupyter-widgets/controls",
              "_view_module_version": "1.5.0",
              "_view_name": "ProgressView",
              "bar_style": "info",
              "description": "",
              "description_tooltip": null,
              "layout": "IPY_MODEL_76fbc2ad90e1476483761b22af6ddeab",
              "max": 1,
              "min": 0,
              "orientation": "horizontal",
              "style": "IPY_MODEL_842bc6165d9547dbbcee93fd4f19ca22",
              "value": 1
            }
          },
          "44f4796a71494bb3b140b5a183ca8379": {
            "model_module": "@jupyter-widgets/controls",
            "model_name": "HTMLModel",
            "model_module_version": "1.5.0",
            "state": {
              "_dom_classes": [
                
              ],
              "_model_module": "@jupyter-widgets/controls",
              "_model_module_version": "1.5.0",
              "_model_name": "HTMLModel",
              "_view_count": null,
              "_view_module": "@jupyter-widgets/controls",
              "_view_module_version": "1.5.0",
              "_view_name": "HTMLView",
              "description": "",
              "description_tooltip": null,
              "layout": "IPY_MODEL_ade66f7596444b578dfcc47e2757b6b8",
              "placeholder": "​",
              "style": "IPY_MODEL_7ea12742e48e47b5b985d5dbd64260d3",
              "value": " 10000/0 [00:00&lt;00:00, 17388.71 examples/s]"
            }
          },
          "64bf0a03aff3479f90f5b65282468383": {
            "model_module": "@jupyter-widgets/base",
            "model_name": "LayoutModel",
            "model_module_version": "1.2.0",
            "state": {
              "_model_module": "@jupyter-widgets/base",
              "_model_module_version": "1.2.0",
              "_model_name": "LayoutModel",
              "_view_count": null,
              "_view_module": "@jupyter-widgets/base",
              "_view_module_version": "1.2.0",
              "_view_name": "LayoutView",
              "align_content": null,
              "align_items": null,
              "align_self": null,
              "border": null,
              "bottom": null,
              "display": null,
              "flex": null,
              "flex_flow": null,
              "grid_area": null,
              "grid_auto_columns": null,
              "grid_auto_flow": null,
              "grid_auto_rows": null,
              "grid_column": null,
              "grid_gap": null,
              "grid_row": null,
              "grid_template_areas": null,
              "grid_template_columns": null,
              "grid_template_rows": null,
              "height": null,
              "justify_content": null,
              "justify_items": null,
              "left": null,
              "margin": null,
              "max_height": null,
              "max_width": null,
              "min_height": null,
              "min_width": null,
              "object_fit": null,
              "object_position": null,
              "order": null,
              "overflow": null,
              "overflow_x": null,
              "overflow_y": null,
              "padding": null,
              "right": null,
              "top": null,
              "visibility": "hidden",
              "width": null
            }
          },
          "336ba2958a3143ccba8edd32ec3e0e7f": {
            "model_module": "@jupyter-widgets/base",
            "model_name": "LayoutModel",
            "model_module_version": "1.2.0",
            "state": {
              "_model_module": "@jupyter-widgets/base",
              "_model_module_version": "1.2.0",
              "_model_name": "LayoutModel",
              "_view_count": null,
              "_view_module": "@jupyter-widgets/base",
              "_view_module_version": "1.2.0",
              "_view_name": "LayoutView",
              "align_content": null,
              "align_items": null,
              "align_self": null,
              "border": null,
              "bottom": null,
              "display": null,
              "flex": null,
              "flex_flow": null,
              "grid_area": null,
              "grid_auto_columns": null,
              "grid_auto_flow": null,
              "grid_auto_rows": null,
              "grid_column": null,
              "grid_gap": null,
              "grid_row": null,
              "grid_template_areas": null,
              "grid_template_columns": null,
              "grid_template_rows": null,
              "height": null,
              "justify_content": null,
              "justify_items": null,
              "left": null,
              "margin": null,
              "max_height": null,
              "max_width": null,
              "min_height": null,
              "min_width": null,
              "object_fit": null,
              "object_position": null,
              "order": null,
              "overflow": null,
              "overflow_x": null,
              "overflow_y": null,
              "padding": null,
              "right": null,
              "top": null,
              "visibility": null,
              "width": null
            }
          },
          "9697c0ebeef349069216d6436a4214b5": {
            "model_module": "@jupyter-widgets/controls",
            "model_name": "DescriptionStyleModel",
            "model_module_version": "1.5.0",
            "state": {
              "_model_module": "@jupyter-widgets/controls",
              "_model_module_version": "1.5.0",
              "_model_name": "DescriptionStyleModel",
              "_view_count": null,
              "_view_module": "@jupyter-widgets/base",
              "_view_module_version": "1.2.0",
              "_view_name": "StyleView",
              "description_width": ""
            }
          },
          "76fbc2ad90e1476483761b22af6ddeab": {
            "model_module": "@jupyter-widgets/base",
            "model_name": "LayoutModel",
            "model_module_version": "1.2.0",
            "state": {
              "_model_module": "@jupyter-widgets/base",
              "_model_module_version": "1.2.0",
              "_model_name": "LayoutModel",
              "_view_count": null,
              "_view_module": "@jupyter-widgets/base",
              "_view_module_version": "1.2.0",
              "_view_name": "LayoutView",
              "align_content": null,
              "align_items": null,
              "align_self": null,
              "border": null,
              "bottom": null,
              "display": null,
              "flex": null,
              "flex_flow": null,
              "grid_area": null,
              "grid_auto_columns": null,
              "grid_auto_flow": null,
              "grid_auto_rows": null,
              "grid_column": null,
              "grid_gap": null,
              "grid_row": null,
              "grid_template_areas": null,
              "grid_template_columns": null,
              "grid_template_rows": null,
              "height": null,
              "justify_content": null,
              "justify_items": null,
              "left": null,
              "margin": null,
              "max_height": null,
              "max_width": null,
              "min_height": null,
              "min_width": null,
              "object_fit": null,
              "object_position": null,
              "order": null,
              "overflow": null,
              "overflow_x": null,
              "overflow_y": null,
              "padding": null,
              "right": null,
              "top": null,
              "visibility": null,
              "width": "20px"
            }
          },
          "842bc6165d9547dbbcee93fd4f19ca22": {
            "model_module": "@jupyter-widgets/controls",
            "model_name": "ProgressStyleModel",
            "model_module_version": "1.5.0",
            "state": {
              "_model_module": "@jupyter-widgets/controls",
              "_model_module_version": "1.5.0",
              "_model_name": "ProgressStyleModel",
              "_view_count": null,
              "_view_module": "@jupyter-widgets/base",
              "_view_module_version": "1.2.0",
              "_view_name": "StyleView",
              "bar_color": null,
              "description_width": ""
            }
          },
          "ade66f7596444b578dfcc47e2757b6b8": {
            "model_module": "@jupyter-widgets/base",
            "model_name": "LayoutModel",
            "model_module_version": "1.2.0",
            "state": {
              "_model_module": "@jupyter-widgets/base",
              "_model_module_version": "1.2.0",
              "_model_name": "LayoutModel",
              "_view_count": null,
              "_view_module": "@jupyter-widgets/base",
              "_view_module_version": "1.2.0",
              "_view_name": "LayoutView",
              "align_content": null,
              "align_items": null,
              "align_self": null,
              "border": null,
              "bottom": null,
              "display": null,
              "flex": null,
              "flex_flow": null,
              "grid_area": null,
              "grid_auto_columns": null,
              "grid_auto_flow": null,
              "grid_auto_rows": null,
              "grid_column": null,
              "grid_gap": null,
              "grid_row": null,
              "grid_template_areas": null,
              "grid_template_columns": null,
              "grid_template_rows": null,
              "height": null,
              "justify_content": null,
              "justify_items": null,
              "left": null,
              "margin": null,
              "max_height": null,
              "max_width": null,
              "min_height": null,
              "min_width": null,
              "object_fit": null,
              "object_position": null,
              "order": null,
              "overflow": null,
              "overflow_x": null,
              "overflow_y": null,
              "padding": null,
              "right": null,
              "top": null,
              "visibility": null,
              "width": null
            }
          },
          "7ea12742e48e47b5b985d5dbd64260d3": {
            "model_module": "@jupyter-widgets/controls",
            "model_name": "DescriptionStyleModel",
            "model_module_version": "1.5.0",
            "state": {
              "_model_module": "@jupyter-widgets/controls",
              "_model_module_version": "1.5.0",
              "_model_name": "DescriptionStyleModel",
              "_view_count": null,
              "_view_module": "@jupyter-widgets/base",
              "_view_module_version": "1.2.0",
              "_view_name": "StyleView",
              "description_width": ""
            }
          },
          "4a874a806ff44d03ac6bbf284f7c2a90": {
            "model_module": "@jupyter-widgets/controls",
            "model_name": "HBoxModel",
            "model_module_version": "1.5.0",
            "state": {
              "_dom_classes": [
                
              ],
              "_model_module": "@jupyter-widgets/controls",
              "_model_module_version": "1.5.0",
              "_model_name": "HBoxModel",
              "_view_count": null,
              "_view_module": "@jupyter-widgets/controls",
              "_view_module_version": "1.5.0",
              "_view_name": "HBoxView",
              "box_style": "",
              "children": [
                "IPY_MODEL_79bb8e7e61704f75a35296e31683a203",
                "IPY_MODEL_b5e9295ddc05492281b37c3156603878",
                "IPY_MODEL_32081592140442c2996a3ef3d87c4ea5"
              ],
              "layout": "IPY_MODEL_c59dad50f0dc4999897e34237bc6d94d"
            }
          },
          "79bb8e7e61704f75a35296e31683a203": {
            "model_module": "@jupyter-widgets/controls",
            "model_name": "HTMLModel",
            "model_module_version": "1.5.0",
            "state": {
              "_dom_classes": [
                
              ],
              "_model_module": "@jupyter-widgets/controls",
              "_model_module_version": "1.5.0",
              "_model_name": "HTMLModel",
              "_view_count": null,
              "_view_module": "@jupyter-widgets/controls",
              "_view_module_version": "1.5.0",
              "_view_name": "HTMLView",
              "description": "",
              "description_tooltip": null,
              "layout": "IPY_MODEL_5780b845877744afb83d530304fdf543",
              "placeholder": "​",
              "style": "IPY_MODEL_b030f3290622473ea44a4503f599152d",
              "value": "Generating test split: "
            }
          },
          "b5e9295ddc05492281b37c3156603878": {
            "model_module": "@jupyter-widgets/controls",
            "model_name": "FloatProgressModel",
            "model_module_version": "1.5.0",
            "state": {
              "_dom_classes": [
                
              ],
              "_model_module": "@jupyter-widgets/controls",
              "_model_module_version": "1.5.0",
              "_model_name": "FloatProgressModel",
              "_view_count": null,
              "_view_module": "@jupyter-widgets/controls",
              "_view_module_version": "1.5.0",
              "_view_name": "ProgressView",
              "bar_style": "info",
              "description": "",
              "description_tooltip": null,
              "layout": "IPY_MODEL_b91bc6ffab5b408797775495756a1044",
              "max": 1,
              "min": 0,
              "orientation": "horizontal",
              "style": "IPY_MODEL_527461c1e134495cb4fc87e3ea608a68",
              "value": 1
            }
          },
          "32081592140442c2996a3ef3d87c4ea5": {
            "model_module": "@jupyter-widgets/controls",
            "model_name": "HTMLModel",
            "model_module_version": "1.5.0",
            "state": {
              "_dom_classes": [
                
              ],
              "_model_module": "@jupyter-widgets/controls",
              "_model_module_version": "1.5.0",
              "_model_name": "HTMLModel",
              "_view_count": null,
              "_view_module": "@jupyter-widgets/controls",
              "_view_module_version": "1.5.0",
              "_view_name": "HTMLView",
              "description": "",
              "description_tooltip": null,
              "layout": "IPY_MODEL_e022ba76a8514c9c9d37d5399d233b82",
              "placeholder": "​",
              "style": "IPY_MODEL_ed2bc3d03e734da6b3138cb90d4e6578",
              "value": " 0/0 [00:00&lt;?, ? examples/s]"
            }
          },
          "c59dad50f0dc4999897e34237bc6d94d": {
            "model_module": "@jupyter-widgets/base",
            "model_name": "LayoutModel",
            "model_module_version": "1.2.0",
            "state": {
              "_model_module": "@jupyter-widgets/base",
              "_model_module_version": "1.2.0",
              "_model_name": "LayoutModel",
              "_view_count": null,
              "_view_module": "@jupyter-widgets/base",
              "_view_module_version": "1.2.0",
              "_view_name": "LayoutView",
              "align_content": null,
              "align_items": null,
              "align_self": null,
              "border": null,
              "bottom": null,
              "display": null,
              "flex": null,
              "flex_flow": null,
              "grid_area": null,
              "grid_auto_columns": null,
              "grid_auto_flow": null,
              "grid_auto_rows": null,
              "grid_column": null,
              "grid_gap": null,
              "grid_row": null,
              "grid_template_areas": null,
              "grid_template_columns": null,
              "grid_template_rows": null,
              "height": null,
              "justify_content": null,
              "justify_items": null,
              "left": null,
              "margin": null,
              "max_height": null,
              "max_width": null,
              "min_height": null,
              "min_width": null,
              "object_fit": null,
              "object_position": null,
              "order": null,
              "overflow": null,
              "overflow_x": null,
              "overflow_y": null,
              "padding": null,
              "right": null,
              "top": null,
              "visibility": "hidden",
              "width": null
            }
          },
          "5780b845877744afb83d530304fdf543": {
            "model_module": "@jupyter-widgets/base",
            "model_name": "LayoutModel",
            "model_module_version": "1.2.0",
            "state": {
              "_model_module": "@jupyter-widgets/base",
              "_model_module_version": "1.2.0",
              "_model_name": "LayoutModel",
              "_view_count": null,
              "_view_module": "@jupyter-widgets/base",
              "_view_module_version": "1.2.0",
              "_view_name": "LayoutView",
              "align_content": null,
              "align_items": null,
              "align_self": null,
              "border": null,
              "bottom": null,
              "display": null,
              "flex": null,
              "flex_flow": null,
              "grid_area": null,
              "grid_auto_columns": null,
              "grid_auto_flow": null,
              "grid_auto_rows": null,
              "grid_column": null,
              "grid_gap": null,
              "grid_row": null,
              "grid_template_areas": null,
              "grid_template_columns": null,
              "grid_template_rows": null,
              "height": null,
              "justify_content": null,
              "justify_items": null,
              "left": null,
              "margin": null,
              "max_height": null,
              "max_width": null,
              "min_height": null,
              "min_width": null,
              "object_fit": null,
              "object_position": null,
              "order": null,
              "overflow": null,
              "overflow_x": null,
              "overflow_y": null,
              "padding": null,
              "right": null,
              "top": null,
              "visibility": null,
              "width": null
            }
          },
          "b030f3290622473ea44a4503f599152d": {
            "model_module": "@jupyter-widgets/controls",
            "model_name": "DescriptionStyleModel",
            "model_module_version": "1.5.0",
            "state": {
              "_model_module": "@jupyter-widgets/controls",
              "_model_module_version": "1.5.0",
              "_model_name": "DescriptionStyleModel",
              "_view_count": null,
              "_view_module": "@jupyter-widgets/base",
              "_view_module_version": "1.2.0",
              "_view_name": "StyleView",
              "description_width": ""
            }
          },
          "b91bc6ffab5b408797775495756a1044": {
            "model_module": "@jupyter-widgets/base",
            "model_name": "LayoutModel",
            "model_module_version": "1.2.0",
            "state": {
              "_model_module": "@jupyter-widgets/base",
              "_model_module_version": "1.2.0",
              "_model_name": "LayoutModel",
              "_view_count": null,
              "_view_module": "@jupyter-widgets/base",
              "_view_module_version": "1.2.0",
              "_view_name": "LayoutView",
              "align_content": null,
              "align_items": null,
              "align_self": null,
              "border": null,
              "bottom": null,
              "display": null,
              "flex": null,
              "flex_flow": null,
              "grid_area": null,
              "grid_auto_columns": null,
              "grid_auto_flow": null,
              "grid_auto_rows": null,
              "grid_column": null,
              "grid_gap": null,
              "grid_row": null,
              "grid_template_areas": null,
              "grid_template_columns": null,
              "grid_template_rows": null,
              "height": null,
              "justify_content": null,
              "justify_items": null,
              "left": null,
              "margin": null,
              "max_height": null,
              "max_width": null,
              "min_height": null,
              "min_width": null,
              "object_fit": null,
              "object_position": null,
              "order": null,
              "overflow": null,
              "overflow_x": null,
              "overflow_y": null,
              "padding": null,
              "right": null,
              "top": null,
              "visibility": null,
              "width": "20px"
            }
          },
          "527461c1e134495cb4fc87e3ea608a68": {
            "model_module": "@jupyter-widgets/controls",
            "model_name": "ProgressStyleModel",
            "model_module_version": "1.5.0",
            "state": {
              "_model_module": "@jupyter-widgets/controls",
              "_model_module_version": "1.5.0",
              "_model_name": "ProgressStyleModel",
              "_view_count": null,
              "_view_module": "@jupyter-widgets/base",
              "_view_module_version": "1.2.0",
              "_view_name": "StyleView",
              "bar_color": null,
              "description_width": ""
            }
          },
          "e022ba76a8514c9c9d37d5399d233b82": {
            "model_module": "@jupyter-widgets/base",
            "model_name": "LayoutModel",
            "model_module_version": "1.2.0",
            "state": {
              "_model_module": "@jupyter-widgets/base",
              "_model_module_version": "1.2.0",
              "_model_name": "LayoutModel",
              "_view_count": null,
              "_view_module": "@jupyter-widgets/base",
              "_view_module_version": "1.2.0",
              "_view_name": "LayoutView",
              "align_content": null,
              "align_items": null,
              "align_self": null,
              "border": null,
              "bottom": null,
              "display": null,
              "flex": null,
              "flex_flow": null,
              "grid_area": null,
              "grid_auto_columns": null,
              "grid_auto_flow": null,
              "grid_auto_rows": null,
              "grid_column": null,
              "grid_gap": null,
              "grid_row": null,
              "grid_template_areas": null,
              "grid_template_columns": null,
              "grid_template_rows": null,
              "height": null,
              "justify_content": null,
              "justify_items": null,
              "left": null,
              "margin": null,
              "max_height": null,
              "max_width": null,
              "min_height": null,
              "min_width": null,
              "object_fit": null,
              "object_position": null,
              "order": null,
              "overflow": null,
              "overflow_x": null,
              "overflow_y": null,
              "padding": null,
              "right": null,
              "top": null,
              "visibility": null,
              "width": null
            }
          },
          "ed2bc3d03e734da6b3138cb90d4e6578": {
            "model_module": "@jupyter-widgets/controls",
            "model_name": "DescriptionStyleModel",
            "model_module_version": "1.5.0",
            "state": {
              "_model_module": "@jupyter-widgets/controls",
              "_model_module_version": "1.5.0",
              "_model_name": "DescriptionStyleModel",
              "_view_count": null,
              "_view_module": "@jupyter-widgets/base",
              "_view_module_version": "1.2.0",
              "_view_name": "StyleView",
              "description_width": ""
            }
          },
          "4f892161e6a6450ab4944d7a58f4c661": {
            "model_module": "@jupyter-widgets/controls",
            "model_name": "HBoxModel",
            "model_module_version": "1.5.0",
            "state": {
              "_dom_classes": [
                
              ],
              "_model_module": "@jupyter-widgets/controls",
              "_model_module_version": "1.5.0",
              "_model_name": "HBoxModel",
              "_view_count": null,
              "_view_module": "@jupyter-widgets/controls",
              "_view_module_version": "1.5.0",
              "_view_name": "HBoxView",
              "box_style": "",
              "children": [
                "IPY_MODEL_07d45d8d71c74d83bedab2a1bbe90520",
                "IPY_MODEL_61b5a9d355ef49e29923d4ef1c763123",
                "IPY_MODEL_8f8569c9be974f2e9f8b5c0a30c3f83c"
              ],
              "layout": "IPY_MODEL_bd91a0e6c0d34594b0b946a022d143b0"
            }
          },
          "07d45d8d71c74d83bedab2a1bbe90520": {
            "model_module": "@jupyter-widgets/controls",
            "model_name": "HTMLModel",
            "model_module_version": "1.5.0",
            "state": {
              "_dom_classes": [
                
              ],
              "_model_module": "@jupyter-widgets/controls",
              "_model_module_version": "1.5.0",
              "_model_name": "HTMLModel",
              "_view_count": null,
              "_view_module": "@jupyter-widgets/controls",
              "_view_module_version": "1.5.0",
              "_view_name": "HTMLView",
              "description": "",
              "description_tooltip": null,
              "layout": "IPY_MODEL_6c528e10dde24dfaa13e836aad6cde9f",
              "placeholder": "​",
              "style": "IPY_MODEL_0c3ae02fdc4e43a786d2e01de26f2ac9",
              "value": "Generating validation split: "
            }
          },
          "61b5a9d355ef49e29923d4ef1c763123": {
            "model_module": "@jupyter-widgets/controls",
            "model_name": "FloatProgressModel",
            "model_module_version": "1.5.0",
            "state": {
              "_dom_classes": [
                
              ],
              "_model_module": "@jupyter-widgets/controls",
              "_model_module_version": "1.5.0",
              "_model_name": "FloatProgressModel",
              "_view_count": null,
              "_view_module": "@jupyter-widgets/controls",
              "_view_module_version": "1.5.0",
              "_view_name": "ProgressView",
              "bar_style": "info",
              "description": "",
              "description_tooltip": null,
              "layout": "IPY_MODEL_4bb840b66b9f48b9a37b542a029093a1",
              "max": 1,
              "min": 0,
              "orientation": "horizontal",
              "style": "IPY_MODEL_4b9a522cdc364da5bbca5f3bcdefb06b",
              "value": 1
            }
          },
          "8f8569c9be974f2e9f8b5c0a30c3f83c": {
            "model_module": "@jupyter-widgets/controls",
            "model_name": "HTMLModel",
            "model_module_version": "1.5.0",
            "state": {
              "_dom_classes": [
                
              ],
              "_model_module": "@jupyter-widgets/controls",
              "_model_module_version": "1.5.0",
              "_model_name": "HTMLModel",
              "_view_count": null,
              "_view_module": "@jupyter-widgets/controls",
              "_view_module_version": "1.5.0",
              "_view_name": "HTMLView",
              "description": "",
              "description_tooltip": null,
              "layout": "IPY_MODEL_17c39390353044658503ef18b743dd13",
              "placeholder": "​",
              "style": "IPY_MODEL_e91bf91b580846f7b65f37bd496347df",
              "value": " 0/0 [00:00&lt;?, ? examples/s]"
            }
          },
          "bd91a0e6c0d34594b0b946a022d143b0": {
            "model_module": "@jupyter-widgets/base",
            "model_name": "LayoutModel",
            "model_module_version": "1.2.0",
            "state": {
              "_model_module": "@jupyter-widgets/base",
              "_model_module_version": "1.2.0",
              "_model_name": "LayoutModel",
              "_view_count": null,
              "_view_module": "@jupyter-widgets/base",
              "_view_module_version": "1.2.0",
              "_view_name": "LayoutView",
              "align_content": null,
              "align_items": null,
              "align_self": null,
              "border": null,
              "bottom": null,
              "display": null,
              "flex": null,
              "flex_flow": null,
              "grid_area": null,
              "grid_auto_columns": null,
              "grid_auto_flow": null,
              "grid_auto_rows": null,
              "grid_column": null,
              "grid_gap": null,
              "grid_row": null,
              "grid_template_areas": null,
              "grid_template_columns": null,
              "grid_template_rows": null,
              "height": null,
              "justify_content": null,
              "justify_items": null,
              "left": null,
              "margin": null,
              "max_height": null,
              "max_width": null,
              "min_height": null,
              "min_width": null,
              "object_fit": null,
              "object_position": null,
              "order": null,
              "overflow": null,
              "overflow_x": null,
              "overflow_y": null,
              "padding": null,
              "right": null,
              "top": null,
              "visibility": "hidden",
              "width": null
            }
          },
          "6c528e10dde24dfaa13e836aad6cde9f": {
            "model_module": "@jupyter-widgets/base",
            "model_name": "LayoutModel",
            "model_module_version": "1.2.0",
            "state": {
              "_model_module": "@jupyter-widgets/base",
              "_model_module_version": "1.2.0",
              "_model_name": "LayoutModel",
              "_view_count": null,
              "_view_module": "@jupyter-widgets/base",
              "_view_module_version": "1.2.0",
              "_view_name": "LayoutView",
              "align_content": null,
              "align_items": null,
              "align_self": null,
              "border": null,
              "bottom": null,
              "display": null,
              "flex": null,
              "flex_flow": null,
              "grid_area": null,
              "grid_auto_columns": null,
              "grid_auto_flow": null,
              "grid_auto_rows": null,
              "grid_column": null,
              "grid_gap": null,
              "grid_row": null,
              "grid_template_areas": null,
              "grid_template_columns": null,
              "grid_template_rows": null,
              "height": null,
              "justify_content": null,
              "justify_items": null,
              "left": null,
              "margin": null,
              "max_height": null,
              "max_width": null,
              "min_height": null,
              "min_width": null,
              "object_fit": null,
              "object_position": null,
              "order": null,
              "overflow": null,
              "overflow_x": null,
              "overflow_y": null,
              "padding": null,
              "right": null,
              "top": null,
              "visibility": null,
              "width": null
            }
          },
          "0c3ae02fdc4e43a786d2e01de26f2ac9": {
            "model_module": "@jupyter-widgets/controls",
            "model_name": "DescriptionStyleModel",
            "model_module_version": "1.5.0",
            "state": {
              "_model_module": "@jupyter-widgets/controls",
              "_model_module_version": "1.5.0",
              "_model_name": "DescriptionStyleModel",
              "_view_count": null,
              "_view_module": "@jupyter-widgets/base",
              "_view_module_version": "1.2.0",
              "_view_name": "StyleView",
              "description_width": ""
            }
          },
          "4bb840b66b9f48b9a37b542a029093a1": {
            "model_module": "@jupyter-widgets/base",
            "model_name": "LayoutModel",
            "model_module_version": "1.2.0",
            "state": {
              "_model_module": "@jupyter-widgets/base",
              "_model_module_version": "1.2.0",
              "_model_name": "LayoutModel",
              "_view_count": null,
              "_view_module": "@jupyter-widgets/base",
              "_view_module_version": "1.2.0",
              "_view_name": "LayoutView",
              "align_content": null,
              "align_items": null,
              "align_self": null,
              "border": null,
              "bottom": null,
              "display": null,
              "flex": null,
              "flex_flow": null,
              "grid_area": null,
              "grid_auto_columns": null,
              "grid_auto_flow": null,
              "grid_auto_rows": null,
              "grid_column": null,
              "grid_gap": null,
              "grid_row": null,
              "grid_template_areas": null,
              "grid_template_columns": null,
              "grid_template_rows": null,
              "height": null,
              "justify_content": null,
              "justify_items": null,
              "left": null,
              "margin": null,
              "max_height": null,
              "max_width": null,
              "min_height": null,
              "min_width": null,
              "object_fit": null,
              "object_position": null,
              "order": null,
              "overflow": null,
              "overflow_x": null,
              "overflow_y": null,
              "padding": null,
              "right": null,
              "top": null,
              "visibility": null,
              "width": "20px"
            }
          },
          "4b9a522cdc364da5bbca5f3bcdefb06b": {
            "model_module": "@jupyter-widgets/controls",
            "model_name": "ProgressStyleModel",
            "model_module_version": "1.5.0",
            "state": {
              "_model_module": "@jupyter-widgets/controls",
              "_model_module_version": "1.5.0",
              "_model_name": "ProgressStyleModel",
              "_view_count": null,
              "_view_module": "@jupyter-widgets/base",
              "_view_module_version": "1.2.0",
              "_view_name": "StyleView",
              "bar_color": null,
              "description_width": ""
            }
          },
          "17c39390353044658503ef18b743dd13": {
            "model_module": "@jupyter-widgets/base",
            "model_name": "LayoutModel",
            "model_module_version": "1.2.0",
            "state": {
              "_model_module": "@jupyter-widgets/base",
              "_model_module_version": "1.2.0",
              "_model_name": "LayoutModel",
              "_view_count": null,
              "_view_module": "@jupyter-widgets/base",
              "_view_module_version": "1.2.0",
              "_view_name": "LayoutView",
              "align_content": null,
              "align_items": null,
              "align_self": null,
              "border": null,
              "bottom": null,
              "display": null,
              "flex": null,
              "flex_flow": null,
              "grid_area": null,
              "grid_auto_columns": null,
              "grid_auto_flow": null,
              "grid_auto_rows": null,
              "grid_column": null,
              "grid_gap": null,
              "grid_row": null,
              "grid_template_areas": null,
              "grid_template_columns": null,
              "grid_template_rows": null,
              "height": null,
              "justify_content": null,
              "justify_items": null,
              "left": null,
              "margin": null,
              "max_height": null,
              "max_width": null,
              "min_height": null,
              "min_width": null,
              "object_fit": null,
              "object_position": null,
              "order": null,
              "overflow": null,
              "overflow_x": null,
              "overflow_y": null,
              "padding": null,
              "right": null,
              "top": null,
              "visibility": null,
              "width": null
            }
          },
          "e91bf91b580846f7b65f37bd496347df": {
            "model_module": "@jupyter-widgets/controls",
            "model_name": "DescriptionStyleModel",
            "model_module_version": "1.5.0",
            "state": {
              "_model_module": "@jupyter-widgets/controls",
              "_model_module_version": "1.5.0",
              "_model_name": "DescriptionStyleModel",
              "_view_count": null,
              "_view_module": "@jupyter-widgets/base",
              "_view_module_version": "1.2.0",
              "_view_name": "StyleView",
              "description_width": ""
            }
          },
          "08a82f0f6a52461e86435edf76de69e9": {
            "model_module": "@jupyter-widgets/controls",
            "model_name": "HBoxModel",
            "model_module_version": "1.5.0",
            "state": {
              "_dom_classes": [
                
              ],
              "_model_module": "@jupyter-widgets/controls",
              "_model_module_version": "1.5.0",
              "_model_name": "HBoxModel",
              "_view_count": null,
              "_view_module": "@jupyter-widgets/controls",
              "_view_module_version": "1.5.0",
              "_view_name": "HBoxView",
              "box_style": "",
              "children": [
                "IPY_MODEL_23e8757a0e974473868db1099ee05de0",
                "IPY_MODEL_10a447944d1e4ad182f61ac3cd1ed46b",
                "IPY_MODEL_a9d4181acc0446a3b2e9adf845f84a07"
              ],
              "layout": "IPY_MODEL_01e36a5c848044399cca88f46892259e"
            }
          },
          "23e8757a0e974473868db1099ee05de0": {
            "model_module": "@jupyter-widgets/controls",
            "model_name": "HTMLModel",
            "model_module_version": "1.5.0",
            "state": {
              "_dom_classes": [
                
              ],
              "_model_module": "@jupyter-widgets/controls",
              "_model_module_version": "1.5.0",
              "_model_name": "HTMLModel",
              "_view_count": null,
              "_view_module": "@jupyter-widgets/controls",
              "_view_module_version": "1.5.0",
              "_view_name": "HTMLView",
              "description": "",
              "description_tooltip": null,
              "layout": "IPY_MODEL_b1e16280af974793827ea68fae0085f8",
              "placeholder": "​",
              "style": "IPY_MODEL_153432075eba4bd3895da98db1e90ea8",
              "value": "100%"
            }
          },
          "10a447944d1e4ad182f61ac3cd1ed46b": {
            "model_module": "@jupyter-widgets/controls",
            "model_name": "FloatProgressModel",
            "model_module_version": "1.5.0",
            "state": {
              "_dom_classes": [
                
              ],
              "_model_module": "@jupyter-widgets/controls",
              "_model_module_version": "1.5.0",
              "_model_name": "FloatProgressModel",
              "_view_count": null,
              "_view_module": "@jupyter-widgets/controls",
              "_view_module_version": "1.5.0",
              "_view_name": "ProgressView",
              "bar_style": "success",
              "description": "",
              "description_tooltip": null,
              "layout": "IPY_MODEL_e048a045c2b74d869acec0c55ddfaed2",
              "max": 3,
              "min": 0,
              "orientation": "horizontal",
              "style": "IPY_MODEL_08c4ddec24494d9093e84b99f218a72d",
              "value": 3
            }
          },
          "a9d4181acc0446a3b2e9adf845f84a07": {
            "model_module": "@jupyter-widgets/controls",
            "model_name": "HTMLModel",
            "model_module_version": "1.5.0",
            "state": {
              "_dom_classes": [
                
              ],
              "_model_module": "@jupyter-widgets/controls",
              "_model_module_version": "1.5.0",
              "_model_name": "HTMLModel",
              "_view_count": null,
              "_view_module": "@jupyter-widgets/controls",
              "_view_module_version": "1.5.0",
              "_view_name": "HTMLView",
              "description": "",
              "description_tooltip": null,
              "layout": "IPY_MODEL_5195caeef26447e2aa23d647818beefa",
              "placeholder": "​",
              "style": "IPY_MODEL_92ab3399866a4edd947d58620eac93c5",
              "value": " 3/3 [00:00&lt;00:00, 81.76it/s]"
            }
          },
          "01e36a5c848044399cca88f46892259e": {
            "model_module": "@jupyter-widgets/base",
            "model_name": "LayoutModel",
            "model_module_version": "1.2.0",
            "state": {
              "_model_module": "@jupyter-widgets/base",
              "_model_module_version": "1.2.0",
              "_model_name": "LayoutModel",
              "_view_count": null,
              "_view_module": "@jupyter-widgets/base",
              "_view_module_version": "1.2.0",
              "_view_name": "LayoutView",
              "align_content": null,
              "align_items": null,
              "align_self": null,
              "border": null,
              "bottom": null,
              "display": null,
              "flex": null,
              "flex_flow": null,
              "grid_area": null,
              "grid_auto_columns": null,
              "grid_auto_flow": null,
              "grid_auto_rows": null,
              "grid_column": null,
              "grid_gap": null,
              "grid_row": null,
              "grid_template_areas": null,
              "grid_template_columns": null,
              "grid_template_rows": null,
              "height": null,
              "justify_content": null,
              "justify_items": null,
              "left": null,
              "margin": null,
              "max_height": null,
              "max_width": null,
              "min_height": null,
              "min_width": null,
              "object_fit": null,
              "object_position": null,
              "order": null,
              "overflow": null,
              "overflow_x": null,
              "overflow_y": null,
              "padding": null,
              "right": null,
              "top": null,
              "visibility": null,
              "width": null
            }
          },
          "b1e16280af974793827ea68fae0085f8": {
            "model_module": "@jupyter-widgets/base",
            "model_name": "LayoutModel",
            "model_module_version": "1.2.0",
            "state": {
              "_model_module": "@jupyter-widgets/base",
              "_model_module_version": "1.2.0",
              "_model_name": "LayoutModel",
              "_view_count": null,
              "_view_module": "@jupyter-widgets/base",
              "_view_module_version": "1.2.0",
              "_view_name": "LayoutView",
              "align_content": null,
              "align_items": null,
              "align_self": null,
              "border": null,
              "bottom": null,
              "display": null,
              "flex": null,
              "flex_flow": null,
              "grid_area": null,
              "grid_auto_columns": null,
              "grid_auto_flow": null,
              "grid_auto_rows": null,
              "grid_column": null,
              "grid_gap": null,
              "grid_row": null,
              "grid_template_areas": null,
              "grid_template_columns": null,
              "grid_template_rows": null,
              "height": null,
              "justify_content": null,
              "justify_items": null,
              "left": null,
              "margin": null,
              "max_height": null,
              "max_width": null,
              "min_height": null,
              "min_width": null,
              "object_fit": null,
              "object_position": null,
              "order": null,
              "overflow": null,
              "overflow_x": null,
              "overflow_y": null,
              "padding": null,
              "right": null,
              "top": null,
              "visibility": null,
              "width": null
            }
          },
          "153432075eba4bd3895da98db1e90ea8": {
            "model_module": "@jupyter-widgets/controls",
            "model_name": "DescriptionStyleModel",
            "model_module_version": "1.5.0",
            "state": {
              "_model_module": "@jupyter-widgets/controls",
              "_model_module_version": "1.5.0",
              "_model_name": "DescriptionStyleModel",
              "_view_count": null,
              "_view_module": "@jupyter-widgets/base",
              "_view_module_version": "1.2.0",
              "_view_name": "StyleView",
              "description_width": ""
            }
          },
          "e048a045c2b74d869acec0c55ddfaed2": {
            "model_module": "@jupyter-widgets/base",
            "model_name": "LayoutModel",
            "model_module_version": "1.2.0",
            "state": {
              "_model_module": "@jupyter-widgets/base",
              "_model_module_version": "1.2.0",
              "_model_name": "LayoutModel",
              "_view_count": null,
              "_view_module": "@jupyter-widgets/base",
              "_view_module_version": "1.2.0",
              "_view_name": "LayoutView",
              "align_content": null,
              "align_items": null,
              "align_self": null,
              "border": null,
              "bottom": null,
              "display": null,
              "flex": null,
              "flex_flow": null,
              "grid_area": null,
              "grid_auto_columns": null,
              "grid_auto_flow": null,
              "grid_auto_rows": null,
              "grid_column": null,
              "grid_gap": null,
              "grid_row": null,
              "grid_template_areas": null,
              "grid_template_columns": null,
              "grid_template_rows": null,
              "height": null,
              "justify_content": null,
              "justify_items": null,
              "left": null,
              "margin": null,
              "max_height": null,
              "max_width": null,
              "min_height": null,
              "min_width": null,
              "object_fit": null,
              "object_position": null,
              "order": null,
              "overflow": null,
              "overflow_x": null,
              "overflow_y": null,
              "padding": null,
              "right": null,
              "top": null,
              "visibility": null,
              "width": null
            }
          },
          "08c4ddec24494d9093e84b99f218a72d": {
            "model_module": "@jupyter-widgets/controls",
            "model_name": "ProgressStyleModel",
            "model_module_version": "1.5.0",
            "state": {
              "_model_module": "@jupyter-widgets/controls",
              "_model_module_version": "1.5.0",
              "_model_name": "ProgressStyleModel",
              "_view_count": null,
              "_view_module": "@jupyter-widgets/base",
              "_view_module_version": "1.2.0",
              "_view_name": "StyleView",
              "bar_color": null,
              "description_width": ""
            }
          },
          "5195caeef26447e2aa23d647818beefa": {
            "model_module": "@jupyter-widgets/base",
            "model_name": "LayoutModel",
            "model_module_version": "1.2.0",
            "state": {
              "_model_module": "@jupyter-widgets/base",
              "_model_module_version": "1.2.0",
              "_model_name": "LayoutModel",
              "_view_count": null,
              "_view_module": "@jupyter-widgets/base",
              "_view_module_version": "1.2.0",
              "_view_name": "LayoutView",
              "align_content": null,
              "align_items": null,
              "align_self": null,
              "border": null,
              "bottom": null,
              "display": null,
              "flex": null,
              "flex_flow": null,
              "grid_area": null,
              "grid_auto_columns": null,
              "grid_auto_flow": null,
              "grid_auto_rows": null,
              "grid_column": null,
              "grid_gap": null,
              "grid_row": null,
              "grid_template_areas": null,
              "grid_template_columns": null,
              "grid_template_rows": null,
              "height": null,
              "justify_content": null,
              "justify_items": null,
              "left": null,
              "margin": null,
              "max_height": null,
              "max_width": null,
              "min_height": null,
              "min_width": null,
              "object_fit": null,
              "object_position": null,
              "order": null,
              "overflow": null,
              "overflow_x": null,
              "overflow_y": null,
              "padding": null,
              "right": null,
              "top": null,
              "visibility": null,
              "width": null
            }
          },
          "92ab3399866a4edd947d58620eac93c5": {
            "model_module": "@jupyter-widgets/controls",
            "model_name": "DescriptionStyleModel",
            "model_module_version": "1.5.0",
            "state": {
              "_model_module": "@jupyter-widgets/controls",
              "_model_module_version": "1.5.0",
              "_model_name": "DescriptionStyleModel",
              "_view_count": null,
              "_view_module": "@jupyter-widgets/base",
              "_view_module_version": "1.2.0",
              "_view_name": "StyleView",
              "description_width": ""
            }
          },
          "326bada422ce479c928a25ea2504106c": {
            "model_module": "@jupyter-widgets/controls",
            "model_name": "HBoxModel",
            "model_module_version": "1.5.0",
            "state": {
              "_dom_classes": [
                
              ],
              "_model_module": "@jupyter-widgets/controls",
              "_model_module_version": "1.5.0",
              "_model_name": "HBoxModel",
              "_view_count": null,
              "_view_module": "@jupyter-widgets/controls",
              "_view_module_version": "1.5.0",
              "_view_name": "HBoxView",
              "box_style": "",
              "children": [
                "IPY_MODEL_07943c3a575c4676a3e9b74a808dbff4",
                "IPY_MODEL_9aee77e78dde4f34af3295d5d9d8efa0",
                "IPY_MODEL_44f01a82773347d2b4c5ed8eee92466d"
              ],
              "layout": "IPY_MODEL_629cb55774864fc2abc209791ed04a26"
            }
          },
          "07943c3a575c4676a3e9b74a808dbff4": {
            "model_module": "@jupyter-widgets/controls",
            "model_name": "HTMLModel",
            "model_module_version": "1.5.0",
            "state": {
              "_dom_classes": [
                
              ],
              "_model_module": "@jupyter-widgets/controls",
              "_model_module_version": "1.5.0",
              "_model_name": "HTMLModel",
              "_view_count": null,
              "_view_module": "@jupyter-widgets/controls",
              "_view_module_version": "1.5.0",
              "_view_name": "HTMLView",
              "description": "",
              "description_tooltip": null,
              "layout": "IPY_MODEL_c393ac64aaf54b409b72e8b32bb71849",
              "placeholder": "​",
              "style": "IPY_MODEL_aed7842d105146378727f679a97c15f0",
              "value": "Downloading (…)lve/main/config.json: 100%"
            }
          },
          "9aee77e78dde4f34af3295d5d9d8efa0": {
            "model_module": "@jupyter-widgets/controls",
            "model_name": "FloatProgressModel",
            "model_module_version": "1.5.0",
            "state": {
              "_dom_classes": [
                
              ],
              "_model_module": "@jupyter-widgets/controls",
              "_model_module_version": "1.5.0",
              "_model_name": "FloatProgressModel",
              "_view_count": null,
              "_view_module": "@jupyter-widgets/controls",
              "_view_module_version": "1.5.0",
              "_view_name": "ProgressView",
              "bar_style": "success",
              "description": "",
              "description_tooltip": null,
              "layout": "IPY_MODEL_6322f64714cd433db2e4a97fc27253da",
              "max": 1404,
              "min": 0,
              "orientation": "horizontal",
              "style": "IPY_MODEL_f898281e30b848f8aaedc5271d81b5ea",
              "value": 1404
            }
          },
          "44f01a82773347d2b4c5ed8eee92466d": {
            "model_module": "@jupyter-widgets/controls",
            "model_name": "HTMLModel",
            "model_module_version": "1.5.0",
            "state": {
              "_dom_classes": [
                
              ],
              "_model_module": "@jupyter-widgets/controls",
              "_model_module_version": "1.5.0",
              "_model_name": "HTMLModel",
              "_view_count": null,
              "_view_module": "@jupyter-widgets/controls",
              "_view_module_version": "1.5.0",
              "_view_name": "HTMLView",
              "description": "",
              "description_tooltip": null,
              "layout": "IPY_MODEL_c4eafedcfc0f4277a164be28ed91f7f5",
              "placeholder": "​",
              "style": "IPY_MODEL_8d95672f4e8f419b92b3e6610e043fa9",
              "value": " 1.40k/1.40k [00:00&lt;00:00, 52.7kB/s]"
            }
          },
          "629cb55774864fc2abc209791ed04a26": {
            "model_module": "@jupyter-widgets/base",
            "model_name": "LayoutModel",
            "model_module_version": "1.2.0",
            "state": {
              "_model_module": "@jupyter-widgets/base",
              "_model_module_version": "1.2.0",
              "_model_name": "LayoutModel",
              "_view_count": null,
              "_view_module": "@jupyter-widgets/base",
              "_view_module_version": "1.2.0",
              "_view_name": "LayoutView",
              "align_content": null,
              "align_items": null,
              "align_self": null,
              "border": null,
              "bottom": null,
              "display": null,
              "flex": null,
              "flex_flow": null,
              "grid_area": null,
              "grid_auto_columns": null,
              "grid_auto_flow": null,
              "grid_auto_rows": null,
              "grid_column": null,
              "grid_gap": null,
              "grid_row": null,
              "grid_template_areas": null,
              "grid_template_columns": null,
              "grid_template_rows": null,
              "height": null,
              "justify_content": null,
              "justify_items": null,
              "left": null,
              "margin": null,
              "max_height": null,
              "max_width": null,
              "min_height": null,
              "min_width": null,
              "object_fit": null,
              "object_position": null,
              "order": null,
              "overflow": null,
              "overflow_x": null,
              "overflow_y": null,
              "padding": null,
              "right": null,
              "top": null,
              "visibility": null,
              "width": null
            }
          },
          "c393ac64aaf54b409b72e8b32bb71849": {
            "model_module": "@jupyter-widgets/base",
            "model_name": "LayoutModel",
            "model_module_version": "1.2.0",
            "state": {
              "_model_module": "@jupyter-widgets/base",
              "_model_module_version": "1.2.0",
              "_model_name": "LayoutModel",
              "_view_count": null,
              "_view_module": "@jupyter-widgets/base",
              "_view_module_version": "1.2.0",
              "_view_name": "LayoutView",
              "align_content": null,
              "align_items": null,
              "align_self": null,
              "border": null,
              "bottom": null,
              "display": null,
              "flex": null,
              "flex_flow": null,
              "grid_area": null,
              "grid_auto_columns": null,
              "grid_auto_flow": null,
              "grid_auto_rows": null,
              "grid_column": null,
              "grid_gap": null,
              "grid_row": null,
              "grid_template_areas": null,
              "grid_template_columns": null,
              "grid_template_rows": null,
              "height": null,
              "justify_content": null,
              "justify_items": null,
              "left": null,
              "margin": null,
              "max_height": null,
              "max_width": null,
              "min_height": null,
              "min_width": null,
              "object_fit": null,
              "object_position": null,
              "order": null,
              "overflow": null,
              "overflow_x": null,
              "overflow_y": null,
              "padding": null,
              "right": null,
              "top": null,
              "visibility": null,
              "width": null
            }
          },
          "aed7842d105146378727f679a97c15f0": {
            "model_module": "@jupyter-widgets/controls",
            "model_name": "DescriptionStyleModel",
            "model_module_version": "1.5.0",
            "state": {
              "_model_module": "@jupyter-widgets/controls",
              "_model_module_version": "1.5.0",
              "_model_name": "DescriptionStyleModel",
              "_view_count": null,
              "_view_module": "@jupyter-widgets/base",
              "_view_module_version": "1.2.0",
              "_view_name": "StyleView",
              "description_width": ""
            }
          },
          "6322f64714cd433db2e4a97fc27253da": {
            "model_module": "@jupyter-widgets/base",
            "model_name": "LayoutModel",
            "model_module_version": "1.2.0",
            "state": {
              "_model_module": "@jupyter-widgets/base",
              "_model_module_version": "1.2.0",
              "_model_name": "LayoutModel",
              "_view_count": null,
              "_view_module": "@jupyter-widgets/base",
              "_view_module_version": "1.2.0",
              "_view_name": "LayoutView",
              "align_content": null,
              "align_items": null,
              "align_self": null,
              "border": null,
              "bottom": null,
              "display": null,
              "flex": null,
              "flex_flow": null,
              "grid_area": null,
              "grid_auto_columns": null,
              "grid_auto_flow": null,
              "grid_auto_rows": null,
              "grid_column": null,
              "grid_gap": null,
              "grid_row": null,
              "grid_template_areas": null,
              "grid_template_columns": null,
              "grid_template_rows": null,
              "height": null,
              "justify_content": null,
              "justify_items": null,
              "left": null,
              "margin": null,
              "max_height": null,
              "max_width": null,
              "min_height": null,
              "min_width": null,
              "object_fit": null,
              "object_position": null,
              "order": null,
              "overflow": null,
              "overflow_x": null,
              "overflow_y": null,
              "padding": null,
              "right": null,
              "top": null,
              "visibility": null,
              "width": null
            }
          },
          "f898281e30b848f8aaedc5271d81b5ea": {
            "model_module": "@jupyter-widgets/controls",
            "model_name": "ProgressStyleModel",
            "model_module_version": "1.5.0",
            "state": {
              "_model_module": "@jupyter-widgets/controls",
              "_model_module_version": "1.5.0",
              "_model_name": "ProgressStyleModel",
              "_view_count": null,
              "_view_module": "@jupyter-widgets/base",
              "_view_module_version": "1.2.0",
              "_view_name": "StyleView",
              "bar_color": null,
              "description_width": ""
            }
          },
          "c4eafedcfc0f4277a164be28ed91f7f5": {
            "model_module": "@jupyter-widgets/base",
            "model_name": "LayoutModel",
            "model_module_version": "1.2.0",
            "state": {
              "_model_module": "@jupyter-widgets/base",
              "_model_module_version": "1.2.0",
              "_model_name": "LayoutModel",
              "_view_count": null,
              "_view_module": "@jupyter-widgets/base",
              "_view_module_version": "1.2.0",
              "_view_name": "LayoutView",
              "align_content": null,
              "align_items": null,
              "align_self": null,
              "border": null,
              "bottom": null,
              "display": null,
              "flex": null,
              "flex_flow": null,
              "grid_area": null,
              "grid_auto_columns": null,
              "grid_auto_flow": null,
              "grid_auto_rows": null,
              "grid_column": null,
              "grid_gap": null,
              "grid_row": null,
              "grid_template_areas": null,
              "grid_template_columns": null,
              "grid_template_rows": null,
              "height": null,
              "justify_content": null,
              "justify_items": null,
              "left": null,
              "margin": null,
              "max_height": null,
              "max_width": null,
              "min_height": null,
              "min_width": null,
              "object_fit": null,
              "object_position": null,
              "order": null,
              "overflow": null,
              "overflow_x": null,
              "overflow_y": null,
              "padding": null,
              "right": null,
              "top": null,
              "visibility": null,
              "width": null
            }
          },
          "8d95672f4e8f419b92b3e6610e043fa9": {
            "model_module": "@jupyter-widgets/controls",
            "model_name": "DescriptionStyleModel",
            "model_module_version": "1.5.0",
            "state": {
              "_model_module": "@jupyter-widgets/controls",
              "_model_module_version": "1.5.0",
              "_model_name": "DescriptionStyleModel",
              "_view_count": null,
              "_view_module": "@jupyter-widgets/base",
              "_view_module_version": "1.2.0",
              "_view_name": "StyleView",
              "description_width": ""
            }
          },
          "c9b6d6cc13464da0b86e47521365691a": {
            "model_module": "@jupyter-widgets/controls",
            "model_name": "HBoxModel",
            "model_module_version": "1.5.0",
            "state": {
              "_dom_classes": [
                
              ],
              "_model_module": "@jupyter-widgets/controls",
              "_model_module_version": "1.5.0",
              "_model_name": "HBoxModel",
              "_view_count": null,
              "_view_module": "@jupyter-widgets/controls",
              "_view_module_version": "1.5.0",
              "_view_name": "HBoxView",
              "box_style": "",
              "children": [
                "IPY_MODEL_b46640318d21480a86c5f26a6f377871",
                "IPY_MODEL_577172c87ffa4c7f8efaa747ea280db7",
                "IPY_MODEL_d5bbde84d96f4f83a904764f1935c075"
              ],
              "layout": "IPY_MODEL_3cf95acb25d7477fbe657d4e4724ccf5"
            }
          },
          "b46640318d21480a86c5f26a6f377871": {
            "model_module": "@jupyter-widgets/controls",
            "model_name": "HTMLModel",
            "model_module_version": "1.5.0",
            "state": {
              "_dom_classes": [
                
              ],
              "_model_module": "@jupyter-widgets/controls",
              "_model_module_version": "1.5.0",
              "_model_name": "HTMLModel",
              "_view_count": null,
              "_view_module": "@jupyter-widgets/controls",
              "_view_module_version": "1.5.0",
              "_view_name": "HTMLView",
              "description": "",
              "description_tooltip": null,
              "layout": "IPY_MODEL_d57a6648b04f436a925f5b321fad133a",
              "placeholder": "​",
              "style": "IPY_MODEL_48a313f83d624b6e8def9e5066777b9d",
              "value": "Downloading pytorch_model.bin: 100%"
            }
          },
          "577172c87ffa4c7f8efaa747ea280db7": {
            "model_module": "@jupyter-widgets/controls",
            "model_name": "FloatProgressModel",
            "model_module_version": "1.5.0",
            "state": {
              "_dom_classes": [
                
              ],
              "_model_module": "@jupyter-widgets/controls",
              "_model_module_version": "1.5.0",
              "_model_name": "FloatProgressModel",
              "_view_count": null,
              "_view_module": "@jupyter-widgets/controls",
              "_view_module_version": "1.5.0",
              "_view_name": "ProgressView",
              "bar_style": "success",
              "description": "",
              "description_tooltip": null,
              "layout": "IPY_MODEL_fc3b5fa5771f48dcabfa8993bed2d888",
              "max": 990402637,
              "min": 0,
              "orientation": "horizontal",
              "style": "IPY_MODEL_17e282275c994a788d118c9586f17b1b",
              "value": 990402637
            }
          },
          "d5bbde84d96f4f83a904764f1935c075": {
            "model_module": "@jupyter-widgets/controls",
            "model_name": "HTMLModel",
            "model_module_version": "1.5.0",
            "state": {
              "_dom_classes": [
                
              ],
              "_model_module": "@jupyter-widgets/controls",
              "_model_module_version": "1.5.0",
              "_model_name": "HTMLModel",
              "_view_count": null,
              "_view_module": "@jupyter-widgets/controls",
              "_view_module_version": "1.5.0",
              "_view_name": "HTMLView",
              "description": "",
              "description_tooltip": null,
              "layout": "IPY_MODEL_edcd543dda2b468b8b0c7171b09c21e9",
              "placeholder": "​",
              "style": "IPY_MODEL_0cbee7ac328f4fd8936cbb1d15cc0295",
              "value": " 990M/990M [00:13&lt;00:00, 21.2MB/s]"
            }
          },
          "3cf95acb25d7477fbe657d4e4724ccf5": {
            "model_module": "@jupyter-widgets/base",
            "model_name": "LayoutModel",
            "model_module_version": "1.2.0",
            "state": {
              "_model_module": "@jupyter-widgets/base",
              "_model_module_version": "1.2.0",
              "_model_name": "LayoutModel",
              "_view_count": null,
              "_view_module": "@jupyter-widgets/base",
              "_view_module_version": "1.2.0",
              "_view_name": "LayoutView",
              "align_content": null,
              "align_items": null,
              "align_self": null,
              "border": null,
              "bottom": null,
              "display": null,
              "flex": null,
              "flex_flow": null,
              "grid_area": null,
              "grid_auto_columns": null,
              "grid_auto_flow": null,
              "grid_auto_rows": null,
              "grid_column": null,
              "grid_gap": null,
              "grid_row": null,
              "grid_template_areas": null,
              "grid_template_columns": null,
              "grid_template_rows": null,
              "height": null,
              "justify_content": null,
              "justify_items": null,
              "left": null,
              "margin": null,
              "max_height": null,
              "max_width": null,
              "min_height": null,
              "min_width": null,
              "object_fit": null,
              "object_position": null,
              "order": null,
              "overflow": null,
              "overflow_x": null,
              "overflow_y": null,
              "padding": null,
              "right": null,
              "top": null,
              "visibility": null,
              "width": null
            }
          },
          "d57a6648b04f436a925f5b321fad133a": {
            "model_module": "@jupyter-widgets/base",
            "model_name": "LayoutModel",
            "model_module_version": "1.2.0",
            "state": {
              "_model_module": "@jupyter-widgets/base",
              "_model_module_version": "1.2.0",
              "_model_name": "LayoutModel",
              "_view_count": null,
              "_view_module": "@jupyter-widgets/base",
              "_view_module_version": "1.2.0",
              "_view_name": "LayoutView",
              "align_content": null,
              "align_items": null,
              "align_self": null,
              "border": null,
              "bottom": null,
              "display": null,
              "flex": null,
              "flex_flow": null,
              "grid_area": null,
              "grid_auto_columns": null,
              "grid_auto_flow": null,
              "grid_auto_rows": null,
              "grid_column": null,
              "grid_gap": null,
              "grid_row": null,
              "grid_template_areas": null,
              "grid_template_columns": null,
              "grid_template_rows": null,
              "height": null,
              "justify_content": null,
              "justify_items": null,
              "left": null,
              "margin": null,
              "max_height": null,
              "max_width": null,
              "min_height": null,
              "min_width": null,
              "object_fit": null,
              "object_position": null,
              "order": null,
              "overflow": null,
              "overflow_x": null,
              "overflow_y": null,
              "padding": null,
              "right": null,
              "top": null,
              "visibility": null,
              "width": null
            }
          },
          "48a313f83d624b6e8def9e5066777b9d": {
            "model_module": "@jupyter-widgets/controls",
            "model_name": "DescriptionStyleModel",
            "model_module_version": "1.5.0",
            "state": {
              "_model_module": "@jupyter-widgets/controls",
              "_model_module_version": "1.5.0",
              "_model_name": "DescriptionStyleModel",
              "_view_count": null,
              "_view_module": "@jupyter-widgets/base",
              "_view_module_version": "1.2.0",
              "_view_name": "StyleView",
              "description_width": ""
            }
          },
          "fc3b5fa5771f48dcabfa8993bed2d888": {
            "model_module": "@jupyter-widgets/base",
            "model_name": "LayoutModel",
            "model_module_version": "1.2.0",
            "state": {
              "_model_module": "@jupyter-widgets/base",
              "_model_module_version": "1.2.0",
              "_model_name": "LayoutModel",
              "_view_count": null,
              "_view_module": "@jupyter-widgets/base",
              "_view_module_version": "1.2.0",
              "_view_name": "LayoutView",
              "align_content": null,
              "align_items": null,
              "align_self": null,
              "border": null,
              "bottom": null,
              "display": null,
              "flex": null,
              "flex_flow": null,
              "grid_area": null,
              "grid_auto_columns": null,
              "grid_auto_flow": null,
              "grid_auto_rows": null,
              "grid_column": null,
              "grid_gap": null,
              "grid_row": null,
              "grid_template_areas": null,
              "grid_template_columns": null,
              "grid_template_rows": null,
              "height": null,
              "justify_content": null,
              "justify_items": null,
              "left": null,
              "margin": null,
              "max_height": null,
              "max_width": null,
              "min_height": null,
              "min_width": null,
              "object_fit": null,
              "object_position": null,
              "order": null,
              "overflow": null,
              "overflow_x": null,
              "overflow_y": null,
              "padding": null,
              "right": null,
              "top": null,
              "visibility": null,
              "width": null
            }
          },
          "17e282275c994a788d118c9586f17b1b": {
            "model_module": "@jupyter-widgets/controls",
            "model_name": "ProgressStyleModel",
            "model_module_version": "1.5.0",
            "state": {
              "_model_module": "@jupyter-widgets/controls",
              "_model_module_version": "1.5.0",
              "_model_name": "ProgressStyleModel",
              "_view_count": null,
              "_view_module": "@jupyter-widgets/base",
              "_view_module_version": "1.2.0",
              "_view_name": "StyleView",
              "bar_color": null,
              "description_width": ""
            }
          },
          "edcd543dda2b468b8b0c7171b09c21e9": {
            "model_module": "@jupyter-widgets/base",
            "model_name": "LayoutModel",
            "model_module_version": "1.2.0",
            "state": {
              "_model_module": "@jupyter-widgets/base",
              "_model_module_version": "1.2.0",
              "_model_name": "LayoutModel",
              "_view_count": null,
              "_view_module": "@jupyter-widgets/base",
              "_view_module_version": "1.2.0",
              "_view_name": "LayoutView",
              "align_content": null,
              "align_items": null,
              "align_self": null,
              "border": null,
              "bottom": null,
              "display": null,
              "flex": null,
              "flex_flow": null,
              "grid_area": null,
              "grid_auto_columns": null,
              "grid_auto_flow": null,
              "grid_auto_rows": null,
              "grid_column": null,
              "grid_gap": null,
              "grid_row": null,
              "grid_template_areas": null,
              "grid_template_columns": null,
              "grid_template_rows": null,
              "height": null,
              "justify_content": null,
              "justify_items": null,
              "left": null,
              "margin": null,
              "max_height": null,
              "max_width": null,
              "min_height": null,
              "min_width": null,
              "object_fit": null,
              "object_position": null,
              "order": null,
              "overflow": null,
              "overflow_x": null,
              "overflow_y": null,
              "padding": null,
              "right": null,
              "top": null,
              "visibility": null,
              "width": null
            }
          },
          "0cbee7ac328f4fd8936cbb1d15cc0295": {
            "model_module": "@jupyter-widgets/controls",
            "model_name": "DescriptionStyleModel",
            "model_module_version": "1.5.0",
            "state": {
              "_model_module": "@jupyter-widgets/controls",
              "_model_module_version": "1.5.0",
              "_model_name": "DescriptionStyleModel",
              "_view_count": null,
              "_view_module": "@jupyter-widgets/base",
              "_view_module_version": "1.2.0",
              "_view_name": "StyleView",
              "description_width": ""
            }
          },
          "0aa3cf691f264b54b33ce675720a822b": {
            "model_module": "@jupyter-widgets/controls",
            "model_name": "HBoxModel",
            "model_module_version": "1.5.0",
            "state": {
              "_dom_classes": [
                
              ],
              "_model_module": "@jupyter-widgets/controls",
              "_model_module_version": "1.5.0",
              "_model_name": "HBoxModel",
              "_view_count": null,
              "_view_module": "@jupyter-widgets/controls",
              "_view_module_version": "1.5.0",
              "_view_name": "HBoxView",
              "box_style": "",
              "children": [
                "IPY_MODEL_49d5e569cd7443b98d8ef57f2a22dfe0",
                "IPY_MODEL_2a04ae2583ec4849972702662c100513",
                "IPY_MODEL_dcf330e521344e028a602040ecf8b925"
              ],
              "layout": "IPY_MODEL_46196727e65b44abbe70e80ce93fa04c"
            }
          },
          "49d5e569cd7443b98d8ef57f2a22dfe0": {
            "model_module": "@jupyter-widgets/controls",
            "model_name": "HTMLModel",
            "model_module_version": "1.5.0",
            "state": {
              "_dom_classes": [
                
              ],
              "_model_module": "@jupyter-widgets/controls",
              "_model_module_version": "1.5.0",
              "_model_name": "HTMLModel",
              "_view_count": null,
              "_view_module": "@jupyter-widgets/controls",
              "_view_module_version": "1.5.0",
              "_view_name": "HTMLView",
              "description": "",
              "description_tooltip": null,
              "layout": "IPY_MODEL_b7ed61860be543fe87aef3a9c0d0e186",
              "placeholder": "​",
              "style": "IPY_MODEL_801f25cf519a4d88903091d37923c4d0",
              "value": "Downloading (…)neration_config.json: 100%"
            }
          },
          "2a04ae2583ec4849972702662c100513": {
            "model_module": "@jupyter-widgets/controls",
            "model_name": "FloatProgressModel",
            "model_module_version": "1.5.0",
            "state": {
              "_dom_classes": [
                
              ],
              "_model_module": "@jupyter-widgets/controls",
              "_model_module_version": "1.5.0",
              "_model_name": "FloatProgressModel",
              "_view_count": null,
              "_view_module": "@jupyter-widgets/controls",
              "_view_module_version": "1.5.0",
              "_view_name": "ProgressView",
              "bar_style": "success",
              "description": "",
              "description_tooltip": null,
              "layout": "IPY_MODEL_7ab7d7dd3ba643f284115ff5e60c35de",
              "max": 147,
              "min": 0,
              "orientation": "horizontal",
              "style": "IPY_MODEL_bbcbf14111d64e6eaf001b09f44986da",
              "value": 147
            }
          },
          "dcf330e521344e028a602040ecf8b925": {
            "model_module": "@jupyter-widgets/controls",
            "model_name": "HTMLModel",
            "model_module_version": "1.5.0",
            "state": {
              "_dom_classes": [
                
              ],
              "_model_module": "@jupyter-widgets/controls",
              "_model_module_version": "1.5.0",
              "_model_name": "HTMLModel",
              "_view_count": null,
              "_view_module": "@jupyter-widgets/controls",
              "_view_module_version": "1.5.0",
              "_view_name": "HTMLView",
              "description": "",
              "description_tooltip": null,
              "layout": "IPY_MODEL_f773efbdbc5649cbb41ae6e524ed0658",
              "placeholder": "​",
              "style": "IPY_MODEL_45facab4790f4704867dbaea42075f58",
              "value": " 147/147 [00:00&lt;00:00, 3.96kB/s]"
            }
          },
          "46196727e65b44abbe70e80ce93fa04c": {
            "model_module": "@jupyter-widgets/base",
            "model_name": "LayoutModel",
            "model_module_version": "1.2.0",
            "state": {
              "_model_module": "@jupyter-widgets/base",
              "_model_module_version": "1.2.0",
              "_model_name": "LayoutModel",
              "_view_count": null,
              "_view_module": "@jupyter-widgets/base",
              "_view_module_version": "1.2.0",
              "_view_name": "LayoutView",
              "align_content": null,
              "align_items": null,
              "align_self": null,
              "border": null,
              "bottom": null,
              "display": null,
              "flex": null,
              "flex_flow": null,
              "grid_area": null,
              "grid_auto_columns": null,
              "grid_auto_flow": null,
              "grid_auto_rows": null,
              "grid_column": null,
              "grid_gap": null,
              "grid_row": null,
              "grid_template_areas": null,
              "grid_template_columns": null,
              "grid_template_rows": null,
              "height": null,
              "justify_content": null,
              "justify_items": null,
              "left": null,
              "margin": null,
              "max_height": null,
              "max_width": null,
              "min_height": null,
              "min_width": null,
              "object_fit": null,
              "object_position": null,
              "order": null,
              "overflow": null,
              "overflow_x": null,
              "overflow_y": null,
              "padding": null,
              "right": null,
              "top": null,
              "visibility": null,
              "width": null
            }
          },
          "b7ed61860be543fe87aef3a9c0d0e186": {
            "model_module": "@jupyter-widgets/base",
            "model_name": "LayoutModel",
            "model_module_version": "1.2.0",
            "state": {
              "_model_module": "@jupyter-widgets/base",
              "_model_module_version": "1.2.0",
              "_model_name": "LayoutModel",
              "_view_count": null,
              "_view_module": "@jupyter-widgets/base",
              "_view_module_version": "1.2.0",
              "_view_name": "LayoutView",
              "align_content": null,
              "align_items": null,
              "align_self": null,
              "border": null,
              "bottom": null,
              "display": null,
              "flex": null,
              "flex_flow": null,
              "grid_area": null,
              "grid_auto_columns": null,
              "grid_auto_flow": null,
              "grid_auto_rows": null,
              "grid_column": null,
              "grid_gap": null,
              "grid_row": null,
              "grid_template_areas": null,
              "grid_template_columns": null,
              "grid_template_rows": null,
              "height": null,
              "justify_content": null,
              "justify_items": null,
              "left": null,
              "margin": null,
              "max_height": null,
              "max_width": null,
              "min_height": null,
              "min_width": null,
              "object_fit": null,
              "object_position": null,
              "order": null,
              "overflow": null,
              "overflow_x": null,
              "overflow_y": null,
              "padding": null,
              "right": null,
              "top": null,
              "visibility": null,
              "width": null
            }
          },
          "801f25cf519a4d88903091d37923c4d0": {
            "model_module": "@jupyter-widgets/controls",
            "model_name": "DescriptionStyleModel",
            "model_module_version": "1.5.0",
            "state": {
              "_model_module": "@jupyter-widgets/controls",
              "_model_module_version": "1.5.0",
              "_model_name": "DescriptionStyleModel",
              "_view_count": null,
              "_view_module": "@jupyter-widgets/base",
              "_view_module_version": "1.2.0",
              "_view_name": "StyleView",
              "description_width": ""
            }
          },
          "7ab7d7dd3ba643f284115ff5e60c35de": {
            "model_module": "@jupyter-widgets/base",
            "model_name": "LayoutModel",
            "model_module_version": "1.2.0",
            "state": {
              "_model_module": "@jupyter-widgets/base",
              "_model_module_version": "1.2.0",
              "_model_name": "LayoutModel",
              "_view_count": null,
              "_view_module": "@jupyter-widgets/base",
              "_view_module_version": "1.2.0",
              "_view_name": "LayoutView",
              "align_content": null,
              "align_items": null,
              "align_self": null,
              "border": null,
              "bottom": null,
              "display": null,
              "flex": null,
              "flex_flow": null,
              "grid_area": null,
              "grid_auto_columns": null,
              "grid_auto_flow": null,
              "grid_auto_rows": null,
              "grid_column": null,
              "grid_gap": null,
              "grid_row": null,
              "grid_template_areas": null,
              "grid_template_columns": null,
              "grid_template_rows": null,
              "height": null,
              "justify_content": null,
              "justify_items": null,
              "left": null,
              "margin": null,
              "max_height": null,
              "max_width": null,
              "min_height": null,
              "min_width": null,
              "object_fit": null,
              "object_position": null,
              "order": null,
              "overflow": null,
              "overflow_x": null,
              "overflow_y": null,
              "padding": null,
              "right": null,
              "top": null,
              "visibility": null,
              "width": null
            }
          },
          "bbcbf14111d64e6eaf001b09f44986da": {
            "model_module": "@jupyter-widgets/controls",
            "model_name": "ProgressStyleModel",
            "model_module_version": "1.5.0",
            "state": {
              "_model_module": "@jupyter-widgets/controls",
              "_model_module_version": "1.5.0",
              "_model_name": "ProgressStyleModel",
              "_view_count": null,
              "_view_module": "@jupyter-widgets/base",
              "_view_module_version": "1.2.0",
              "_view_name": "StyleView",
              "bar_color": null,
              "description_width": ""
            }
          },
          "f773efbdbc5649cbb41ae6e524ed0658": {
            "model_module": "@jupyter-widgets/base",
            "model_name": "LayoutModel",
            "model_module_version": "1.2.0",
            "state": {
              "_model_module": "@jupyter-widgets/base",
              "_model_module_version": "1.2.0",
              "_model_name": "LayoutModel",
              "_view_count": null,
              "_view_module": "@jupyter-widgets/base",
              "_view_module_version": "1.2.0",
              "_view_name": "LayoutView",
              "align_content": null,
              "align_items": null,
              "align_self": null,
              "border": null,
              "bottom": null,
              "display": null,
              "flex": null,
              "flex_flow": null,
              "grid_area": null,
              "grid_auto_columns": null,
              "grid_auto_flow": null,
              "grid_auto_rows": null,
              "grid_column": null,
              "grid_gap": null,
              "grid_row": null,
              "grid_template_areas": null,
              "grid_template_columns": null,
              "grid_template_rows": null,
              "height": null,
              "justify_content": null,
              "justify_items": null,
              "left": null,
              "margin": null,
              "max_height": null,
              "max_width": null,
              "min_height": null,
              "min_width": null,
              "object_fit": null,
              "object_position": null,
              "order": null,
              "overflow": null,
              "overflow_x": null,
              "overflow_y": null,
              "padding": null,
              "right": null,
              "top": null,
              "visibility": null,
              "width": null
            }
          },
          "45facab4790f4704867dbaea42075f58": {
            "model_module": "@jupyter-widgets/controls",
            "model_name": "DescriptionStyleModel",
            "model_module_version": "1.5.0",
            "state": {
              "_model_module": "@jupyter-widgets/controls",
              "_model_module_version": "1.5.0",
              "_model_name": "DescriptionStyleModel",
              "_view_count": null,
              "_view_module": "@jupyter-widgets/base",
              "_view_module_version": "1.2.0",
              "_view_name": "StyleView",
              "description_width": ""
            }
          },
          "c5763ee5f0b74473ac578ee6bf18f45f": {
            "model_module": "@jupyter-widgets/controls",
            "model_name": "HBoxModel",
            "model_module_version": "1.5.0",
            "state": {
              "_dom_classes": [
                
              ],
              "_model_module": "@jupyter-widgets/controls",
              "_model_module_version": "1.5.0",
              "_model_name": "HBoxModel",
              "_view_count": null,
              "_view_module": "@jupyter-widgets/controls",
              "_view_module_version": "1.5.0",
              "_view_name": "HBoxView",
              "box_style": "",
              "children": [
                "IPY_MODEL_0f5f782ffd2a4029988db283a08771c2",
                "IPY_MODEL_a83df1fdfde747dca52a20382369487d",
                "IPY_MODEL_06fa5c3caec14dcea5bd8000a9b31ba9"
              ],
              "layout": "IPY_MODEL_ab545dcba59b4d0abf4edbb58ddf6eb4"
            }
          },
          "0f5f782ffd2a4029988db283a08771c2": {
            "model_module": "@jupyter-widgets/controls",
            "model_name": "HTMLModel",
            "model_module_version": "1.5.0",
            "state": {
              "_dom_classes": [
                
              ],
              "_model_module": "@jupyter-widgets/controls",
              "_model_module_version": "1.5.0",
              "_model_name": "HTMLModel",
              "_view_count": null,
              "_view_module": "@jupyter-widgets/controls",
              "_view_module_version": "1.5.0",
              "_view_name": "HTMLView",
              "description": "",
              "description_tooltip": null,
              "layout": "IPY_MODEL_bc726731ae184decb5449571d637b293",
              "placeholder": "​",
              "style": "IPY_MODEL_2c8a21d2d40942b5b72131a88c92550a",
              "value": "Downloading (…)okenizer_config.json: 100%"
            }
          },
          "a83df1fdfde747dca52a20382369487d": {
            "model_module": "@jupyter-widgets/controls",
            "model_name": "FloatProgressModel",
            "model_module_version": "1.5.0",
            "state": {
              "_dom_classes": [
                
              ],
              "_model_module": "@jupyter-widgets/controls",
              "_model_module_version": "1.5.0",
              "_model_name": "FloatProgressModel",
              "_view_count": null,
              "_view_module": "@jupyter-widgets/controls",
              "_view_module_version": "1.5.0",
              "_view_name": "ProgressView",
              "bar_style": "success",
              "description": "",
              "description_tooltip": null,
              "layout": "IPY_MODEL_d4795ea60745414882c223185216aae2",
              "max": 2537,
              "min": 0,
              "orientation": "horizontal",
              "style": "IPY_MODEL_75f51be04d434025908e1ab58592f107",
              "value": 2537
            }
          },
          "06fa5c3caec14dcea5bd8000a9b31ba9": {
            "model_module": "@jupyter-widgets/controls",
            "model_name": "HTMLModel",
            "model_module_version": "1.5.0",
            "state": {
              "_dom_classes": [
                
              ],
              "_model_module": "@jupyter-widgets/controls",
              "_model_module_version": "1.5.0",
              "_model_name": "HTMLModel",
              "_view_count": null,
              "_view_module": "@jupyter-widgets/controls",
              "_view_module_version": "1.5.0",
              "_view_name": "HTMLView",
              "description": "",
              "description_tooltip": null,
              "layout": "IPY_MODEL_fd872046fca245f78afcd8a5bf6d4211",
              "placeholder": "​",
              "style": "IPY_MODEL_77b63c424df44f15928f395003645d52",
              "value": " 2.54k/2.54k [00:00&lt;00:00, 60.2kB/s]"
            }
          },
          "ab545dcba59b4d0abf4edbb58ddf6eb4": {
            "model_module": "@jupyter-widgets/base",
            "model_name": "LayoutModel",
            "model_module_version": "1.2.0",
            "state": {
              "_model_module": "@jupyter-widgets/base",
              "_model_module_version": "1.2.0",
              "_model_name": "LayoutModel",
              "_view_count": null,
              "_view_module": "@jupyter-widgets/base",
              "_view_module_version": "1.2.0",
              "_view_name": "LayoutView",
              "align_content": null,
              "align_items": null,
              "align_self": null,
              "border": null,
              "bottom": null,
              "display": null,
              "flex": null,
              "flex_flow": null,
              "grid_area": null,
              "grid_auto_columns": null,
              "grid_auto_flow": null,
              "grid_auto_rows": null,
              "grid_column": null,
              "grid_gap": null,
              "grid_row": null,
              "grid_template_areas": null,
              "grid_template_columns": null,
              "grid_template_rows": null,
              "height": null,
              "justify_content": null,
              "justify_items": null,
              "left": null,
              "margin": null,
              "max_height": null,
              "max_width": null,
              "min_height": null,
              "min_width": null,
              "object_fit": null,
              "object_position": null,
              "order": null,
              "overflow": null,
              "overflow_x": null,
              "overflow_y": null,
              "padding": null,
              "right": null,
              "top": null,
              "visibility": null,
              "width": null
            }
          },
          "bc726731ae184decb5449571d637b293": {
            "model_module": "@jupyter-widgets/base",
            "model_name": "LayoutModel",
            "model_module_version": "1.2.0",
            "state": {
              "_model_module": "@jupyter-widgets/base",
              "_model_module_version": "1.2.0",
              "_model_name": "LayoutModel",
              "_view_count": null,
              "_view_module": "@jupyter-widgets/base",
              "_view_module_version": "1.2.0",
              "_view_name": "LayoutView",
              "align_content": null,
              "align_items": null,
              "align_self": null,
              "border": null,
              "bottom": null,
              "display": null,
              "flex": null,
              "flex_flow": null,
              "grid_area": null,
              "grid_auto_columns": null,
              "grid_auto_flow": null,
              "grid_auto_rows": null,
              "grid_column": null,
              "grid_gap": null,
              "grid_row": null,
              "grid_template_areas": null,
              "grid_template_columns": null,
              "grid_template_rows": null,
              "height": null,
              "justify_content": null,
              "justify_items": null,
              "left": null,
              "margin": null,
              "max_height": null,
              "max_width": null,
              "min_height": null,
              "min_width": null,
              "object_fit": null,
              "object_position": null,
              "order": null,
              "overflow": null,
              "overflow_x": null,
              "overflow_y": null,
              "padding": null,
              "right": null,
              "top": null,
              "visibility": null,
              "width": null
            }
          },
          "2c8a21d2d40942b5b72131a88c92550a": {
            "model_module": "@jupyter-widgets/controls",
            "model_name": "DescriptionStyleModel",
            "model_module_version": "1.5.0",
            "state": {
              "_model_module": "@jupyter-widgets/controls",
              "_model_module_version": "1.5.0",
              "_model_name": "DescriptionStyleModel",
              "_view_count": null,
              "_view_module": "@jupyter-widgets/base",
              "_view_module_version": "1.2.0",
              "_view_name": "StyleView",
              "description_width": ""
            }
          },
          "d4795ea60745414882c223185216aae2": {
            "model_module": "@jupyter-widgets/base",
            "model_name": "LayoutModel",
            "model_module_version": "1.2.0",
            "state": {
              "_model_module": "@jupyter-widgets/base",
              "_model_module_version": "1.2.0",
              "_model_name": "LayoutModel",
              "_view_count": null,
              "_view_module": "@jupyter-widgets/base",
              "_view_module_version": "1.2.0",
              "_view_name": "LayoutView",
              "align_content": null,
              "align_items": null,
              "align_self": null,
              "border": null,
              "bottom": null,
              "display": null,
              "flex": null,
              "flex_flow": null,
              "grid_area": null,
              "grid_auto_columns": null,
              "grid_auto_flow": null,
              "grid_auto_rows": null,
              "grid_column": null,
              "grid_gap": null,
              "grid_row": null,
              "grid_template_areas": null,
              "grid_template_columns": null,
              "grid_template_rows": null,
              "height": null,
              "justify_content": null,
              "justify_items": null,
              "left": null,
              "margin": null,
              "max_height": null,
              "max_width": null,
              "min_height": null,
              "min_width": null,
              "object_fit": null,
              "object_position": null,
              "order": null,
              "overflow": null,
              "overflow_x": null,
              "overflow_y": null,
              "padding": null,
              "right": null,
              "top": null,
              "visibility": null,
              "width": null
            }
          },
          "75f51be04d434025908e1ab58592f107": {
            "model_module": "@jupyter-widgets/controls",
            "model_name": "ProgressStyleModel",
            "model_module_version": "1.5.0",
            "state": {
              "_model_module": "@jupyter-widgets/controls",
              "_model_module_version": "1.5.0",
              "_model_name": "ProgressStyleModel",
              "_view_count": null,
              "_view_module": "@jupyter-widgets/base",
              "_view_module_version": "1.2.0",
              "_view_name": "StyleView",
              "bar_color": null,
              "description_width": ""
            }
          },
          "fd872046fca245f78afcd8a5bf6d4211": {
            "model_module": "@jupyter-widgets/base",
            "model_name": "LayoutModel",
            "model_module_version": "1.2.0",
            "state": {
              "_model_module": "@jupyter-widgets/base",
              "_model_module_version": "1.2.0",
              "_model_name": "LayoutModel",
              "_view_count": null,
              "_view_module": "@jupyter-widgets/base",
              "_view_module_version": "1.2.0",
              "_view_name": "LayoutView",
              "align_content": null,
              "align_items": null,
              "align_self": null,
              "border": null,
              "bottom": null,
              "display": null,
              "flex": null,
              "flex_flow": null,
              "grid_area": null,
              "grid_auto_columns": null,
              "grid_auto_flow": null,
              "grid_auto_rows": null,
              "grid_column": null,
              "grid_gap": null,
              "grid_row": null,
              "grid_template_areas": null,
              "grid_template_columns": null,
              "grid_template_rows": null,
              "height": null,
              "justify_content": null,
              "justify_items": null,
              "left": null,
              "margin": null,
              "max_height": null,
              "max_width": null,
              "min_height": null,
              "min_width": null,
              "object_fit": null,
              "object_position": null,
              "order": null,
              "overflow": null,
              "overflow_x": null,
              "overflow_y": null,
              "padding": null,
              "right": null,
              "top": null,
              "visibility": null,
              "width": null
            }
          },
          "77b63c424df44f15928f395003645d52": {
            "model_module": "@jupyter-widgets/controls",
            "model_name": "DescriptionStyleModel",
            "model_module_version": "1.5.0",
            "state": {
              "_model_module": "@jupyter-widgets/controls",
              "_model_module_version": "1.5.0",
              "_model_name": "DescriptionStyleModel",
              "_view_count": null,
              "_view_module": "@jupyter-widgets/base",
              "_view_module_version": "1.2.0",
              "_view_name": "StyleView",
              "description_width": ""
            }
          },
          "531ab63415c84817955f21dc53244ccf": {
            "model_module": "@jupyter-widgets/controls",
            "model_name": "HBoxModel",
            "model_module_version": "1.5.0",
            "state": {
              "_dom_classes": [
                
              ],
              "_model_module": "@jupyter-widgets/controls",
              "_model_module_version": "1.5.0",
              "_model_name": "HBoxModel",
              "_view_count": null,
              "_view_module": "@jupyter-widgets/controls",
              "_view_module_version": "1.5.0",
              "_view_name": "HBoxView",
              "box_style": "",
              "children": [
                "IPY_MODEL_dcd648c491f34917a50f7fa1b40c5e79",
                "IPY_MODEL_0b5f859196f34d1e98c0bf659b21d895",
                "IPY_MODEL_d2a61d6a06034f40a8a3dcd44353a236"
              ],
              "layout": "IPY_MODEL_3e83e3390cd140a7a60ab8a84b29b5ed"
            }
          },
          "dcd648c491f34917a50f7fa1b40c5e79": {
            "model_module": "@jupyter-widgets/controls",
            "model_name": "HTMLModel",
            "model_module_version": "1.5.0",
            "state": {
              "_dom_classes": [
                
              ],
              "_model_module": "@jupyter-widgets/controls",
              "_model_module_version": "1.5.0",
              "_model_name": "HTMLModel",
              "_view_count": null,
              "_view_module": "@jupyter-widgets/controls",
              "_view_module_version": "1.5.0",
              "_view_name": "HTMLView",
              "description": "",
              "description_tooltip": null,
              "layout": "IPY_MODEL_08d48b97dd5d42098df360be26017b8c",
              "placeholder": "​",
              "style": "IPY_MODEL_59bb1701d3bf4d088ce01628a7360c37",
              "value": "Downloading spiece.model: 100%"
            }
          },
          "0b5f859196f34d1e98c0bf659b21d895": {
            "model_module": "@jupyter-widgets/controls",
            "model_name": "FloatProgressModel",
            "model_module_version": "1.5.0",
            "state": {
              "_dom_classes": [
                
              ],
              "_model_module": "@jupyter-widgets/controls",
              "_model_module_version": "1.5.0",
              "_model_name": "FloatProgressModel",
              "_view_count": null,
              "_view_module": "@jupyter-widgets/controls",
              "_view_module_version": "1.5.0",
              "_view_name": "ProgressView",
              "bar_style": "success",
              "description": "",
              "description_tooltip": null,
              "layout": "IPY_MODEL_9b4a2fd0872f48baa2575da99a9f8af0",
              "max": 791656,
              "min": 0,
              "orientation": "horizontal",
              "style": "IPY_MODEL_4e7b515ea90f469fb9f8e86efb50a395",
              "value": 791656
            }
          },
          "d2a61d6a06034f40a8a3dcd44353a236": {
            "model_module": "@jupyter-widgets/controls",
            "model_name": "HTMLModel",
            "model_module_version": "1.5.0",
            "state": {
              "_dom_classes": [
                
              ],
              "_model_module": "@jupyter-widgets/controls",
              "_model_module_version": "1.5.0",
              "_model_name": "HTMLModel",
              "_view_count": null,
              "_view_module": "@jupyter-widgets/controls",
              "_view_module_version": "1.5.0",
              "_view_name": "HTMLView",
              "description": "",
              "description_tooltip": null,
              "layout": "IPY_MODEL_1235436a544e47bf926327fe1a86949d",
              "placeholder": "​",
              "style": "IPY_MODEL_5336af12fdc848838d974556b929afe7",
              "value": " 792k/792k [00:00&lt;00:00, 16.8MB/s]"
            }
          },
          "3e83e3390cd140a7a60ab8a84b29b5ed": {
            "model_module": "@jupyter-widgets/base",
            "model_name": "LayoutModel",
            "model_module_version": "1.2.0",
            "state": {
              "_model_module": "@jupyter-widgets/base",
              "_model_module_version": "1.2.0",
              "_model_name": "LayoutModel",
              "_view_count": null,
              "_view_module": "@jupyter-widgets/base",
              "_view_module_version": "1.2.0",
              "_view_name": "LayoutView",
              "align_content": null,
              "align_items": null,
              "align_self": null,
              "border": null,
              "bottom": null,
              "display": null,
              "flex": null,
              "flex_flow": null,
              "grid_area": null,
              "grid_auto_columns": null,
              "grid_auto_flow": null,
              "grid_auto_rows": null,
              "grid_column": null,
              "grid_gap": null,
              "grid_row": null,
              "grid_template_areas": null,
              "grid_template_columns": null,
              "grid_template_rows": null,
              "height": null,
              "justify_content": null,
              "justify_items": null,
              "left": null,
              "margin": null,
              "max_height": null,
              "max_width": null,
              "min_height": null,
              "min_width": null,
              "object_fit": null,
              "object_position": null,
              "order": null,
              "overflow": null,
              "overflow_x": null,
              "overflow_y": null,
              "padding": null,
              "right": null,
              "top": null,
              "visibility": null,
              "width": null
            }
          },
          "08d48b97dd5d42098df360be26017b8c": {
            "model_module": "@jupyter-widgets/base",
            "model_name": "LayoutModel",
            "model_module_version": "1.2.0",
            "state": {
              "_model_module": "@jupyter-widgets/base",
              "_model_module_version": "1.2.0",
              "_model_name": "LayoutModel",
              "_view_count": null,
              "_view_module": "@jupyter-widgets/base",
              "_view_module_version": "1.2.0",
              "_view_name": "LayoutView",
              "align_content": null,
              "align_items": null,
              "align_self": null,
              "border": null,
              "bottom": null,
              "display": null,
              "flex": null,
              "flex_flow": null,
              "grid_area": null,
              "grid_auto_columns": null,
              "grid_auto_flow": null,
              "grid_auto_rows": null,
              "grid_column": null,
              "grid_gap": null,
              "grid_row": null,
              "grid_template_areas": null,
              "grid_template_columns": null,
              "grid_template_rows": null,
              "height": null,
              "justify_content": null,
              "justify_items": null,
              "left": null,
              "margin": null,
              "max_height": null,
              "max_width": null,
              "min_height": null,
              "min_width": null,
              "object_fit": null,
              "object_position": null,
              "order": null,
              "overflow": null,
              "overflow_x": null,
              "overflow_y": null,
              "padding": null,
              "right": null,
              "top": null,
              "visibility": null,
              "width": null
            }
          },
          "59bb1701d3bf4d088ce01628a7360c37": {
            "model_module": "@jupyter-widgets/controls",
            "model_name": "DescriptionStyleModel",
            "model_module_version": "1.5.0",
            "state": {
              "_model_module": "@jupyter-widgets/controls",
              "_model_module_version": "1.5.0",
              "_model_name": "DescriptionStyleModel",
              "_view_count": null,
              "_view_module": "@jupyter-widgets/base",
              "_view_module_version": "1.2.0",
              "_view_name": "StyleView",
              "description_width": ""
            }
          },
          "9b4a2fd0872f48baa2575da99a9f8af0": {
            "model_module": "@jupyter-widgets/base",
            "model_name": "LayoutModel",
            "model_module_version": "1.2.0",
            "state": {
              "_model_module": "@jupyter-widgets/base",
              "_model_module_version": "1.2.0",
              "_model_name": "LayoutModel",
              "_view_count": null,
              "_view_module": "@jupyter-widgets/base",
              "_view_module_version": "1.2.0",
              "_view_name": "LayoutView",
              "align_content": null,
              "align_items": null,
              "align_self": null,
              "border": null,
              "bottom": null,
              "display": null,
              "flex": null,
              "flex_flow": null,
              "grid_area": null,
              "grid_auto_columns": null,
              "grid_auto_flow": null,
              "grid_auto_rows": null,
              "grid_column": null,
              "grid_gap": null,
              "grid_row": null,
              "grid_template_areas": null,
              "grid_template_columns": null,
              "grid_template_rows": null,
              "height": null,
              "justify_content": null,
              "justify_items": null,
              "left": null,
              "margin": null,
              "max_height": null,
              "max_width": null,
              "min_height": null,
              "min_width": null,
              "object_fit": null,
              "object_position": null,
              "order": null,
              "overflow": null,
              "overflow_x": null,
              "overflow_y": null,
              "padding": null,
              "right": null,
              "top": null,
              "visibility": null,
              "width": null
            }
          },
          "4e7b515ea90f469fb9f8e86efb50a395": {
            "model_module": "@jupyter-widgets/controls",
            "model_name": "ProgressStyleModel",
            "model_module_version": "1.5.0",
            "state": {
              "_model_module": "@jupyter-widgets/controls",
              "_model_module_version": "1.5.0",
              "_model_name": "ProgressStyleModel",
              "_view_count": null,
              "_view_module": "@jupyter-widgets/base",
              "_view_module_version": "1.2.0",
              "_view_name": "StyleView",
              "bar_color": null,
              "description_width": ""
            }
          },
          "1235436a544e47bf926327fe1a86949d": {
            "model_module": "@jupyter-widgets/base",
            "model_name": "LayoutModel",
            "model_module_version": "1.2.0",
            "state": {
              "_model_module": "@jupyter-widgets/base",
              "_model_module_version": "1.2.0",
              "_model_name": "LayoutModel",
              "_view_count": null,
              "_view_module": "@jupyter-widgets/base",
              "_view_module_version": "1.2.0",
              "_view_name": "LayoutView",
              "align_content": null,
              "align_items": null,
              "align_self": null,
              "border": null,
              "bottom": null,
              "display": null,
              "flex": null,
              "flex_flow": null,
              "grid_area": null,
              "grid_auto_columns": null,
              "grid_auto_flow": null,
              "grid_auto_rows": null,
              "grid_column": null,
              "grid_gap": null,
              "grid_row": null,
              "grid_template_areas": null,
              "grid_template_columns": null,
              "grid_template_rows": null,
              "height": null,
              "justify_content": null,
              "justify_items": null,
              "left": null,
              "margin": null,
              "max_height": null,
              "max_width": null,
              "min_height": null,
              "min_width": null,
              "object_fit": null,
              "object_position": null,
              "order": null,
              "overflow": null,
              "overflow_x": null,
              "overflow_y": null,
              "padding": null,
              "right": null,
              "top": null,
              "visibility": null,
              "width": null
            }
          },
          "5336af12fdc848838d974556b929afe7": {
            "model_module": "@jupyter-widgets/controls",
            "model_name": "DescriptionStyleModel",
            "model_module_version": "1.5.0",
            "state": {
              "_model_module": "@jupyter-widgets/controls",
              "_model_module_version": "1.5.0",
              "_model_name": "DescriptionStyleModel",
              "_view_count": null,
              "_view_module": "@jupyter-widgets/base",
              "_view_module_version": "1.2.0",
              "_view_name": "StyleView",
              "description_width": ""
            }
          },
          "45c1dd52b196455fab81a45d04269639": {
            "model_module": "@jupyter-widgets/controls",
            "model_name": "HBoxModel",
            "model_module_version": "1.5.0",
            "state": {
              "_dom_classes": [
                
              ],
              "_model_module": "@jupyter-widgets/controls",
              "_model_module_version": "1.5.0",
              "_model_name": "HBoxModel",
              "_view_count": null,
              "_view_module": "@jupyter-widgets/controls",
              "_view_module_version": "1.5.0",
              "_view_name": "HBoxView",
              "box_style": "",
              "children": [
                "IPY_MODEL_d77adf5a8c2641e9b50e80811b8f9788",
                "IPY_MODEL_4e6e89e3f30246b6a5574a78f79f4efd",
                "IPY_MODEL_93021034833341a7ab303c32640d47a1"
              ],
              "layout": "IPY_MODEL_6da7fc36c03c42248f3c30fdd829213f"
            }
          },
          "d77adf5a8c2641e9b50e80811b8f9788": {
            "model_module": "@jupyter-widgets/controls",
            "model_name": "HTMLModel",
            "model_module_version": "1.5.0",
            "state": {
              "_dom_classes": [
                
              ],
              "_model_module": "@jupyter-widgets/controls",
              "_model_module_version": "1.5.0",
              "_model_name": "HTMLModel",
              "_view_count": null,
              "_view_module": "@jupyter-widgets/controls",
              "_view_module_version": "1.5.0",
              "_view_name": "HTMLView",
              "description": "",
              "description_tooltip": null,
              "layout": "IPY_MODEL_5b756d27f5874adcbbbb3a9abc49123d",
              "placeholder": "​",
              "style": "IPY_MODEL_0437110583cb40aca002d85cd41b0570",
              "value": "Downloading (…)/main/tokenizer.json: 100%"
            }
          },
          "4e6e89e3f30246b6a5574a78f79f4efd": {
            "model_module": "@jupyter-widgets/controls",
            "model_name": "FloatProgressModel",
            "model_module_version": "1.5.0",
            "state": {
              "_dom_classes": [
                
              ],
              "_model_module": "@jupyter-widgets/controls",
              "_model_module_version": "1.5.0",
              "_model_name": "FloatProgressModel",
              "_view_count": null,
              "_view_module": "@jupyter-widgets/controls",
              "_view_module_version": "1.5.0",
              "_view_name": "ProgressView",
              "bar_style": "success",
              "description": "",
              "description_tooltip": null,
              "layout": "IPY_MODEL_b1b1858c4036480bb3cea7b03095d47f",
              "max": 2424064,
              "min": 0,
              "orientation": "horizontal",
              "style": "IPY_MODEL_7198de671f924f7bbd93d9925a23c088",
              "value": 2424064
            }
          },
          "93021034833341a7ab303c32640d47a1": {
            "model_module": "@jupyter-widgets/controls",
            "model_name": "HTMLModel",
            "model_module_version": "1.5.0",
            "state": {
              "_dom_classes": [
                
              ],
              "_model_module": "@jupyter-widgets/controls",
              "_model_module_version": "1.5.0",
              "_model_name": "HTMLModel",
              "_view_count": null,
              "_view_module": "@jupyter-widgets/controls",
              "_view_module_version": "1.5.0",
              "_view_name": "HTMLView",
              "description": "",
              "description_tooltip": null,
              "layout": "IPY_MODEL_1ab69e6fb35e4a20a051487136d7c3d5",
              "placeholder": "​",
              "style": "IPY_MODEL_ee6362ae8f7441338b2394d9d68d819c",
              "value": " 2.42M/2.42M [00:00&lt;00:00, 27.8MB/s]"
            }
          },
          "6da7fc36c03c42248f3c30fdd829213f": {
            "model_module": "@jupyter-widgets/base",
            "model_name": "LayoutModel",
            "model_module_version": "1.2.0",
            "state": {
              "_model_module": "@jupyter-widgets/base",
              "_model_module_version": "1.2.0",
              "_model_name": "LayoutModel",
              "_view_count": null,
              "_view_module": "@jupyter-widgets/base",
              "_view_module_version": "1.2.0",
              "_view_name": "LayoutView",
              "align_content": null,
              "align_items": null,
              "align_self": null,
              "border": null,
              "bottom": null,
              "display": null,
              "flex": null,
              "flex_flow": null,
              "grid_area": null,
              "grid_auto_columns": null,
              "grid_auto_flow": null,
              "grid_auto_rows": null,
              "grid_column": null,
              "grid_gap": null,
              "grid_row": null,
              "grid_template_areas": null,
              "grid_template_columns": null,
              "grid_template_rows": null,
              "height": null,
              "justify_content": null,
              "justify_items": null,
              "left": null,
              "margin": null,
              "max_height": null,
              "max_width": null,
              "min_height": null,
              "min_width": null,
              "object_fit": null,
              "object_position": null,
              "order": null,
              "overflow": null,
              "overflow_x": null,
              "overflow_y": null,
              "padding": null,
              "right": null,
              "top": null,
              "visibility": null,
              "width": null
            }
          },
          "5b756d27f5874adcbbbb3a9abc49123d": {
            "model_module": "@jupyter-widgets/base",
            "model_name": "LayoutModel",
            "model_module_version": "1.2.0",
            "state": {
              "_model_module": "@jupyter-widgets/base",
              "_model_module_version": "1.2.0",
              "_model_name": "LayoutModel",
              "_view_count": null,
              "_view_module": "@jupyter-widgets/base",
              "_view_module_version": "1.2.0",
              "_view_name": "LayoutView",
              "align_content": null,
              "align_items": null,
              "align_self": null,
              "border": null,
              "bottom": null,
              "display": null,
              "flex": null,
              "flex_flow": null,
              "grid_area": null,
              "grid_auto_columns": null,
              "grid_auto_flow": null,
              "grid_auto_rows": null,
              "grid_column": null,
              "grid_gap": null,
              "grid_row": null,
              "grid_template_areas": null,
              "grid_template_columns": null,
              "grid_template_rows": null,
              "height": null,
              "justify_content": null,
              "justify_items": null,
              "left": null,
              "margin": null,
              "max_height": null,
              "max_width": null,
              "min_height": null,
              "min_width": null,
              "object_fit": null,
              "object_position": null,
              "order": null,
              "overflow": null,
              "overflow_x": null,
              "overflow_y": null,
              "padding": null,
              "right": null,
              "top": null,
              "visibility": null,
              "width": null
            }
          },
          "0437110583cb40aca002d85cd41b0570": {
            "model_module": "@jupyter-widgets/controls",
            "model_name": "DescriptionStyleModel",
            "model_module_version": "1.5.0",
            "state": {
              "_model_module": "@jupyter-widgets/controls",
              "_model_module_version": "1.5.0",
              "_model_name": "DescriptionStyleModel",
              "_view_count": null,
              "_view_module": "@jupyter-widgets/base",
              "_view_module_version": "1.2.0",
              "_view_name": "StyleView",
              "description_width": ""
            }
          },
          "b1b1858c4036480bb3cea7b03095d47f": {
            "model_module": "@jupyter-widgets/base",
            "model_name": "LayoutModel",
            "model_module_version": "1.2.0",
            "state": {
              "_model_module": "@jupyter-widgets/base",
              "_model_module_version": "1.2.0",
              "_model_name": "LayoutModel",
              "_view_count": null,
              "_view_module": "@jupyter-widgets/base",
              "_view_module_version": "1.2.0",
              "_view_name": "LayoutView",
              "align_content": null,
              "align_items": null,
              "align_self": null,
              "border": null,
              "bottom": null,
              "display": null,
              "flex": null,
              "flex_flow": null,
              "grid_area": null,
              "grid_auto_columns": null,
              "grid_auto_flow": null,
              "grid_auto_rows": null,
              "grid_column": null,
              "grid_gap": null,
              "grid_row": null,
              "grid_template_areas": null,
              "grid_template_columns": null,
              "grid_template_rows": null,
              "height": null,
              "justify_content": null,
              "justify_items": null,
              "left": null,
              "margin": null,
              "max_height": null,
              "max_width": null,
              "min_height": null,
              "min_width": null,
              "object_fit": null,
              "object_position": null,
              "order": null,
              "overflow": null,
              "overflow_x": null,
              "overflow_y": null,
              "padding": null,
              "right": null,
              "top": null,
              "visibility": null,
              "width": null
            }
          },
          "7198de671f924f7bbd93d9925a23c088": {
            "model_module": "@jupyter-widgets/controls",
            "model_name": "ProgressStyleModel",
            "model_module_version": "1.5.0",
            "state": {
              "_model_module": "@jupyter-widgets/controls",
              "_model_module_version": "1.5.0",
              "_model_name": "ProgressStyleModel",
              "_view_count": null,
              "_view_module": "@jupyter-widgets/base",
              "_view_module_version": "1.2.0",
              "_view_name": "StyleView",
              "bar_color": null,
              "description_width": ""
            }
          },
          "1ab69e6fb35e4a20a051487136d7c3d5": {
            "model_module": "@jupyter-widgets/base",
            "model_name": "LayoutModel",
            "model_module_version": "1.2.0",
            "state": {
              "_model_module": "@jupyter-widgets/base",
              "_model_module_version": "1.2.0",
              "_model_name": "LayoutModel",
              "_view_count": null,
              "_view_module": "@jupyter-widgets/base",
              "_view_module_version": "1.2.0",
              "_view_name": "LayoutView",
              "align_content": null,
              "align_items": null,
              "align_self": null,
              "border": null,
              "bottom": null,
              "display": null,
              "flex": null,
              "flex_flow": null,
              "grid_area": null,
              "grid_auto_columns": null,
              "grid_auto_flow": null,
              "grid_auto_rows": null,
              "grid_column": null,
              "grid_gap": null,
              "grid_row": null,
              "grid_template_areas": null,
              "grid_template_columns": null,
              "grid_template_rows": null,
              "height": null,
              "justify_content": null,
              "justify_items": null,
              "left": null,
              "margin": null,
              "max_height": null,
              "max_width": null,
              "min_height": null,
              "min_width": null,
              "object_fit": null,
              "object_position": null,
              "order": null,
              "overflow": null,
              "overflow_x": null,
              "overflow_y": null,
              "padding": null,
              "right": null,
              "top": null,
              "visibility": null,
              "width": null
            }
          },
          "ee6362ae8f7441338b2394d9d68d819c": {
            "model_module": "@jupyter-widgets/controls",
            "model_name": "DescriptionStyleModel",
            "model_module_version": "1.5.0",
            "state": {
              "_model_module": "@jupyter-widgets/controls",
              "_model_module_version": "1.5.0",
              "_model_name": "DescriptionStyleModel",
              "_view_count": null,
              "_view_module": "@jupyter-widgets/base",
              "_view_module_version": "1.2.0",
              "_view_name": "StyleView",
              "description_width": ""
            }
          },
          "8765b7fc8c3245038fd551aef4af2b34": {
            "model_module": "@jupyter-widgets/controls",
            "model_name": "HBoxModel",
            "model_module_version": "1.5.0",
            "state": {
              "_dom_classes": [
                
              ],
              "_model_module": "@jupyter-widgets/controls",
              "_model_module_version": "1.5.0",
              "_model_name": "HBoxModel",
              "_view_count": null,
              "_view_module": "@jupyter-widgets/controls",
              "_view_module_version": "1.5.0",
              "_view_name": "HBoxView",
              "box_style": "",
              "children": [
                "IPY_MODEL_1d9e1bf3966140509612ac96ba7d7d77",
                "IPY_MODEL_4bd84fbbe85d48849e56a96cf3e1df77",
                "IPY_MODEL_2d3cf7e9e57d493b8c98a806791acf37"
              ],
              "layout": "IPY_MODEL_7d71824251c24e159a428c104b4c2cd5"
            }
          },
          "1d9e1bf3966140509612ac96ba7d7d77": {
            "model_module": "@jupyter-widgets/controls",
            "model_name": "HTMLModel",
            "model_module_version": "1.5.0",
            "state": {
              "_dom_classes": [
                
              ],
              "_model_module": "@jupyter-widgets/controls",
              "_model_module_version": "1.5.0",
              "_model_name": "HTMLModel",
              "_view_count": null,
              "_view_module": "@jupyter-widgets/controls",
              "_view_module_version": "1.5.0",
              "_view_name": "HTMLView",
              "description": "",
              "description_tooltip": null,
              "layout": "IPY_MODEL_958f053835a7435c8e4dac63a7ee7d4d",
              "placeholder": "​",
              "style": "IPY_MODEL_203f73973e7e4a218edf2b1ec4866e23",
              "value": "Downloading (…)cial_tokens_map.json: 100%"
            }
          },
          "4bd84fbbe85d48849e56a96cf3e1df77": {
            "model_module": "@jupyter-widgets/controls",
            "model_name": "FloatProgressModel",
            "model_module_version": "1.5.0",
            "state": {
              "_dom_classes": [
                
              ],
              "_model_module": "@jupyter-widgets/controls",
              "_model_module_version": "1.5.0",
              "_model_name": "FloatProgressModel",
              "_view_count": null,
              "_view_module": "@jupyter-widgets/controls",
              "_view_module_version": "1.5.0",
              "_view_name": "ProgressView",
              "bar_style": "success",
              "description": "",
              "description_tooltip": null,
              "layout": "IPY_MODEL_9d490f5e188342cdad257973d668f565",
              "max": 2201,
              "min": 0,
              "orientation": "horizontal",
              "style": "IPY_MODEL_78297beb30b44a74b5668f58df114130",
              "value": 2201
            }
          },
          "2d3cf7e9e57d493b8c98a806791acf37": {
            "model_module": "@jupyter-widgets/controls",
            "model_name": "HTMLModel",
            "model_module_version": "1.5.0",
            "state": {
              "_dom_classes": [
                
              ],
              "_model_module": "@jupyter-widgets/controls",
              "_model_module_version": "1.5.0",
              "_model_name": "HTMLModel",
              "_view_count": null,
              "_view_module": "@jupyter-widgets/controls",
              "_view_module_version": "1.5.0",
              "_view_name": "HTMLView",
              "description": "",
              "description_tooltip": null,
              "layout": "IPY_MODEL_64f315562e474fd79dbff2aab5ed7ecf",
              "placeholder": "​",
              "style": "IPY_MODEL_970ea2d0bc984a1ca079f8c8e893486a",
              "value": " 2.20k/2.20k [00:00&lt;00:00, 99.3kB/s]"
            }
          },
          "7d71824251c24e159a428c104b4c2cd5": {
            "model_module": "@jupyter-widgets/base",
            "model_name": "LayoutModel",
            "model_module_version": "1.2.0",
            "state": {
              "_model_module": "@jupyter-widgets/base",
              "_model_module_version": "1.2.0",
              "_model_name": "LayoutModel",
              "_view_count": null,
              "_view_module": "@jupyter-widgets/base",
              "_view_module_version": "1.2.0",
              "_view_name": "LayoutView",
              "align_content": null,
              "align_items": null,
              "align_self": null,
              "border": null,
              "bottom": null,
              "display": null,
              "flex": null,
              "flex_flow": null,
              "grid_area": null,
              "grid_auto_columns": null,
              "grid_auto_flow": null,
              "grid_auto_rows": null,
              "grid_column": null,
              "grid_gap": null,
              "grid_row": null,
              "grid_template_areas": null,
              "grid_template_columns": null,
              "grid_template_rows": null,
              "height": null,
              "justify_content": null,
              "justify_items": null,
              "left": null,
              "margin": null,
              "max_height": null,
              "max_width": null,
              "min_height": null,
              "min_width": null,
              "object_fit": null,
              "object_position": null,
              "order": null,
              "overflow": null,
              "overflow_x": null,
              "overflow_y": null,
              "padding": null,
              "right": null,
              "top": null,
              "visibility": null,
              "width": null
            }
          },
          "958f053835a7435c8e4dac63a7ee7d4d": {
            "model_module": "@jupyter-widgets/base",
            "model_name": "LayoutModel",
            "model_module_version": "1.2.0",
            "state": {
              "_model_module": "@jupyter-widgets/base",
              "_model_module_version": "1.2.0",
              "_model_name": "LayoutModel",
              "_view_count": null,
              "_view_module": "@jupyter-widgets/base",
              "_view_module_version": "1.2.0",
              "_view_name": "LayoutView",
              "align_content": null,
              "align_items": null,
              "align_self": null,
              "border": null,
              "bottom": null,
              "display": null,
              "flex": null,
              "flex_flow": null,
              "grid_area": null,
              "grid_auto_columns": null,
              "grid_auto_flow": null,
              "grid_auto_rows": null,
              "grid_column": null,
              "grid_gap": null,
              "grid_row": null,
              "grid_template_areas": null,
              "grid_template_columns": null,
              "grid_template_rows": null,
              "height": null,
              "justify_content": null,
              "justify_items": null,
              "left": null,
              "margin": null,
              "max_height": null,
              "max_width": null,
              "min_height": null,
              "min_width": null,
              "object_fit": null,
              "object_position": null,
              "order": null,
              "overflow": null,
              "overflow_x": null,
              "overflow_y": null,
              "padding": null,
              "right": null,
              "top": null,
              "visibility": null,
              "width": null
            }
          },
          "203f73973e7e4a218edf2b1ec4866e23": {
            "model_module": "@jupyter-widgets/controls",
            "model_name": "DescriptionStyleModel",
            "model_module_version": "1.5.0",
            "state": {
              "_model_module": "@jupyter-widgets/controls",
              "_model_module_version": "1.5.0",
              "_model_name": "DescriptionStyleModel",
              "_view_count": null,
              "_view_module": "@jupyter-widgets/base",
              "_view_module_version": "1.2.0",
              "_view_name": "StyleView",
              "description_width": ""
            }
          },
          "9d490f5e188342cdad257973d668f565": {
            "model_module": "@jupyter-widgets/base",
            "model_name": "LayoutModel",
            "model_module_version": "1.2.0",
            "state": {
              "_model_module": "@jupyter-widgets/base",
              "_model_module_version": "1.2.0",
              "_model_name": "LayoutModel",
              "_view_count": null,
              "_view_module": "@jupyter-widgets/base",
              "_view_module_version": "1.2.0",
              "_view_name": "LayoutView",
              "align_content": null,
              "align_items": null,
              "align_self": null,
              "border": null,
              "bottom": null,
              "display": null,
              "flex": null,
              "flex_flow": null,
              "grid_area": null,
              "grid_auto_columns": null,
              "grid_auto_flow": null,
              "grid_auto_rows": null,
              "grid_column": null,
              "grid_gap": null,
              "grid_row": null,
              "grid_template_areas": null,
              "grid_template_columns": null,
              "grid_template_rows": null,
              "height": null,
              "justify_content": null,
              "justify_items": null,
              "left": null,
              "margin": null,
              "max_height": null,
              "max_width": null,
              "min_height": null,
              "min_width": null,
              "object_fit": null,
              "object_position": null,
              "order": null,
              "overflow": null,
              "overflow_x": null,
              "overflow_y": null,
              "padding": null,
              "right": null,
              "top": null,
              "visibility": null,
              "width": null
            }
          },
          "78297beb30b44a74b5668f58df114130": {
            "model_module": "@jupyter-widgets/controls",
            "model_name": "ProgressStyleModel",
            "model_module_version": "1.5.0",
            "state": {
              "_model_module": "@jupyter-widgets/controls",
              "_model_module_version": "1.5.0",
              "_model_name": "ProgressStyleModel",
              "_view_count": null,
              "_view_module": "@jupyter-widgets/base",
              "_view_module_version": "1.2.0",
              "_view_name": "StyleView",
              "bar_color": null,
              "description_width": ""
            }
          },
          "64f315562e474fd79dbff2aab5ed7ecf": {
            "model_module": "@jupyter-widgets/base",
            "model_name": "LayoutModel",
            "model_module_version": "1.2.0",
            "state": {
              "_model_module": "@jupyter-widgets/base",
              "_model_module_version": "1.2.0",
              "_model_name": "LayoutModel",
              "_view_count": null,
              "_view_module": "@jupyter-widgets/base",
              "_view_module_version": "1.2.0",
              "_view_name": "LayoutView",
              "align_content": null,
              "align_items": null,
              "align_self": null,
              "border": null,
              "bottom": null,
              "display": null,
              "flex": null,
              "flex_flow": null,
              "grid_area": null,
              "grid_auto_columns": null,
              "grid_auto_flow": null,
              "grid_auto_rows": null,
              "grid_column": null,
              "grid_gap": null,
              "grid_row": null,
              "grid_template_areas": null,
              "grid_template_columns": null,
              "grid_template_rows": null,
              "height": null,
              "justify_content": null,
              "justify_items": null,
              "left": null,
              "margin": null,
              "max_height": null,
              "max_width": null,
              "min_height": null,
              "min_width": null,
              "object_fit": null,
              "object_position": null,
              "order": null,
              "overflow": null,
              "overflow_x": null,
              "overflow_y": null,
              "padding": null,
              "right": null,
              "top": null,
              "visibility": null,
              "width": null
            }
          },
          "970ea2d0bc984a1ca079f8c8e893486a": {
            "model_module": "@jupyter-widgets/controls",
            "model_name": "DescriptionStyleModel",
            "model_module_version": "1.5.0",
            "state": {
              "_model_module": "@jupyter-widgets/controls",
              "_model_module_version": "1.5.0",
              "_model_name": "DescriptionStyleModel",
              "_view_count": null,
              "_view_module": "@jupyter-widgets/base",
              "_view_module_version": "1.2.0",
              "_view_name": "StyleView",
              "description_width": ""
            }
          },
          "558a191ed32a4109ad48de643df8a0a4": {
            "model_module": "@jupyter-widgets/controls",
            "model_name": "HBoxModel",
            "model_module_version": "1.5.0",
            "state": {
              "_dom_classes": [
                
              ],
              "_model_module": "@jupyter-widgets/controls",
              "_model_module_version": "1.5.0",
              "_model_name": "HBoxModel",
              "_view_count": null,
              "_view_module": "@jupyter-widgets/controls",
              "_view_module_version": "1.5.0",
              "_view_name": "HBoxView",
              "box_style": "",
              "children": [
                "IPY_MODEL_70ecbd3b3c1547369180128e1ec79aa6",
                "IPY_MODEL_9f7d4c0891b0425dbd33bc58ae3bc801",
                "IPY_MODEL_31bd5275da364f3c83c4137742f0f357"
              ],
              "layout": "IPY_MODEL_e5862963d91b469e96c02ba02fb4d98e"
            }
          },
          "70ecbd3b3c1547369180128e1ec79aa6": {
            "model_module": "@jupyter-widgets/controls",
            "model_name": "HTMLModel",
            "model_module_version": "1.5.0",
            "state": {
              "_dom_classes": [
                
              ],
              "_model_module": "@jupyter-widgets/controls",
              "_model_module_version": "1.5.0",
              "_model_name": "HTMLModel",
              "_view_count": null,
              "_view_module": "@jupyter-widgets/controls",
              "_view_module_version": "1.5.0",
              "_view_name": "HTMLView",
              "description": "",
              "description_tooltip": null,
              "layout": "IPY_MODEL_4502917400964580ab5516b73b845c19",
              "placeholder": "​",
              "style": "IPY_MODEL_7789eaf6317e41178354b81ea84099c6",
              "value": "Map: 100%"
            }
          },
          "9f7d4c0891b0425dbd33bc58ae3bc801": {
            "model_module": "@jupyter-widgets/controls",
            "model_name": "FloatProgressModel",
            "model_module_version": "1.5.0",
            "state": {
              "_dom_classes": [
                
              ],
              "_model_module": "@jupyter-widgets/controls",
              "_model_module_version": "1.5.0",
              "_model_name": "FloatProgressModel",
              "_view_count": null,
              "_view_module": "@jupyter-widgets/controls",
              "_view_module_version": "1.5.0",
              "_view_name": "ProgressView",
              "bar_style": "",
              "description": "",
              "description_tooltip": null,
              "layout": "IPY_MODEL_48b7c941386249ff92b6f2a6f148937f",
              "max": 12460,
              "min": 0,
              "orientation": "horizontal",
              "style": "IPY_MODEL_91149940feb54b25a8bfcc5008f5174b",
              "value": 12460
            }
          },
          "31bd5275da364f3c83c4137742f0f357": {
            "model_module": "@jupyter-widgets/controls",
            "model_name": "HTMLModel",
            "model_module_version": "1.5.0",
            "state": {
              "_dom_classes": [
                
              ],
              "_model_module": "@jupyter-widgets/controls",
              "_model_module_version": "1.5.0",
              "_model_name": "HTMLModel",
              "_view_count": null,
              "_view_module": "@jupyter-widgets/controls",
              "_view_module_version": "1.5.0",
              "_view_name": "HTMLView",
              "description": "",
              "description_tooltip": null,
              "layout": "IPY_MODEL_4e962b431a574bb2b2f8cb3552f682c5",
              "placeholder": "​",
              "style": "IPY_MODEL_3d985dd6e85e4f1a97749f9978913e81",
              "value": " 12460/12460 [00:14&lt;00:00, 804.45 examples/s]"
            }
          },
          "e5862963d91b469e96c02ba02fb4d98e": {
            "model_module": "@jupyter-widgets/base",
            "model_name": "LayoutModel",
            "model_module_version": "1.2.0",
            "state": {
              "_model_module": "@jupyter-widgets/base",
              "_model_module_version": "1.2.0",
              "_model_name": "LayoutModel",
              "_view_count": null,
              "_view_module": "@jupyter-widgets/base",
              "_view_module_version": "1.2.0",
              "_view_name": "LayoutView",
              "align_content": null,
              "align_items": null,
              "align_self": null,
              "border": null,
              "bottom": null,
              "display": null,
              "flex": null,
              "flex_flow": null,
              "grid_area": null,
              "grid_auto_columns": null,
              "grid_auto_flow": null,
              "grid_auto_rows": null,
              "grid_column": null,
              "grid_gap": null,
              "grid_row": null,
              "grid_template_areas": null,
              "grid_template_columns": null,
              "grid_template_rows": null,
              "height": null,
              "justify_content": null,
              "justify_items": null,
              "left": null,
              "margin": null,
              "max_height": null,
              "max_width": null,
              "min_height": null,
              "min_width": null,
              "object_fit": null,
              "object_position": null,
              "order": null,
              "overflow": null,
              "overflow_x": null,
              "overflow_y": null,
              "padding": null,
              "right": null,
              "top": null,
              "visibility": "hidden",
              "width": null
            }
          },
          "4502917400964580ab5516b73b845c19": {
            "model_module": "@jupyter-widgets/base",
            "model_name": "LayoutModel",
            "model_module_version": "1.2.0",
            "state": {
              "_model_module": "@jupyter-widgets/base",
              "_model_module_version": "1.2.0",
              "_model_name": "LayoutModel",
              "_view_count": null,
              "_view_module": "@jupyter-widgets/base",
              "_view_module_version": "1.2.0",
              "_view_name": "LayoutView",
              "align_content": null,
              "align_items": null,
              "align_self": null,
              "border": null,
              "bottom": null,
              "display": null,
              "flex": null,
              "flex_flow": null,
              "grid_area": null,
              "grid_auto_columns": null,
              "grid_auto_flow": null,
              "grid_auto_rows": null,
              "grid_column": null,
              "grid_gap": null,
              "grid_row": null,
              "grid_template_areas": null,
              "grid_template_columns": null,
              "grid_template_rows": null,
              "height": null,
              "justify_content": null,
              "justify_items": null,
              "left": null,
              "margin": null,
              "max_height": null,
              "max_width": null,
              "min_height": null,
              "min_width": null,
              "object_fit": null,
              "object_position": null,
              "order": null,
              "overflow": null,
              "overflow_x": null,
              "overflow_y": null,
              "padding": null,
              "right": null,
              "top": null,
              "visibility": null,
              "width": null
            }
          },
          "7789eaf6317e41178354b81ea84099c6": {
            "model_module": "@jupyter-widgets/controls",
            "model_name": "DescriptionStyleModel",
            "model_module_version": "1.5.0",
            "state": {
              "_model_module": "@jupyter-widgets/controls",
              "_model_module_version": "1.5.0",
              "_model_name": "DescriptionStyleModel",
              "_view_count": null,
              "_view_module": "@jupyter-widgets/base",
              "_view_module_version": "1.2.0",
              "_view_name": "StyleView",
              "description_width": ""
            }
          },
          "48b7c941386249ff92b6f2a6f148937f": {
            "model_module": "@jupyter-widgets/base",
            "model_name": "LayoutModel",
            "model_module_version": "1.2.0",
            "state": {
              "_model_module": "@jupyter-widgets/base",
              "_model_module_version": "1.2.0",
              "_model_name": "LayoutModel",
              "_view_count": null,
              "_view_module": "@jupyter-widgets/base",
              "_view_module_version": "1.2.0",
              "_view_name": "LayoutView",
              "align_content": null,
              "align_items": null,
              "align_self": null,
              "border": null,
              "bottom": null,
              "display": null,
              "flex": null,
              "flex_flow": null,
              "grid_area": null,
              "grid_auto_columns": null,
              "grid_auto_flow": null,
              "grid_auto_rows": null,
              "grid_column": null,
              "grid_gap": null,
              "grid_row": null,
              "grid_template_areas": null,
              "grid_template_columns": null,
              "grid_template_rows": null,
              "height": null,
              "justify_content": null,
              "justify_items": null,
              "left": null,
              "margin": null,
              "max_height": null,
              "max_width": null,
              "min_height": null,
              "min_width": null,
              "object_fit": null,
              "object_position": null,
              "order": null,
              "overflow": null,
              "overflow_x": null,
              "overflow_y": null,
              "padding": null,
              "right": null,
              "top": null,
              "visibility": null,
              "width": null
            }
          },
          "91149940feb54b25a8bfcc5008f5174b": {
            "model_module": "@jupyter-widgets/controls",
            "model_name": "ProgressStyleModel",
            "model_module_version": "1.5.0",
            "state": {
              "_model_module": "@jupyter-widgets/controls",
              "_model_module_version": "1.5.0",
              "_model_name": "ProgressStyleModel",
              "_view_count": null,
              "_view_module": "@jupyter-widgets/base",
              "_view_module_version": "1.2.0",
              "_view_name": "StyleView",
              "bar_color": null,
              "description_width": ""
            }
          },
          "4e962b431a574bb2b2f8cb3552f682c5": {
            "model_module": "@jupyter-widgets/base",
            "model_name": "LayoutModel",
            "model_module_version": "1.2.0",
            "state": {
              "_model_module": "@jupyter-widgets/base",
              "_model_module_version": "1.2.0",
              "_model_name": "LayoutModel",
              "_view_count": null,
              "_view_module": "@jupyter-widgets/base",
              "_view_module_version": "1.2.0",
              "_view_name": "LayoutView",
              "align_content": null,
              "align_items": null,
              "align_self": null,
              "border": null,
              "bottom": null,
              "display": null,
              "flex": null,
              "flex_flow": null,
              "grid_area": null,
              "grid_auto_columns": null,
              "grid_auto_flow": null,
              "grid_auto_rows": null,
              "grid_column": null,
              "grid_gap": null,
              "grid_row": null,
              "grid_template_areas": null,
              "grid_template_columns": null,
              "grid_template_rows": null,
              "height": null,
              "justify_content": null,
              "justify_items": null,
              "left": null,
              "margin": null,
              "max_height": null,
              "max_width": null,
              "min_height": null,
              "min_width": null,
              "object_fit": null,
              "object_position": null,
              "order": null,
              "overflow": null,
              "overflow_x": null,
              "overflow_y": null,
              "padding": null,
              "right": null,
              "top": null,
              "visibility": null,
              "width": null
            }
          },
          "3d985dd6e85e4f1a97749f9978913e81": {
            "model_module": "@jupyter-widgets/controls",
            "model_name": "DescriptionStyleModel",
            "model_module_version": "1.5.0",
            "state": {
              "_model_module": "@jupyter-widgets/controls",
              "_model_module_version": "1.5.0",
              "_model_name": "DescriptionStyleModel",
              "_view_count": null,
              "_view_module": "@jupyter-widgets/base",
              "_view_module_version": "1.2.0",
              "_view_name": "StyleView",
              "description_width": ""
            }
          },
          "72c2dadb3f3b4295b3e68fff13547a88": {
            "model_module": "@jupyter-widgets/controls",
            "model_name": "HBoxModel",
            "model_module_version": "1.5.0",
            "state": {
              "_dom_classes": [
                
              ],
              "_model_module": "@jupyter-widgets/controls",
              "_model_module_version": "1.5.0",
              "_model_name": "HBoxModel",
              "_view_count": null,
              "_view_module": "@jupyter-widgets/controls",
              "_view_module_version": "1.5.0",
              "_view_name": "HBoxView",
              "box_style": "",
              "children": [
                "IPY_MODEL_ab72b7fd930948de9b0efce7039f3cf2",
                "IPY_MODEL_0f3f1bcaba0846c6a0019f175feaf9b9",
                "IPY_MODEL_298ddade07df4081a8d624e7fc500dcb"
              ],
              "layout": "IPY_MODEL_0243a32f0fbd48baa44688b86f16bab5"
            }
          },
          "ab72b7fd930948de9b0efce7039f3cf2": {
            "model_module": "@jupyter-widgets/controls",
            "model_name": "HTMLModel",
            "model_module_version": "1.5.0",
            "state": {
              "_dom_classes": [
                
              ],
              "_model_module": "@jupyter-widgets/controls",
              "_model_module_version": "1.5.0",
              "_model_name": "HTMLModel",
              "_view_count": null,
              "_view_module": "@jupyter-widgets/controls",
              "_view_module_version": "1.5.0",
              "_view_name": "HTMLView",
              "description": "",
              "description_tooltip": null,
              "layout": "IPY_MODEL_c4b86c1a570940d989750e3ca323c5a9",
              "placeholder": "​",
              "style": "IPY_MODEL_26336a992866434b88475ce00347ef31",
              "value": "Map: 100%"
            }
          },
          "0f3f1bcaba0846c6a0019f175feaf9b9": {
            "model_module": "@jupyter-widgets/controls",
            "model_name": "FloatProgressModel",
            "model_module_version": "1.5.0",
            "state": {
              "_dom_classes": [
                
              ],
              "_model_module": "@jupyter-widgets/controls",
              "_model_module_version": "1.5.0",
              "_model_name": "FloatProgressModel",
              "_view_count": null,
              "_view_module": "@jupyter-widgets/controls",
              "_view_module_version": "1.5.0",
              "_view_name": "ProgressView",
              "bar_style": "",
              "description": "",
              "description_tooltip": null,
              "layout": "IPY_MODEL_003724e0e64a406f9ae4db96c8437ee7",
              "max": 1500,
              "min": 0,
              "orientation": "horizontal",
              "style": "IPY_MODEL_d4e5b775152e43aab43285dc6dc16d9c",
              "value": 1500
            }
          },
          "298ddade07df4081a8d624e7fc500dcb": {
            "model_module": "@jupyter-widgets/controls",
            "model_name": "HTMLModel",
            "model_module_version": "1.5.0",
            "state": {
              "_dom_classes": [
                
              ],
              "_model_module": "@jupyter-widgets/controls",
              "_model_module_version": "1.5.0",
              "_model_name": "HTMLModel",
              "_view_count": null,
              "_view_module": "@jupyter-widgets/controls",
              "_view_module_version": "1.5.0",
              "_view_name": "HTMLView",
              "description": "",
              "description_tooltip": null,
              "layout": "IPY_MODEL_e363ccb35b1b4b399e8fecaf491e999a",
              "placeholder": "​",
              "style": "IPY_MODEL_0d3625bf98d641659c312071d30249a6",
              "value": " 1500/1500 [00:01&lt;00:00, 993.68 examples/s]"
            }
          },
          "0243a32f0fbd48baa44688b86f16bab5": {
            "model_module": "@jupyter-widgets/base",
            "model_name": "LayoutModel",
            "model_module_version": "1.2.0",
            "state": {
              "_model_module": "@jupyter-widgets/base",
              "_model_module_version": "1.2.0",
              "_model_name": "LayoutModel",
              "_view_count": null,
              "_view_module": "@jupyter-widgets/base",
              "_view_module_version": "1.2.0",
              "_view_name": "LayoutView",
              "align_content": null,
              "align_items": null,
              "align_self": null,
              "border": null,
              "bottom": null,
              "display": null,
              "flex": null,
              "flex_flow": null,
              "grid_area": null,
              "grid_auto_columns": null,
              "grid_auto_flow": null,
              "grid_auto_rows": null,
              "grid_column": null,
              "grid_gap": null,
              "grid_row": null,
              "grid_template_areas": null,
              "grid_template_columns": null,
              "grid_template_rows": null,
              "height": null,
              "justify_content": null,
              "justify_items": null,
              "left": null,
              "margin": null,
              "max_height": null,
              "max_width": null,
              "min_height": null,
              "min_width": null,
              "object_fit": null,
              "object_position": null,
              "order": null,
              "overflow": null,
              "overflow_x": null,
              "overflow_y": null,
              "padding": null,
              "right": null,
              "top": null,
              "visibility": "hidden",
              "width": null
            }
          },
          "c4b86c1a570940d989750e3ca323c5a9": {
            "model_module": "@jupyter-widgets/base",
            "model_name": "LayoutModel",
            "model_module_version": "1.2.0",
            "state": {
              "_model_module": "@jupyter-widgets/base",
              "_model_module_version": "1.2.0",
              "_model_name": "LayoutModel",
              "_view_count": null,
              "_view_module": "@jupyter-widgets/base",
              "_view_module_version": "1.2.0",
              "_view_name": "LayoutView",
              "align_content": null,
              "align_items": null,
              "align_self": null,
              "border": null,
              "bottom": null,
              "display": null,
              "flex": null,
              "flex_flow": null,
              "grid_area": null,
              "grid_auto_columns": null,
              "grid_auto_flow": null,
              "grid_auto_rows": null,
              "grid_column": null,
              "grid_gap": null,
              "grid_row": null,
              "grid_template_areas": null,
              "grid_template_columns": null,
              "grid_template_rows": null,
              "height": null,
              "justify_content": null,
              "justify_items": null,
              "left": null,
              "margin": null,
              "max_height": null,
              "max_width": null,
              "min_height": null,
              "min_width": null,
              "object_fit": null,
              "object_position": null,
              "order": null,
              "overflow": null,
              "overflow_x": null,
              "overflow_y": null,
              "padding": null,
              "right": null,
              "top": null,
              "visibility": null,
              "width": null
            }
          },
          "26336a992866434b88475ce00347ef31": {
            "model_module": "@jupyter-widgets/controls",
            "model_name": "DescriptionStyleModel",
            "model_module_version": "1.5.0",
            "state": {
              "_model_module": "@jupyter-widgets/controls",
              "_model_module_version": "1.5.0",
              "_model_name": "DescriptionStyleModel",
              "_view_count": null,
              "_view_module": "@jupyter-widgets/base",
              "_view_module_version": "1.2.0",
              "_view_name": "StyleView",
              "description_width": ""
            }
          },
          "003724e0e64a406f9ae4db96c8437ee7": {
            "model_module": "@jupyter-widgets/base",
            "model_name": "LayoutModel",
            "model_module_version": "1.2.0",
            "state": {
              "_model_module": "@jupyter-widgets/base",
              "_model_module_version": "1.2.0",
              "_model_name": "LayoutModel",
              "_view_count": null,
              "_view_module": "@jupyter-widgets/base",
              "_view_module_version": "1.2.0",
              "_view_name": "LayoutView",
              "align_content": null,
              "align_items": null,
              "align_self": null,
              "border": null,
              "bottom": null,
              "display": null,
              "flex": null,
              "flex_flow": null,
              "grid_area": null,
              "grid_auto_columns": null,
              "grid_auto_flow": null,
              "grid_auto_rows": null,
              "grid_column": null,
              "grid_gap": null,
              "grid_row": null,
              "grid_template_areas": null,
              "grid_template_columns": null,
              "grid_template_rows": null,
              "height": null,
              "justify_content": null,
              "justify_items": null,
              "left": null,
              "margin": null,
              "max_height": null,
              "max_width": null,
              "min_height": null,
              "min_width": null,
              "object_fit": null,
              "object_position": null,
              "order": null,
              "overflow": null,
              "overflow_x": null,
              "overflow_y": null,
              "padding": null,
              "right": null,
              "top": null,
              "visibility": null,
              "width": null
            }
          },
          "d4e5b775152e43aab43285dc6dc16d9c": {
            "model_module": "@jupyter-widgets/controls",
            "model_name": "ProgressStyleModel",
            "model_module_version": "1.5.0",
            "state": {
              "_model_module": "@jupyter-widgets/controls",
              "_model_module_version": "1.5.0",
              "_model_name": "ProgressStyleModel",
              "_view_count": null,
              "_view_module": "@jupyter-widgets/base",
              "_view_module_version": "1.2.0",
              "_view_name": "StyleView",
              "bar_color": null,
              "description_width": ""
            }
          },
          "e363ccb35b1b4b399e8fecaf491e999a": {
            "model_module": "@jupyter-widgets/base",
            "model_name": "LayoutModel",
            "model_module_version": "1.2.0",
            "state": {
              "_model_module": "@jupyter-widgets/base",
              "_model_module_version": "1.2.0",
              "_model_name": "LayoutModel",
              "_view_count": null,
              "_view_module": "@jupyter-widgets/base",
              "_view_module_version": "1.2.0",
              "_view_name": "LayoutView",
              "align_content": null,
              "align_items": null,
              "align_self": null,
              "border": null,
              "bottom": null,
              "display": null,
              "flex": null,
              "flex_flow": null,
              "grid_area": null,
              "grid_auto_columns": null,
              "grid_auto_flow": null,
              "grid_auto_rows": null,
              "grid_column": null,
              "grid_gap": null,
              "grid_row": null,
              "grid_template_areas": null,
              "grid_template_columns": null,
              "grid_template_rows": null,
              "height": null,
              "justify_content": null,
              "justify_items": null,
              "left": null,
              "margin": null,
              "max_height": null,
              "max_width": null,
              "min_height": null,
              "min_width": null,
              "object_fit": null,
              "object_position": null,
              "order": null,
              "overflow": null,
              "overflow_x": null,
              "overflow_y": null,
              "padding": null,
              "right": null,
              "top": null,
              "visibility": null,
              "width": null
            }
          },
          "0d3625bf98d641659c312071d30249a6": {
            "model_module": "@jupyter-widgets/controls",
            "model_name": "DescriptionStyleModel",
            "model_module_version": "1.5.0",
            "state": {
              "_model_module": "@jupyter-widgets/controls",
              "_model_module_version": "1.5.0",
              "_model_name": "DescriptionStyleModel",
              "_view_count": null,
              "_view_module": "@jupyter-widgets/base",
              "_view_module_version": "1.2.0",
              "_view_name": "StyleView",
              "description_width": ""
            }
          },
          "9c6ac910df4c415da00260c181e311e8": {
            "model_module": "@jupyter-widgets/controls",
            "model_name": "HBoxModel",
            "model_module_version": "1.5.0",
            "state": {
              "_dom_classes": [
                
              ],
              "_model_module": "@jupyter-widgets/controls",
              "_model_module_version": "1.5.0",
              "_model_name": "HBoxModel",
              "_view_count": null,
              "_view_module": "@jupyter-widgets/controls",
              "_view_module_version": "1.5.0",
              "_view_name": "HBoxView",
              "box_style": "",
              "children": [
                "IPY_MODEL_9e5db0c70f894ce5843cdb29f1850188",
                "IPY_MODEL_617216dc46d447c9807ad19f1907064d",
                "IPY_MODEL_5782dbc7b9de425ca848890752dc6dc0"
              ],
              "layout": "IPY_MODEL_60c65dc5c1be4d3fb4fa45db298420ef"
            }
          },
          "9e5db0c70f894ce5843cdb29f1850188": {
            "model_module": "@jupyter-widgets/controls",
            "model_name": "HTMLModel",
            "model_module_version": "1.5.0",
            "state": {
              "_dom_classes": [
                
              ],
              "_model_module": "@jupyter-widgets/controls",
              "_model_module_version": "1.5.0",
              "_model_name": "HTMLModel",
              "_view_count": null,
              "_view_module": "@jupyter-widgets/controls",
              "_view_module_version": "1.5.0",
              "_view_name": "HTMLView",
              "description": "",
              "description_tooltip": null,
              "layout": "IPY_MODEL_be79fd20d82d43988e3969d8d56f0f07",
              "placeholder": "​",
              "style": "IPY_MODEL_473757f1644d41abb9f34b2f59e9eddc",
              "value": "Map: 100%"
            }
          },
          "617216dc46d447c9807ad19f1907064d": {
            "model_module": "@jupyter-widgets/controls",
            "model_name": "FloatProgressModel",
            "model_module_version": "1.5.0",
            "state": {
              "_dom_classes": [
                
              ],
              "_model_module": "@jupyter-widgets/controls",
              "_model_module_version": "1.5.0",
              "_model_name": "FloatProgressModel",
              "_view_count": null,
              "_view_module": "@jupyter-widgets/controls",
              "_view_module_version": "1.5.0",
              "_view_name": "ProgressView",
              "bar_style": "",
              "description": "",
              "description_tooltip": null,
              "layout": "IPY_MODEL_e5a8de9d09924a2b9cc910af047c1219",
              "max": 500,
              "min": 0,
              "orientation": "horizontal",
              "style": "IPY_MODEL_576c6fe6993f444998a3a7d4a414aba2",
              "value": 500
            }
          },
          "5782dbc7b9de425ca848890752dc6dc0": {
            "model_module": "@jupyter-widgets/controls",
            "model_name": "HTMLModel",
            "model_module_version": "1.5.0",
            "state": {
              "_dom_classes": [
                
              ],
              "_model_module": "@jupyter-widgets/controls",
              "_model_module_version": "1.5.0",
              "_model_name": "HTMLModel",
              "_view_count": null,
              "_view_module": "@jupyter-widgets/controls",
              "_view_module_version": "1.5.0",
              "_view_name": "HTMLView",
              "description": "",
              "description_tooltip": null,
              "layout": "IPY_MODEL_2563a937aa6946f09012f1cd8dca5d9a",
              "placeholder": "​",
              "style": "IPY_MODEL_c17ab8f0f27a4ac8b04a4b46efeeac10",
              "value": " 500/500 [00:00&lt;00:00, 954.57 examples/s]"
            }
          },
          "60c65dc5c1be4d3fb4fa45db298420ef": {
            "model_module": "@jupyter-widgets/base",
            "model_name": "LayoutModel",
            "model_module_version": "1.2.0",
            "state": {
              "_model_module": "@jupyter-widgets/base",
              "_model_module_version": "1.2.0",
              "_model_name": "LayoutModel",
              "_view_count": null,
              "_view_module": "@jupyter-widgets/base",
              "_view_module_version": "1.2.0",
              "_view_name": "LayoutView",
              "align_content": null,
              "align_items": null,
              "align_self": null,
              "border": null,
              "bottom": null,
              "display": null,
              "flex": null,
              "flex_flow": null,
              "grid_area": null,
              "grid_auto_columns": null,
              "grid_auto_flow": null,
              "grid_auto_rows": null,
              "grid_column": null,
              "grid_gap": null,
              "grid_row": null,
              "grid_template_areas": null,
              "grid_template_columns": null,
              "grid_template_rows": null,
              "height": null,
              "justify_content": null,
              "justify_items": null,
              "left": null,
              "margin": null,
              "max_height": null,
              "max_width": null,
              "min_height": null,
              "min_width": null,
              "object_fit": null,
              "object_position": null,
              "order": null,
              "overflow": null,
              "overflow_x": null,
              "overflow_y": null,
              "padding": null,
              "right": null,
              "top": null,
              "visibility": "hidden",
              "width": null
            }
          },
          "be79fd20d82d43988e3969d8d56f0f07": {
            "model_module": "@jupyter-widgets/base",
            "model_name": "LayoutModel",
            "model_module_version": "1.2.0",
            "state": {
              "_model_module": "@jupyter-widgets/base",
              "_model_module_version": "1.2.0",
              "_model_name": "LayoutModel",
              "_view_count": null,
              "_view_module": "@jupyter-widgets/base",
              "_view_module_version": "1.2.0",
              "_view_name": "LayoutView",
              "align_content": null,
              "align_items": null,
              "align_self": null,
              "border": null,
              "bottom": null,
              "display": null,
              "flex": null,
              "flex_flow": null,
              "grid_area": null,
              "grid_auto_columns": null,
              "grid_auto_flow": null,
              "grid_auto_rows": null,
              "grid_column": null,
              "grid_gap": null,
              "grid_row": null,
              "grid_template_areas": null,
              "grid_template_columns": null,
              "grid_template_rows": null,
              "height": null,
              "justify_content": null,
              "justify_items": null,
              "left": null,
              "margin": null,
              "max_height": null,
              "max_width": null,
              "min_height": null,
              "min_width": null,
              "object_fit": null,
              "object_position": null,
              "order": null,
              "overflow": null,
              "overflow_x": null,
              "overflow_y": null,
              "padding": null,
              "right": null,
              "top": null,
              "visibility": null,
              "width": null
            }
          },
          "473757f1644d41abb9f34b2f59e9eddc": {
            "model_module": "@jupyter-widgets/controls",
            "model_name": "DescriptionStyleModel",
            "model_module_version": "1.5.0",
            "state": {
              "_model_module": "@jupyter-widgets/controls",
              "_model_module_version": "1.5.0",
              "_model_name": "DescriptionStyleModel",
              "_view_count": null,
              "_view_module": "@jupyter-widgets/base",
              "_view_module_version": "1.2.0",
              "_view_name": "StyleView",
              "description_width": ""
            }
          },
          "e5a8de9d09924a2b9cc910af047c1219": {
            "model_module": "@jupyter-widgets/base",
            "model_name": "LayoutModel",
            "model_module_version": "1.2.0",
            "state": {
              "_model_module": "@jupyter-widgets/base",
              "_model_module_version": "1.2.0",
              "_model_name": "LayoutModel",
              "_view_count": null,
              "_view_module": "@jupyter-widgets/base",
              "_view_module_version": "1.2.0",
              "_view_name": "LayoutView",
              "align_content": null,
              "align_items": null,
              "align_self": null,
              "border": null,
              "bottom": null,
              "display": null,
              "flex": null,
              "flex_flow": null,
              "grid_area": null,
              "grid_auto_columns": null,
              "grid_auto_flow": null,
              "grid_auto_rows": null,
              "grid_column": null,
              "grid_gap": null,
              "grid_row": null,
              "grid_template_areas": null,
              "grid_template_columns": null,
              "grid_template_rows": null,
              "height": null,
              "justify_content": null,
              "justify_items": null,
              "left": null,
              "margin": null,
              "max_height": null,
              "max_width": null,
              "min_height": null,
              "min_width": null,
              "object_fit": null,
              "object_position": null,
              "order": null,
              "overflow": null,
              "overflow_x": null,
              "overflow_y": null,
              "padding": null,
              "right": null,
              "top": null,
              "visibility": null,
              "width": null
            }
          },
          "576c6fe6993f444998a3a7d4a414aba2": {
            "model_module": "@jupyter-widgets/controls",
            "model_name": "ProgressStyleModel",
            "model_module_version": "1.5.0",
            "state": {
              "_model_module": "@jupyter-widgets/controls",
              "_model_module_version": "1.5.0",
              "_model_name": "ProgressStyleModel",
              "_view_count": null,
              "_view_module": "@jupyter-widgets/base",
              "_view_module_version": "1.2.0",
              "_view_name": "StyleView",
              "bar_color": null,
              "description_width": ""
            }
          },
          "2563a937aa6946f09012f1cd8dca5d9a": {
            "model_module": "@jupyter-widgets/base",
            "model_name": "LayoutModel",
            "model_module_version": "1.2.0",
            "state": {
              "_model_module": "@jupyter-widgets/base",
              "_model_module_version": "1.2.0",
              "_model_name": "LayoutModel",
              "_view_count": null,
              "_view_module": "@jupyter-widgets/base",
              "_view_module_version": "1.2.0",
              "_view_name": "LayoutView",
              "align_content": null,
              "align_items": null,
              "align_self": null,
              "border": null,
              "bottom": null,
              "display": null,
              "flex": null,
              "flex_flow": null,
              "grid_area": null,
              "grid_auto_columns": null,
              "grid_auto_flow": null,
              "grid_auto_rows": null,
              "grid_column": null,
              "grid_gap": null,
              "grid_row": null,
              "grid_template_areas": null,
              "grid_template_columns": null,
              "grid_template_rows": null,
              "height": null,
              "justify_content": null,
              "justify_items": null,
              "left": null,
              "margin": null,
              "max_height": null,
              "max_width": null,
              "min_height": null,
              "min_width": null,
              "object_fit": null,
              "object_position": null,
              "order": null,
              "overflow": null,
              "overflow_x": null,
              "overflow_y": null,
              "padding": null,
              "right": null,
              "top": null,
              "visibility": null,
              "width": null
            }
          },
          "c17ab8f0f27a4ac8b04a4b46efeeac10": {
            "model_module": "@jupyter-widgets/controls",
            "model_name": "DescriptionStyleModel",
            "model_module_version": "1.5.0",
            "state": {
              "_model_module": "@jupyter-widgets/controls",
              "_model_module_version": "1.5.0",
              "_model_name": "DescriptionStyleModel",
              "_view_count": null,
              "_view_module": "@jupyter-widgets/base",
              "_view_module_version": "1.2.0",
              "_view_name": "StyleView",
              "description_width": ""
            }
          },
          "ecc14ddd2ce9431ca332f784bf025bcb": {
            "model_module": "@jupyter-widgets/controls",
            "model_name": "HBoxModel",
            "model_module_version": "1.5.0",
            "state": {
              "_dom_classes": [
                
              ],
              "_model_module": "@jupyter-widgets/controls",
              "_model_module_version": "1.5.0",
              "_model_name": "HBoxModel",
              "_view_count": null,
              "_view_module": "@jupyter-widgets/controls",
              "_view_module_version": "1.5.0",
              "_view_name": "HBoxView",
              "box_style": "",
              "children": [
                "IPY_MODEL_a8af69cad5ec46f99a4879488c211de3",
                "IPY_MODEL_2b3b8ff697e34ea199e2e95c2770f0aa",
                "IPY_MODEL_fe557a19be0f4d099f7763e9ba120d10"
              ],
              "layout": "IPY_MODEL_b870f390fcd14b23839f3c260c53554e"
            }
          },
          "a8af69cad5ec46f99a4879488c211de3": {
            "model_module": "@jupyter-widgets/controls",
            "model_name": "HTMLModel",
            "model_module_version": "1.5.0",
            "state": {
              "_dom_classes": [
                
              ],
              "_model_module": "@jupyter-widgets/controls",
              "_model_module_version": "1.5.0",
              "_model_name": "HTMLModel",
              "_view_count": null,
              "_view_module": "@jupyter-widgets/controls",
              "_view_module_version": "1.5.0",
              "_view_name": "HTMLView",
              "description": "",
              "description_tooltip": null,
              "layout": "IPY_MODEL_24e89cf83ca045c28c32d625fe12bfd7",
              "placeholder": "​",
              "style": "IPY_MODEL_3f1a584e2ce345ec945d86c009e37de8",
              "value": "Filter: 100%"
            }
          },
          "2b3b8ff697e34ea199e2e95c2770f0aa": {
            "model_module": "@jupyter-widgets/controls",
            "model_name": "FloatProgressModel",
            "model_module_version": "1.5.0",
            "state": {
              "_dom_classes": [
                
              ],
              "_model_module": "@jupyter-widgets/controls",
              "_model_module_version": "1.5.0",
              "_model_name": "FloatProgressModel",
              "_view_count": null,
              "_view_module": "@jupyter-widgets/controls",
              "_view_module_version": "1.5.0",
              "_view_name": "ProgressView",
              "bar_style": "",
              "description": "",
              "description_tooltip": null,
              "layout": "IPY_MODEL_8e4c6623f58a45cab54b3694db2116b8",
              "max": 12460,
              "min": 0,
              "orientation": "horizontal",
              "style": "IPY_MODEL_31de4552ec1e40858fb99890c2eb0bc5",
              "value": 12460
            }
          },
          "fe557a19be0f4d099f7763e9ba120d10": {
            "model_module": "@jupyter-widgets/controls",
            "model_name": "HTMLModel",
            "model_module_version": "1.5.0",
            "state": {
              "_dom_classes": [
                
              ],
              "_model_module": "@jupyter-widgets/controls",
              "_model_module_version": "1.5.0",
              "_model_name": "HTMLModel",
              "_view_count": null,
              "_view_module": "@jupyter-widgets/controls",
              "_view_module_version": "1.5.0",
              "_view_name": "HTMLView",
              "description": "",
              "description_tooltip": null,
              "layout": "IPY_MODEL_9dd6dfe205444393be17c4f20c5ea4b3",
              "placeholder": "​",
              "style": "IPY_MODEL_6a26a7e5509d4ca6a4932538db801a82",
              "value": " 12460/12460 [00:07&lt;00:00, 1505.48 examples/s]"
            }
          },
          "b870f390fcd14b23839f3c260c53554e": {
            "model_module": "@jupyter-widgets/base",
            "model_name": "LayoutModel",
            "model_module_version": "1.2.0",
            "state": {
              "_model_module": "@jupyter-widgets/base",
              "_model_module_version": "1.2.0",
              "_model_name": "LayoutModel",
              "_view_count": null,
              "_view_module": "@jupyter-widgets/base",
              "_view_module_version": "1.2.0",
              "_view_name": "LayoutView",
              "align_content": null,
              "align_items": null,
              "align_self": null,
              "border": null,
              "bottom": null,
              "display": null,
              "flex": null,
              "flex_flow": null,
              "grid_area": null,
              "grid_auto_columns": null,
              "grid_auto_flow": null,
              "grid_auto_rows": null,
              "grid_column": null,
              "grid_gap": null,
              "grid_row": null,
              "grid_template_areas": null,
              "grid_template_columns": null,
              "grid_template_rows": null,
              "height": null,
              "justify_content": null,
              "justify_items": null,
              "left": null,
              "margin": null,
              "max_height": null,
              "max_width": null,
              "min_height": null,
              "min_width": null,
              "object_fit": null,
              "object_position": null,
              "order": null,
              "overflow": null,
              "overflow_x": null,
              "overflow_y": null,
              "padding": null,
              "right": null,
              "top": null,
              "visibility": "hidden",
              "width": null
            }
          },
          "24e89cf83ca045c28c32d625fe12bfd7": {
            "model_module": "@jupyter-widgets/base",
            "model_name": "LayoutModel",
            "model_module_version": "1.2.0",
            "state": {
              "_model_module": "@jupyter-widgets/base",
              "_model_module_version": "1.2.0",
              "_model_name": "LayoutModel",
              "_view_count": null,
              "_view_module": "@jupyter-widgets/base",
              "_view_module_version": "1.2.0",
              "_view_name": "LayoutView",
              "align_content": null,
              "align_items": null,
              "align_self": null,
              "border": null,
              "bottom": null,
              "display": null,
              "flex": null,
              "flex_flow": null,
              "grid_area": null,
              "grid_auto_columns": null,
              "grid_auto_flow": null,
              "grid_auto_rows": null,
              "grid_column": null,
              "grid_gap": null,
              "grid_row": null,
              "grid_template_areas": null,
              "grid_template_columns": null,
              "grid_template_rows": null,
              "height": null,
              "justify_content": null,
              "justify_items": null,
              "left": null,
              "margin": null,
              "max_height": null,
              "max_width": null,
              "min_height": null,
              "min_width": null,
              "object_fit": null,
              "object_position": null,
              "order": null,
              "overflow": null,
              "overflow_x": null,
              "overflow_y": null,
              "padding": null,
              "right": null,
              "top": null,
              "visibility": null,
              "width": null
            }
          },
          "3f1a584e2ce345ec945d86c009e37de8": {
            "model_module": "@jupyter-widgets/controls",
            "model_name": "DescriptionStyleModel",
            "model_module_version": "1.5.0",
            "state": {
              "_model_module": "@jupyter-widgets/controls",
              "_model_module_version": "1.5.0",
              "_model_name": "DescriptionStyleModel",
              "_view_count": null,
              "_view_module": "@jupyter-widgets/base",
              "_view_module_version": "1.2.0",
              "_view_name": "StyleView",
              "description_width": ""
            }
          },
          "8e4c6623f58a45cab54b3694db2116b8": {
            "model_module": "@jupyter-widgets/base",
            "model_name": "LayoutModel",
            "model_module_version": "1.2.0",
            "state": {
              "_model_module": "@jupyter-widgets/base",
              "_model_module_version": "1.2.0",
              "_model_name": "LayoutModel",
              "_view_count": null,
              "_view_module": "@jupyter-widgets/base",
              "_view_module_version": "1.2.0",
              "_view_name": "LayoutView",
              "align_content": null,
              "align_items": null,
              "align_self": null,
              "border": null,
              "bottom": null,
              "display": null,
              "flex": null,
              "flex_flow": null,
              "grid_area": null,
              "grid_auto_columns": null,
              "grid_auto_flow": null,
              "grid_auto_rows": null,
              "grid_column": null,
              "grid_gap": null,
              "grid_row": null,
              "grid_template_areas": null,
              "grid_template_columns": null,
              "grid_template_rows": null,
              "height": null,
              "justify_content": null,
              "justify_items": null,
              "left": null,
              "margin": null,
              "max_height": null,
              "max_width": null,
              "min_height": null,
              "min_width": null,
              "object_fit": null,
              "object_position": null,
              "order": null,
              "overflow": null,
              "overflow_x": null,
              "overflow_y": null,
              "padding": null,
              "right": null,
              "top": null,
              "visibility": null,
              "width": null
            }
          },
          "31de4552ec1e40858fb99890c2eb0bc5": {
            "model_module": "@jupyter-widgets/controls",
            "model_name": "ProgressStyleModel",
            "model_module_version": "1.5.0",
            "state": {
              "_model_module": "@jupyter-widgets/controls",
              "_model_module_version": "1.5.0",
              "_model_name": "ProgressStyleModel",
              "_view_count": null,
              "_view_module": "@jupyter-widgets/base",
              "_view_module_version": "1.2.0",
              "_view_name": "StyleView",
              "bar_color": null,
              "description_width": ""
            }
          },
          "9dd6dfe205444393be17c4f20c5ea4b3": {
            "model_module": "@jupyter-widgets/base",
            "model_name": "LayoutModel",
            "model_module_version": "1.2.0",
            "state": {
              "_model_module": "@jupyter-widgets/base",
              "_model_module_version": "1.2.0",
              "_model_name": "LayoutModel",
              "_view_count": null,
              "_view_module": "@jupyter-widgets/base",
              "_view_module_version": "1.2.0",
              "_view_name": "LayoutView",
              "align_content": null,
              "align_items": null,
              "align_self": null,
              "border": null,
              "bottom": null,
              "display": null,
              "flex": null,
              "flex_flow": null,
              "grid_area": null,
              "grid_auto_columns": null,
              "grid_auto_flow": null,
              "grid_auto_rows": null,
              "grid_column": null,
              "grid_gap": null,
              "grid_row": null,
              "grid_template_areas": null,
              "grid_template_columns": null,
              "grid_template_rows": null,
              "height": null,
              "justify_content": null,
              "justify_items": null,
              "left": null,
              "margin": null,
              "max_height": null,
              "max_width": null,
              "min_height": null,
              "min_width": null,
              "object_fit": null,
              "object_position": null,
              "order": null,
              "overflow": null,
              "overflow_x": null,
              "overflow_y": null,
              "padding": null,
              "right": null,
              "top": null,
              "visibility": null,
              "width": null
            }
          },
          "6a26a7e5509d4ca6a4932538db801a82": {
            "model_module": "@jupyter-widgets/controls",
            "model_name": "DescriptionStyleModel",
            "model_module_version": "1.5.0",
            "state": {
              "_model_module": "@jupyter-widgets/controls",
              "_model_module_version": "1.5.0",
              "_model_name": "DescriptionStyleModel",
              "_view_count": null,
              "_view_module": "@jupyter-widgets/base",
              "_view_module_version": "1.2.0",
              "_view_name": "StyleView",
              "description_width": ""
            }
          },
          "55e6587e847645ae934c18bdeefd8aac": {
            "model_module": "@jupyter-widgets/controls",
            "model_name": "HBoxModel",
            "model_module_version": "1.5.0",
            "state": {
              "_dom_classes": [
                
              ],
              "_model_module": "@jupyter-widgets/controls",
              "_model_module_version": "1.5.0",
              "_model_name": "HBoxModel",
              "_view_count": null,
              "_view_module": "@jupyter-widgets/controls",
              "_view_module_version": "1.5.0",
              "_view_name": "HBoxView",
              "box_style": "",
              "children": [
                "IPY_MODEL_8f737c1823054eff8e3f796903c3a291",
                "IPY_MODEL_63f0d8a9c76941cea36df0e2965f9d4b",
                "IPY_MODEL_f6649f305f1f4558a8e8edba1d51751b"
              ],
              "layout": "IPY_MODEL_7fa33286b5a2429c8e22502c301a7d5f"
            }
          },
          "8f737c1823054eff8e3f796903c3a291": {
            "model_module": "@jupyter-widgets/controls",
            "model_name": "HTMLModel",
            "model_module_version": "1.5.0",
            "state": {
              "_dom_classes": [
                
              ],
              "_model_module": "@jupyter-widgets/controls",
              "_model_module_version": "1.5.0",
              "_model_name": "HTMLModel",
              "_view_count": null,
              "_view_module": "@jupyter-widgets/controls",
              "_view_module_version": "1.5.0",
              "_view_name": "HTMLView",
              "description": "",
              "description_tooltip": null,
              "layout": "IPY_MODEL_dd1fe652a733458e99e15e11e50b206e",
              "placeholder": "​",
              "style": "IPY_MODEL_54b0fac1e9264aa7b7f2c2f658061149",
              "value": "Filter: 100%"
            }
          },
          "63f0d8a9c76941cea36df0e2965f9d4b": {
            "model_module": "@jupyter-widgets/controls",
            "model_name": "FloatProgressModel",
            "model_module_version": "1.5.0",
            "state": {
              "_dom_classes": [
                
              ],
              "_model_module": "@jupyter-widgets/controls",
              "_model_module_version": "1.5.0",
              "_model_name": "FloatProgressModel",
              "_view_count": null,
              "_view_module": "@jupyter-widgets/controls",
              "_view_module_version": "1.5.0",
              "_view_name": "ProgressView",
              "bar_style": "",
              "description": "",
              "description_tooltip": null,
              "layout": "IPY_MODEL_0a17a79e6d8b49fabf1385a74832938e",
              "max": 1500,
              "min": 0,
              "orientation": "horizontal",
              "style": "IPY_MODEL_2efaf87e29004c0ea7faf31d76129bf9",
              "value": 1500
            }
          },
          "f6649f305f1f4558a8e8edba1d51751b": {
            "model_module": "@jupyter-widgets/controls",
            "model_name": "HTMLModel",
            "model_module_version": "1.5.0",
            "state": {
              "_dom_classes": [
                
              ],
              "_model_module": "@jupyter-widgets/controls",
              "_model_module_version": "1.5.0",
              "_model_name": "HTMLModel",
              "_view_count": null,
              "_view_module": "@jupyter-widgets/controls",
              "_view_module_version": "1.5.0",
              "_view_name": "HTMLView",
              "description": "",
              "description_tooltip": null,
              "layout": "IPY_MODEL_1df90dfc5db542c59552e4b8e6b6cc10",
              "placeholder": "​",
              "style": "IPY_MODEL_b2ecee78f07743dd9c3d90b123a0ff77",
              "value": " 1500/1500 [00:01&lt;00:00, 1070.05 examples/s]"
            }
          },
          "7fa33286b5a2429c8e22502c301a7d5f": {
            "model_module": "@jupyter-widgets/base",
            "model_name": "LayoutModel",
            "model_module_version": "1.2.0",
            "state": {
              "_model_module": "@jupyter-widgets/base",
              "_model_module_version": "1.2.0",
              "_model_name": "LayoutModel",
              "_view_count": null,
              "_view_module": "@jupyter-widgets/base",
              "_view_module_version": "1.2.0",
              "_view_name": "LayoutView",
              "align_content": null,
              "align_items": null,
              "align_self": null,
              "border": null,
              "bottom": null,
              "display": null,
              "flex": null,
              "flex_flow": null,
              "grid_area": null,
              "grid_auto_columns": null,
              "grid_auto_flow": null,
              "grid_auto_rows": null,
              "grid_column": null,
              "grid_gap": null,
              "grid_row": null,
              "grid_template_areas": null,
              "grid_template_columns": null,
              "grid_template_rows": null,
              "height": null,
              "justify_content": null,
              "justify_items": null,
              "left": null,
              "margin": null,
              "max_height": null,
              "max_width": null,
              "min_height": null,
              "min_width": null,
              "object_fit": null,
              "object_position": null,
              "order": null,
              "overflow": null,
              "overflow_x": null,
              "overflow_y": null,
              "padding": null,
              "right": null,
              "top": null,
              "visibility": "hidden",
              "width": null
            }
          },
          "dd1fe652a733458e99e15e11e50b206e": {
            "model_module": "@jupyter-widgets/base",
            "model_name": "LayoutModel",
            "model_module_version": "1.2.0",
            "state": {
              "_model_module": "@jupyter-widgets/base",
              "_model_module_version": "1.2.0",
              "_model_name": "LayoutModel",
              "_view_count": null,
              "_view_module": "@jupyter-widgets/base",
              "_view_module_version": "1.2.0",
              "_view_name": "LayoutView",
              "align_content": null,
              "align_items": null,
              "align_self": null,
              "border": null,
              "bottom": null,
              "display": null,
              "flex": null,
              "flex_flow": null,
              "grid_area": null,
              "grid_auto_columns": null,
              "grid_auto_flow": null,
              "grid_auto_rows": null,
              "grid_column": null,
              "grid_gap": null,
              "grid_row": null,
              "grid_template_areas": null,
              "grid_template_columns": null,
              "grid_template_rows": null,
              "height": null,
              "justify_content": null,
              "justify_items": null,
              "left": null,
              "margin": null,
              "max_height": null,
              "max_width": null,
              "min_height": null,
              "min_width": null,
              "object_fit": null,
              "object_position": null,
              "order": null,
              "overflow": null,
              "overflow_x": null,
              "overflow_y": null,
              "padding": null,
              "right": null,
              "top": null,
              "visibility": null,
              "width": null
            }
          },
          "54b0fac1e9264aa7b7f2c2f658061149": {
            "model_module": "@jupyter-widgets/controls",
            "model_name": "DescriptionStyleModel",
            "model_module_version": "1.5.0",
            "state": {
              "_model_module": "@jupyter-widgets/controls",
              "_model_module_version": "1.5.0",
              "_model_name": "DescriptionStyleModel",
              "_view_count": null,
              "_view_module": "@jupyter-widgets/base",
              "_view_module_version": "1.2.0",
              "_view_name": "StyleView",
              "description_width": ""
            }
          },
          "0a17a79e6d8b49fabf1385a74832938e": {
            "model_module": "@jupyter-widgets/base",
            "model_name": "LayoutModel",
            "model_module_version": "1.2.0",
            "state": {
              "_model_module": "@jupyter-widgets/base",
              "_model_module_version": "1.2.0",
              "_model_name": "LayoutModel",
              "_view_count": null,
              "_view_module": "@jupyter-widgets/base",
              "_view_module_version": "1.2.0",
              "_view_name": "LayoutView",
              "align_content": null,
              "align_items": null,
              "align_self": null,
              "border": null,
              "bottom": null,
              "display": null,
              "flex": null,
              "flex_flow": null,
              "grid_area": null,
              "grid_auto_columns": null,
              "grid_auto_flow": null,
              "grid_auto_rows": null,
              "grid_column": null,
              "grid_gap": null,
              "grid_row": null,
              "grid_template_areas": null,
              "grid_template_columns": null,
              "grid_template_rows": null,
              "height": null,
              "justify_content": null,
              "justify_items": null,
              "left": null,
              "margin": null,
              "max_height": null,
              "max_width": null,
              "min_height": null,
              "min_width": null,
              "object_fit": null,
              "object_position": null,
              "order": null,
              "overflow": null,
              "overflow_x": null,
              "overflow_y": null,
              "padding": null,
              "right": null,
              "top": null,
              "visibility": null,
              "width": null
            }
          },
          "2efaf87e29004c0ea7faf31d76129bf9": {
            "model_module": "@jupyter-widgets/controls",
            "model_name": "ProgressStyleModel",
            "model_module_version": "1.5.0",
            "state": {
              "_model_module": "@jupyter-widgets/controls",
              "_model_module_version": "1.5.0",
              "_model_name": "ProgressStyleModel",
              "_view_count": null,
              "_view_module": "@jupyter-widgets/base",
              "_view_module_version": "1.2.0",
              "_view_name": "StyleView",
              "bar_color": null,
              "description_width": ""
            }
          },
          "1df90dfc5db542c59552e4b8e6b6cc10": {
            "model_module": "@jupyter-widgets/base",
            "model_name": "LayoutModel",
            "model_module_version": "1.2.0",
            "state": {
              "_model_module": "@jupyter-widgets/base",
              "_model_module_version": "1.2.0",
              "_model_name": "LayoutModel",
              "_view_count": null,
              "_view_module": "@jupyter-widgets/base",
              "_view_module_version": "1.2.0",
              "_view_name": "LayoutView",
              "align_content": null,
              "align_items": null,
              "align_self": null,
              "border": null,
              "bottom": null,
              "display": null,
              "flex": null,
              "flex_flow": null,
              "grid_area": null,
              "grid_auto_columns": null,
              "grid_auto_flow": null,
              "grid_auto_rows": null,
              "grid_column": null,
              "grid_gap": null,
              "grid_row": null,
              "grid_template_areas": null,
              "grid_template_columns": null,
              "grid_template_rows": null,
              "height": null,
              "justify_content": null,
              "justify_items": null,
              "left": null,
              "margin": null,
              "max_height": null,
              "max_width": null,
              "min_height": null,
              "min_width": null,
              "object_fit": null,
              "object_position": null,
              "order": null,
              "overflow": null,
              "overflow_x": null,
              "overflow_y": null,
              "padding": null,
              "right": null,
              "top": null,
              "visibility": null,
              "width": null
            }
          },
          "b2ecee78f07743dd9c3d90b123a0ff77": {
            "model_module": "@jupyter-widgets/controls",
            "model_name": "DescriptionStyleModel",
            "model_module_version": "1.5.0",
            "state": {
              "_model_module": "@jupyter-widgets/controls",
              "_model_module_version": "1.5.0",
              "_model_name": "DescriptionStyleModel",
              "_view_count": null,
              "_view_module": "@jupyter-widgets/base",
              "_view_module_version": "1.2.0",
              "_view_name": "StyleView",
              "description_width": ""
            }
          },
          "b8129fb0a72d4706b91948701ca80952": {
            "model_module": "@jupyter-widgets/controls",
            "model_name": "HBoxModel",
            "model_module_version": "1.5.0",
            "state": {
              "_dom_classes": [
                
              ],
              "_model_module": "@jupyter-widgets/controls",
              "_model_module_version": "1.5.0",
              "_model_name": "HBoxModel",
              "_view_count": null,
              "_view_module": "@jupyter-widgets/controls",
              "_view_module_version": "1.5.0",
              "_view_name": "HBoxView",
              "box_style": "",
              "children": [
                "IPY_MODEL_3e7063891a7b41cb8f13c7dace3e6924",
                "IPY_MODEL_472eb935a0b0473883617f662946d7bd",
                "IPY_MODEL_ea6745f1dd8d49eead6642f4618112f5"
              ],
              "layout": "IPY_MODEL_de6048abfa1d47598cd094a4d9078089"
            }
          },
          "3e7063891a7b41cb8f13c7dace3e6924": {
            "model_module": "@jupyter-widgets/controls",
            "model_name": "HTMLModel",
            "model_module_version": "1.5.0",
            "state": {
              "_dom_classes": [
                
              ],
              "_model_module": "@jupyter-widgets/controls",
              "_model_module_version": "1.5.0",
              "_model_name": "HTMLModel",
              "_view_count": null,
              "_view_module": "@jupyter-widgets/controls",
              "_view_module_version": "1.5.0",
              "_view_name": "HTMLView",
              "description": "",
              "description_tooltip": null,
              "layout": "IPY_MODEL_16bf286e1dc34f598331c2d9df3f8032",
              "placeholder": "​",
              "style": "IPY_MODEL_a0706c11bdf64951a9129e6edea0f06e",
              "value": "Filter: 100%"
            }
          },
          "472eb935a0b0473883617f662946d7bd": {
            "model_module": "@jupyter-widgets/controls",
            "model_name": "FloatProgressModel",
            "model_module_version": "1.5.0",
            "state": {
              "_dom_classes": [
                
              ],
              "_model_module": "@jupyter-widgets/controls",
              "_model_module_version": "1.5.0",
              "_model_name": "FloatProgressModel",
              "_view_count": null,
              "_view_module": "@jupyter-widgets/controls",
              "_view_module_version": "1.5.0",
              "_view_name": "ProgressView",
              "bar_style": "",
              "description": "",
              "description_tooltip": null,
              "layout": "IPY_MODEL_910a3bfa24b74b7abb73383bae73c427",
              "max": 500,
              "min": 0,
              "orientation": "horizontal",
              "style": "IPY_MODEL_93b452580d824693affff7b5ea6bf75d",
              "value": 500
            }
          },
          "ea6745f1dd8d49eead6642f4618112f5": {
            "model_module": "@jupyter-widgets/controls",
            "model_name": "HTMLModel",
            "model_module_version": "1.5.0",
            "state": {
              "_dom_classes": [
                
              ],
              "_model_module": "@jupyter-widgets/controls",
              "_model_module_version": "1.5.0",
              "_model_name": "HTMLModel",
              "_view_count": null,
              "_view_module": "@jupyter-widgets/controls",
              "_view_module_version": "1.5.0",
              "_view_name": "HTMLView",
              "description": "",
              "description_tooltip": null,
              "layout": "IPY_MODEL_186a694237444a1a97108b70649c35ac",
              "placeholder": "​",
              "style": "IPY_MODEL_e082af912d2a4b1ea6e8bb160fcea318",
              "value": " 500/500 [00:00&lt;00:00, 1004.11 examples/s]"
            }
          },
          "de6048abfa1d47598cd094a4d9078089": {
            "model_module": "@jupyter-widgets/base",
            "model_name": "LayoutModel",
            "model_module_version": "1.2.0",
            "state": {
              "_model_module": "@jupyter-widgets/base",
              "_model_module_version": "1.2.0",
              "_model_name": "LayoutModel",
              "_view_count": null,
              "_view_module": "@jupyter-widgets/base",
              "_view_module_version": "1.2.0",
              "_view_name": "LayoutView",
              "align_content": null,
              "align_items": null,
              "align_self": null,
              "border": null,
              "bottom": null,
              "display": null,
              "flex": null,
              "flex_flow": null,
              "grid_area": null,
              "grid_auto_columns": null,
              "grid_auto_flow": null,
              "grid_auto_rows": null,
              "grid_column": null,
              "grid_gap": null,
              "grid_row": null,
              "grid_template_areas": null,
              "grid_template_columns": null,
              "grid_template_rows": null,
              "height": null,
              "justify_content": null,
              "justify_items": null,
              "left": null,
              "margin": null,
              "max_height": null,
              "max_width": null,
              "min_height": null,
              "min_width": null,
              "object_fit": null,
              "object_position": null,
              "order": null,
              "overflow": null,
              "overflow_x": null,
              "overflow_y": null,
              "padding": null,
              "right": null,
              "top": null,
              "visibility": "hidden",
              "width": null
            }
          },
          "16bf286e1dc34f598331c2d9df3f8032": {
            "model_module": "@jupyter-widgets/base",
            "model_name": "LayoutModel",
            "model_module_version": "1.2.0",
            "state": {
              "_model_module": "@jupyter-widgets/base",
              "_model_module_version": "1.2.0",
              "_model_name": "LayoutModel",
              "_view_count": null,
              "_view_module": "@jupyter-widgets/base",
              "_view_module_version": "1.2.0",
              "_view_name": "LayoutView",
              "align_content": null,
              "align_items": null,
              "align_self": null,
              "border": null,
              "bottom": null,
              "display": null,
              "flex": null,
              "flex_flow": null,
              "grid_area": null,
              "grid_auto_columns": null,
              "grid_auto_flow": null,
              "grid_auto_rows": null,
              "grid_column": null,
              "grid_gap": null,
              "grid_row": null,
              "grid_template_areas": null,
              "grid_template_columns": null,
              "grid_template_rows": null,
              "height": null,
              "justify_content": null,
              "justify_items": null,
              "left": null,
              "margin": null,
              "max_height": null,
              "max_width": null,
              "min_height": null,
              "min_width": null,
              "object_fit": null,
              "object_position": null,
              "order": null,
              "overflow": null,
              "overflow_x": null,
              "overflow_y": null,
              "padding": null,
              "right": null,
              "top": null,
              "visibility": null,
              "width": null
            }
          },
          "a0706c11bdf64951a9129e6edea0f06e": {
            "model_module": "@jupyter-widgets/controls",
            "model_name": "DescriptionStyleModel",
            "model_module_version": "1.5.0",
            "state": {
              "_model_module": "@jupyter-widgets/controls",
              "_model_module_version": "1.5.0",
              "_model_name": "DescriptionStyleModel",
              "_view_count": null,
              "_view_module": "@jupyter-widgets/base",
              "_view_module_version": "1.2.0",
              "_view_name": "StyleView",
              "description_width": ""
            }
          },
          "910a3bfa24b74b7abb73383bae73c427": {
            "model_module": "@jupyter-widgets/base",
            "model_name": "LayoutModel",
            "model_module_version": "1.2.0",
            "state": {
              "_model_module": "@jupyter-widgets/base",
              "_model_module_version": "1.2.0",
              "_model_name": "LayoutModel",
              "_view_count": null,
              "_view_module": "@jupyter-widgets/base",
              "_view_module_version": "1.2.0",
              "_view_name": "LayoutView",
              "align_content": null,
              "align_items": null,
              "align_self": null,
              "border": null,
              "bottom": null,
              "display": null,
              "flex": null,
              "flex_flow": null,
              "grid_area": null,
              "grid_auto_columns": null,
              "grid_auto_flow": null,
              "grid_auto_rows": null,
              "grid_column": null,
              "grid_gap": null,
              "grid_row": null,
              "grid_template_areas": null,
              "grid_template_columns": null,
              "grid_template_rows": null,
              "height": null,
              "justify_content": null,
              "justify_items": null,
              "left": null,
              "margin": null,
              "max_height": null,
              "max_width": null,
              "min_height": null,
              "min_width": null,
              "object_fit": null,
              "object_position": null,
              "order": null,
              "overflow": null,
              "overflow_x": null,
              "overflow_y": null,
              "padding": null,
              "right": null,
              "top": null,
              "visibility": null,
              "width": null
            }
          },
          "93b452580d824693affff7b5ea6bf75d": {
            "model_module": "@jupyter-widgets/controls",
            "model_name": "ProgressStyleModel",
            "model_module_version": "1.5.0",
            "state": {
              "_model_module": "@jupyter-widgets/controls",
              "_model_module_version": "1.5.0",
              "_model_name": "ProgressStyleModel",
              "_view_count": null,
              "_view_module": "@jupyter-widgets/base",
              "_view_module_version": "1.2.0",
              "_view_name": "StyleView",
              "bar_color": null,
              "description_width": ""
            }
          },
          "186a694237444a1a97108b70649c35ac": {
            "model_module": "@jupyter-widgets/base",
            "model_name": "LayoutModel",
            "model_module_version": "1.2.0",
            "state": {
              "_model_module": "@jupyter-widgets/base",
              "_model_module_version": "1.2.0",
              "_model_name": "LayoutModel",
              "_view_count": null,
              "_view_module": "@jupyter-widgets/base",
              "_view_module_version": "1.2.0",
              "_view_name": "LayoutView",
              "align_content": null,
              "align_items": null,
              "align_self": null,
              "border": null,
              "bottom": null,
              "display": null,
              "flex": null,
              "flex_flow": null,
              "grid_area": null,
              "grid_auto_columns": null,
              "grid_auto_flow": null,
              "grid_auto_rows": null,
              "grid_column": null,
              "grid_gap": null,
              "grid_row": null,
              "grid_template_areas": null,
              "grid_template_columns": null,
              "grid_template_rows": null,
              "height": null,
              "justify_content": null,
              "justify_items": null,
              "left": null,
              "margin": null,
              "max_height": null,
              "max_width": null,
              "min_height": null,
              "min_width": null,
              "object_fit": null,
              "object_position": null,
              "order": null,
              "overflow": null,
              "overflow_x": null,
              "overflow_y": null,
              "padding": null,
              "right": null,
              "top": null,
              "visibility": null,
              "width": null
            }
          },
          "e082af912d2a4b1ea6e8bb160fcea318": {
            "model_module": "@jupyter-widgets/controls",
            "model_name": "DescriptionStyleModel",
            "model_module_version": "1.5.0",
            "state": {
              "_model_module": "@jupyter-widgets/controls",
              "_model_module_version": "1.5.0",
              "_model_name": "DescriptionStyleModel",
              "_view_count": null,
              "_view_module": "@jupyter-widgets/base",
              "_view_module_version": "1.2.0",
              "_view_name": "StyleView",
              "description_width": ""
            }
          }
        }
      }
    },
    "nbformat": 4,
    "nbformat_minor": 0
  }